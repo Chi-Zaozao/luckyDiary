{
 "cells": [
  {
   "cell_type": "markdown",
   "metadata": {},
   "source": [
    "## 还是没看完，看了一半啦！**新的一周，*翘了合唱*，继续加油😀**"
   ]
  },
  {
   "cell_type": "markdown",
   "metadata": {},
   "source": [
    "### Neural Networks"
   ]
  },
  {
   "cell_type": "code",
   "execution_count": 2,
   "metadata": {},
   "outputs": [],
   "source": [
    "%reload_ext autoreload\n",
    "%autoreload 2\n",
    "%matplotlib inline"
   ]
  },
  {
   "cell_type": "code",
   "execution_count": 9,
   "metadata": {},
   "outputs": [
    {
     "name": "stdout",
     "output_type": "stream",
     "text": [
      "Net(\n",
      "  (conv1): Conv2d(1, 6, kernel_size=(3, 3), stride=(1, 1))\n",
      "  (conv2): Conv2d(6, 16, kernel_size=(3, 3), stride=(1, 1))\n",
      "  (fc1): Linear(in_features=576, out_features=120, bias=True)\n",
      "  (fc2): Linear(in_features=120, out_features=84, bias=True)\n",
      "  (fc3): Linear(in_features=84, out_features=10, bias=True)\n",
      ")\n"
     ]
    }
   ],
   "source": [
    "import torch\n",
    "import torch.nn as nn\n",
    "import torch.nn.functional as F\n",
    "\n",
    "class Net(nn.Module):\n",
    "    \n",
    "    def __init__(self):\n",
    "        super(Net, self).__init__()\n",
    "        # 1 input image channel, 6 output channels, 3x3 square convolution kernel\n",
    "        self.conv1=nn.Conv2d(1,6,3)\n",
    "        self.conv2=nn.Conv2d(6,16,3)\n",
    "        # an affine operation: y=Wx+b（矩阵乘法）\n",
    "        self.fc1=nn.Linear(16*6*6,120) #6*6来自于图像维度\n",
    "        self.fc2=nn.Linear(120,84)\n",
    "        self.fc3=nn.Linear(84,10)\n",
    "    def forward(self,x):\n",
    "        # Maxpooling over a (2,2) window\n",
    "        x=F.max_pool2d(F.relu(self.conv1(x)),(2,2))\n",
    "        # 若window形状是正方形，则可只指定一个数值（边长）\n",
    "        x=F.max_pool2d(F.relu(self.conv2(x)),2)\n",
    "        x=x.view(-1,self.num_flat_features(x))\n",
    "        x=F.relu(self.fc1(x))\n",
    "        x=F.relu(self.fc2(x))\n",
    "        x=self.fc3(x)\n",
    "        return x\n",
    "    def num_flat_features(self,x):\n",
    "        size=x.size()[1:]# x[1:]由x[1]到最后一个元素组成\n",
    "        num_features=1\n",
    "        for s in size:\n",
    "            num_features*=s\n",
    "        return num_features\n",
    "net=Net()\n",
    "print(net)"
   ]
  },
  {
   "cell_type": "markdown",
   "metadata": {},
   "source": [
    "尝试一个随机的 32x32 输入。注意：此网络 （LeNet） 的预期输入大小为 32x32。要在 MNIST 数据集上使用此网络，请将数据集中的图像大小调整为 32x32。"
   ]
  },
  {
   "cell_type": "code",
   "execution_count": 10,
   "metadata": {},
   "outputs": [
    {
     "name": "stdout",
     "output_type": "stream",
     "text": [
      "tensor([[ 0.1651,  0.0051,  0.0564, -0.0107, -0.1153, -0.0714,  0.0253, -0.0218,\n",
      "          0.0070,  0.0665]], grad_fn=<AddmmBackward>)\n"
     ]
    }
   ],
   "source": [
    "input=torch.randn(1,1,32,32)\n",
    "out=net(input)\n",
    "print(out)"
   ]
  },
  {
   "cell_type": "markdown",
   "metadata": {},
   "source": [
    "将所有参数的梯度缓存归零并用随机梯度反向传播："
   ]
  },
  {
   "cell_type": "code",
   "execution_count": 11,
   "metadata": {},
   "outputs": [],
   "source": [
    "net.zero_grad()\n",
    "out.backward(torch.randn(1,10))"
   ]
  },
  {
   "cell_type": "markdown",
   "metadata": {},
   "source": [
    "#### 注意：\n",
    "\n",
    "`torch.nn`只支持mini-batches。整个`torch.nn`包只支持小批量样本输入，不支持单个样本输入。\n",
    "\n",
    "例如，`nn.Conv2d`要接受一个4维Tensor*(nSamples*nChannels*Height*Width)*\n",
    "如果有单个样本，使用`input.unsqueeze(0)`来添加一个伪批量维度。"
   ]
  },
  {
   "cell_type": "markdown",
   "metadata": {},
   "source": [
    "#### 概括："
   ]
  },
  {
   "cell_type": "markdown",
   "metadata": {},
   "source": [
    "`torch.Tensor`-一个多维数组，支持autograd运算如`backward()`，并保存关于该tensor的梯度。\n",
    "\n",
    "`nn.Module`-神经网络模块。便于封装参数，将其移入GPU，导出，加载等\n",
    "\n",
    "`nn.Parameter`-一种tensor，当作为属性被赋予一个`Module`时会自动登记为参数*(parameter)*\n",
    "\n",
    "`autograd.Function`-*autograd运算的forward和backward定义*的实现。每一个`Tensor`运算都会产生至少1个`Function`节点，该节点连接到创建一个`Tensor`的各个函数(*functions*),并编码其历史记录。(Implements *forward and backward definitions of an autograd operation.*Every `Tensor` operation creates at least a single `Function` node that connects to functions that created a `Tensor` and *encodes its history.*)**个人认为即生成计算图，类似*高级人工智能*课件画的那样，或是类似遗传编程画的树**"
   ]
  },
  {
   "cell_type": "markdown",
   "metadata": {},
   "source": [
    "#### 当前已完成\n",
    "- [x] 定义神经网络\n",
    "- [x] 处理输入并调用backward\n",
    "-[ ]  计算loss\n",
    "- [ ] 更新网络权重"
   ]
  },
  {
   "cell_type": "markdown",
   "metadata": {},
   "source": [
    "#### Loss Fuction"
   ]
  },
  {
   "cell_type": "markdown",
   "metadata": {},
   "source": [
    "目标函数将(output,target)作为输入\n",
    "\n",
    "nn包中有许多不同的[loss functions](https://pytorch.org/docs/stable/nn.html)。一个简单的loss函数是均方误差`nn.MSELoss`"
   ]
  },
  {
   "cell_type": "code",
   "execution_count": 14,
   "metadata": {},
   "outputs": [
    {
     "name": "stdout",
     "output_type": "stream",
     "text": [
      "tensor(1.1746, grad_fn=<MseLossBackward>)\n"
     ]
    }
   ],
   "source": [
    "output = net(input)\n",
    "target = torch.randn(10) # a dummy target, for example\n",
    "target = target.view(1,-1) # make it the same shape as output\n",
    "criterion = nn.MSELoss()\n",
    "\n",
    "loss = criterion(output, target)\n",
    "print(loss)"
   ]
  },
  {
   "cell_type": "code",
   "execution_count": 13,
   "metadata": {},
   "outputs": [
    {
     "name": "stdout",
     "output_type": "stream",
     "text": [
      "tensor([0.4873, 0.2985, 0.9932, 0.8153, 0.6936, 0.1622, 0.2400, 0.9388, 0.3721,\n",
      "        0.7490])\n",
      "tensor([-1.4951, -0.9840,  1.0725, -0.2241,  0.7451, -0.2315, -0.0639,  0.4502,\n",
      "         0.7170, -0.4044])\n"
     ]
    }
   ],
   "source": [
    "x=torch.rand(10) # [0,1)之间的均匀分布\n",
    "y=torch.randn(10)# E=0，D=1的标准正态分布\n",
    "print(x)\n",
    "print(y)"
   ]
  },
  {
   "cell_type": "markdown",
   "metadata": {},
   "source": [
    "现在可利用`.grad-fn`属性，查看`loss`的反向传播反向，进而得到计算图。形如：\n",
    "\n",
    "input -> conv2d -> relu -> maxpool2d -> conv2d -> relu -> maxpool2d\n",
    "      -> view -> linear -> relu -> linear -> relu -> linear\n",
    "      -> MSELoss\n",
    "      -> loss\n",
    "\n",
    "当调用`loss.backward()`时，整个计算图(由tensors和Functions构成)计算loss的导数，图中所有的属性为`requires_grad=True`的tensors都会拥有一个`.grad`tensor，该tensor累积梯度信息。"
   ]
  },
  {
   "cell_type": "code",
   "execution_count": 19,
   "metadata": {},
   "outputs": [
    {
     "name": "stdout",
     "output_type": "stream",
     "text": [
      "<MseLossBackward object at 0x000001FD2AFF86A0>\n",
      "<AddmmBackward object at 0x000001FD2AFF8550>\n",
      "<AccumulateGrad object at 0x000001FD2B00B470>\n"
     ]
    }
   ],
   "source": [
    "print(loss.grad_fn) # MSELoss\n",
    "print(loss.grad_fn.next_functions[0][0]) # Linear\n",
    "print(loss.grad_fn.next_functions[0][0].next_functions[0][0]) #ReLU"
   ]
  },
  {
   "cell_type": "markdown",
   "metadata": {},
   "source": [
    "#### Backprop"
   ]
  },
  {
   "cell_type": "markdown",
   "metadata": {},
   "source": [
    "为反向传播error只需调用`loss.backword()`。注意在调用前须将原来的梯度信息置零，否则梯度将会被累加到原来的梯度中。"
   ]
  },
  {
   "cell_type": "markdown",
   "metadata": {},
   "source": [
    "调用`loss.backward()`,查看conv1的偏置*(bias)*在backward前后的梯度变化。"
   ]
  },
  {
   "cell_type": "code",
   "execution_count": 21,
   "metadata": {},
   "outputs": [
    {
     "name": "stdout",
     "output_type": "stream",
     "text": [
      "conv1.bias.grad before backward\n",
      "tensor([0., 0., 0., 0., 0., 0.])\n",
      "conv1.bias.grad after backward\n",
      "tensor([-0.0088, -0.0054, -0.0095, -0.0016, -0.0199,  0.0048])\n"
     ]
    }
   ],
   "source": [
    "net.zero_grad() #zeroes the gradient buffers of all parameters\n",
    "\n",
    "print('conv1.bias.grad before backward')\n",
    "print(net.conv1.bias.grad)\n",
    "\n",
    "loss.backward()\n",
    "\n",
    "print('conv1.bias.grad after backward')\n",
    "print(net.conv1.bias.grad)"
   ]
  },
  {
   "cell_type": "markdown",
   "metadata": {},
   "source": [
    "现在知道怎么使用loss函数了。\n",
    "\n",
    "**稍后阅读**\n",
    "\n",
    "   神经网络包包含各种不同的模型和loss函数，他们构成了搭建深度神经网络的组件。全面的列表文档可以查看[这里](https://pytorch.org/docs/stable/nn.html)"
   ]
  },
  {
   "cell_type": "markdown",
   "metadata": {},
   "source": [
    "#### Update the weights\n",
    "实践中最简单的参数更新规则是SGD：\n",
    "\n",
    "   `weight=weight-learning_rate*gradient`"
   ]
  },
  {
   "cell_type": "markdown",
   "metadata": {},
   "source": [
    "这可以用简单的Python代码实现"
   ]
  },
  {
   "cell_type": "code",
   "execution_count": 22,
   "metadata": {},
   "outputs": [],
   "source": [
    "learning_rate=0.01\n",
    "for f in net.parameters():\n",
    "    f.data.sub_(f.grad.data*learning_rate)"
   ]
  },
  {
   "cell_type": "markdown",
   "metadata": {},
   "source": [
    "然而，使用神经网络时，往往想使用不同的更新规则比如**SGD, Nesterov-SGD,Adam，RMSProp**等，为此，Pytorch建立了一个小型包`torch.optim`来实现这些方法"
   ]
  },
  {
   "cell_type": "code",
   "execution_count": 23,
   "metadata": {},
   "outputs": [],
   "source": [
    "import torch.optim as optim\n",
    "\n",
    "# creat your optimizer\n",
    "optimizer = optim.SGD(net.parameters(), lr=0.01)\n",
    "\n",
    "# in your training loop:\n",
    "optimizer.zero_grad() #zero the gradient buffers\n",
    "output=net(input)\n",
    "loss=criterion(output, target)\n",
    "loss.backward()\n",
    "optimizer.step() #Does the update"
   ]
  },
  {
   "cell_type": "markdown",
   "metadata": {},
   "source": [
    "#### 注意"
   ]
  },
  {
   "cell_type": "markdown",
   "metadata": {},
   "source": [
    "`optimizer.zero_grad()`将梯度缓存置零，只是因为反向传播阶段梯度会被累加。"
   ]
  }
 ],
 "metadata": {
  "kernelspec": {
   "display_name": "Python 3",
   "language": "python",
   "name": "python3"
  },
  "language_info": {
   "codemirror_mode": {
    "name": "ipython",
    "version": 3
   },
   "file_extension": ".py",
   "mimetype": "text/x-python",
   "name": "python",
   "nbconvert_exporter": "python",
   "pygments_lexer": "ipython3",
   "version": "3.7.3"
  }
 },
 "nbformat": 4,
 "nbformat_minor": 4
}
