{
 "cells": [
  {
   "cell_type": "markdown",
   "metadata": {},
   "source": [
    "## **又又没走完** *（因为摸🐟）*，今天根据PyTorch教程中的60min Blitz走第不知道几遭"
   ]
  },
  {
   "cell_type": "markdown",
   "metadata": {},
   "source": [
    "*今天是星期六哟*"
   ]
  },
  {
   "cell_type": "markdown",
   "metadata": {},
   "source": [
    "### Autograd: Automatic Differentiation"
   ]
  },
  {
   "cell_type": "markdown",
   "metadata": {},
   "source": [
    "#### Gradient"
   ]
  },
  {
   "cell_type": "code",
   "execution_count": 1,
   "metadata": {},
   "outputs": [],
   "source": [
    "%reload_ext autoreload\n",
    "%autoreload 2\n",
    "%matplotlib inline"
   ]
  },
  {
   "cell_type": "code",
   "execution_count": 2,
   "metadata": {},
   "outputs": [],
   "source": [
    "from __future__ import print_function\n",
    "import torch"
   ]
  },
  {
   "cell_type": "markdown",
   "metadata": {},
   "source": [
    "数学上，若有**y**=f(**x**)*(字母加粗表示向量)*，则**y**关于**x**的梯度为雅各比矩阵([Jacobian Matrix](https://pytorch.org/tutorials/beginner/blitz/autograd_tutorial.html#sphx-glr-beginner-blitz-autograd-tutorial-py))\n",
    "\n",
    "一般来说，torch.autograd可看作计算向量v与Jacobian矩阵J的内积。也就是说给定任意向量**v**，计算内积*T*(**v**)**·J**  *(T()表示转置。)* 若**v**正好是一个标量函数l=g(**y**)，则根据链式法则，l关于**x**的梯度为*T*(**J**)**·v** *(注意：T(**J**)**·v** = T(T(**v**)**·J** ) )*"
   ]
  },
  {
   "cell_type": "markdown",
   "metadata": {},
   "source": [
    "这种向量-雅各比内积*(vector-jacobian product)*的特性使得将外部梯度馈送到一个具有非标量输出的模型非常简单。\n",
    "\n",
    "*李怀乾注：目标函数计算出的loss值是一个标量，作为反向传播的起点（也是前向传播的终点）。其关于输入的梯度为各层Jacobian矩阵的内积*"
   ]
  },
  {
   "cell_type": "markdown",
   "metadata": {},
   "source": [
    "如下是一个vector-jacobian product的例子"
   ]
  },
  {
   "cell_type": "code",
   "execution_count": 3,
   "metadata": {},
   "outputs": [
    {
     "name": "stdout",
     "output_type": "stream",
     "text": [
      "tensor([1166.0029, -320.2337,  130.7777], grad_fn=<MulBackward0>)\n"
     ]
    }
   ],
   "source": [
    "x=torch.randn(3,requires_grad=True)\n",
    "y=x*2\n",
    "while y.data.norm()<1000:\n",
    "    y=y*2\n",
    "print(y)"
   ]
  },
  {
   "cell_type": "markdown",
   "metadata": {},
   "source": [
    "此时，**y**不是标量，`torch.autograd`不能直接计算Jacobian矩阵，但如果只需要知道vector-Jacobian product，则可以简单的传递一个vector给`backward`作为参数"
   ]
  },
  {
   "cell_type": "code",
   "execution_count": 4,
   "metadata": {},
   "outputs": [
    {
     "name": "stdout",
     "output_type": "stream",
     "text": [
      "tensor([5.1200e+01, 5.1200e+02, 5.1200e-03])\n"
     ]
    }
   ],
   "source": [
    "v=torch.tensor([0.1,1.0,0.00001],dtype=torch.float)\n",
    "y.backward(v)\n",
    "print(x.grad)"
   ]
  },
  {
   "cell_type": "markdown",
   "metadata": {},
   "source": [
    "通过把代码块用`with torch.no_grad():`打包，可以阻止autograd跟踪`.requires_grad=True`的tensors(*autograd会跟踪`.requires_grad=True`的tensors的所有运算*)"
   ]
  },
  {
   "cell_type": "code",
   "execution_count": 5,
   "metadata": {},
   "outputs": [
    {
     "name": "stdout",
     "output_type": "stream",
     "text": [
      "True\n",
      "True\n",
      "False\n",
      "True\n"
     ]
    }
   ],
   "source": [
    "print(x.requires_grad)\n",
    "print((x**2).requires_grad)\n",
    "\n",
    "with torch.no_grad():\n",
    "    print((x**2).requires_grad)\n",
    "print((x**2).requires_grad)"
   ]
  }
 ],
 "metadata": {
  "kernelspec": {
   "display_name": "Python 3",
   "language": "python",
   "name": "python3"
  },
  "language_info": {
   "codemirror_mode": {
    "name": "ipython",
    "version": 3
   },
   "file_extension": ".py",
   "mimetype": "text/x-python",
   "name": "python",
   "nbconvert_exporter": "python",
   "pygments_lexer": "ipython3",
   "version": "3.7.3"
  }
 },
 "nbformat": 4,
 "nbformat_minor": 4
}
