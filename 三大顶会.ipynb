{
 "cells": [
  {
   "cell_type": "markdown",
   "metadata": {},
   "source": [
    "## 三大顶会\n",
    "- CVPR2020 截稿：2019.11.15 会议：2020.06.15 **one year， high risk**\n",
    "- ICCV2019 截稿：2019.3.1   会议：2019.10.27-11.2 **5 months or 17 months, medium risk, difficult**\n",
    "- ECCV2020 截稿：3月左右     会议：2020.8.23-28 *两年一届* **5 months or 17 months, high risk, difficult**"
   ]
  },
  {
   "cell_type": "code",
   "execution_count": null,
   "metadata": {},
   "outputs": [],
   "source": []
  }
 ],
 "metadata": {
  "kernelspec": {
   "display_name": "Python 3",
   "language": "python",
   "name": "python3"
  },
  "language_info": {
   "codemirror_mode": {
    "name": "ipython",
    "version": 3
   },
   "file_extension": ".py",
   "mimetype": "text/x-python",
   "name": "python",
   "nbconvert_exporter": "python",
   "pygments_lexer": "ipython3",
   "version": "3.7.3"
  }
 },
 "nbformat": 4,
 "nbformat_minor": 4
}
