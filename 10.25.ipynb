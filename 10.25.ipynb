{
 "cells": [
  {
   "cell_type": "markdown",
   "metadata": {},
   "source": [
    "# F**K PCIe BUS ERROR!!!"
   ]
  },
  {
   "cell_type": "markdown",
   "metadata": {},
   "source": [
    "今天一白天，我试过了能找到和想到的所有方法，无一可行！\n",
    "- [x] 重装驱动\n",
    "- [x] 重装内核\n",
    "- [ ] 更换无线网卡"
   ]
  },
  {
   "cell_type": "markdown",
   "metadata": {},
   "source": [
    "# 关于概率和物理学的有趣的观点"
   ]
  },
  {
   "cell_type": "markdown",
   "metadata": {},
   "source": [
    "## 两种概率的定义：\n",
    "- 频率概率：\n",
    "  - 将某个事件的概率定义为一系列实验中出现该事件的相对频率。该定义宣称，得到的数值客观、可验证、可直接用于科学实验。\n",
    "    - 典型例子：扔硬币。\n",
    "- 贝叶斯概率：\n",
    "  - 与频率概率相反，贝叶斯概率是主观的，它度量的是人们对某个事件的信任程度，以数值来度量某人在某个事件的结果上如何押注。\n",
    "    - 贝叶斯概率可以自由的将定量统计信息与基于先前经验的直觉预估结合起来，例如：\n",
    "    \n",
    "        医生如果怀疑一个病人患有癌症，他首先根据各种数据，如该疾病在普通人群的发病率、病人的家族病史和其他相关因子，指定一个初始概率。收到检测结果后，医生使用***贝叶斯定理***修正先验概率，得到的数值代表医生对病人患有癌症的信任程度。"
   ]
  },
  {
   "cell_type": "markdown",
   "metadata": {},
   "source": [
    "## 贝叶斯公式："
   ]
  },
  {
   "cell_type": "markdown",
   "metadata": {},
   "source": [
    "$$ P(B_i|A)=\\frac{P(B_i)P(A|B_i)}{\\sum_j{P(B_j)P(A|B_j)}} $$"
   ]
  },
  {
   "cell_type": "markdown",
   "metadata": {},
   "source": [
    "## **物理学描述的是如何描述自然**"
   ]
  },
  {
   "cell_type": "markdown",
   "metadata": {},
   "source": [
    "基于贝叶斯定理的量子贝叶斯模型尝试重写最基本的量子法则，并解释了*薛定谔的猫😺*的悖论"
   ]
  },
  {
   "cell_type": "markdown",
   "metadata": {},
   "source": [
    "量贝模型的支持者拥护这种观点：\n",
    "\n",
    "***进行实验之前，实验结果根本就不存在***"
   ]
  },
  {
   "cell_type": "markdown",
   "metadata": {},
   "source": [
    "也就是说，实验要测量的内容是我们描述世界的一种方式，在我们不以此规则进行描述时，该测量内容是不存在的。"
   ]
  },
  {
   "cell_type": "markdown",
   "metadata": {},
   "source": [
    "存在的问题是，如果这种对世界的描述一直被验证是正确的，就可以认为世界就是按此规律运行的，进而可以利用该规律进行生产生活。人们对于此规律的信任程度一直是1，所以就可以认为该规律是存在的。"
   ]
  },
  {
   "cell_type": "markdown",
   "metadata": {},
   "source": [
    "那么到底存在还是不存在？问题似乎上升到了哲学高度。不是也有人认为数学是不是客观存在的，而只是人们的一种游戏吗，但数学确实是一种发挥了重要作用的工具。"
   ]
  },
  {
   "cell_type": "markdown",
   "metadata": {},
   "source": [
    "我认为，在物理研究中引入**主观性**还是很有意思的"
   ]
  }
 ],
 "metadata": {
  "kernelspec": {
   "display_name": "Python 3",
   "language": "python",
   "name": "python3"
  },
  "language_info": {
   "codemirror_mode": {
    "name": "ipython",
    "version": 3
   },
   "file_extension": ".py",
   "mimetype": "text/x-python",
   "name": "python",
   "nbconvert_exporter": "python",
   "pygments_lexer": "ipython3",
   "version": "3.6.8"
  }
 },
 "nbformat": 4,
 "nbformat_minor": 4
}
