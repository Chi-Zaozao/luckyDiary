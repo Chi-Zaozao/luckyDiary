{
 "cells": [
  {
   "cell_type": "markdown",
   "metadata": {},
   "source": [
    "# Python for beginners 1-24 (*Microsoft 2019*) "
   ]
  },
  {
   "cell_type": "markdown",
   "metadata": {},
   "source": [
    "**Comment**:\n",
    " - [x] for debugging\n",
    " - [ ] for documenting\n",
    "     - when calling a method or function, comment for what it can do and how it works\n",
    "     - when doing something unnormal, comment it\n",
    "     - when declare a function, comment to explain what it does and what each parameter is for if it has parameters "
   ]
  },
  {
   "cell_type": "markdown",
   "metadata": {},
   "source": [
    "**Format strings:**"
   ]
  },
  {
   "cell_type": "code",
   "execution_count": 2,
   "metadata": {},
   "outputs": [
    {
     "name": "stdout",
     "output_type": "stream",
     "text": [
      "Hello, chi zao\n",
      "Hello, chi zao\n",
      "Hello, chi zao, zaochi!\n",
      "Hello,chi zao\n"
     ]
    }
   ],
   "source": [
    "first_name='chi'\n",
    "last_name='zao'\n",
    "print('Hello, '+first_name+' '+last_name)\n",
    "print('Hello, {} {}'.format(first_name,last_name))\n",
    "print('Hello, {0} {1}, {1}{0}!'.format(first_name,last_name))\n",
    "# only works in Python3\n",
    "# It's self documenting\n",
    "print(f'Hello,{first_name} {last_name}')"
   ]
  },
  {
   "cell_type": "markdown",
   "metadata": {},
   "source": [
    "**Datatype convertion:**"
   ]
  },
  {
   "cell_type": "markdown",
   "metadata": {},
   "source": [
    "The input function always return strings"
   ]
  },
  {
   "cell_type": "code",
   "execution_count": 3,
   "metadata": {},
   "outputs": [
    {
     "name": "stdin",
     "output_type": "stream",
     "text": [
      "Please enter the first number:  5\n",
      "Please enter the second number:  6\n"
     ]
    },
    {
     "name": "stdout",
     "output_type": "stream",
     "text": [
      "56\n"
     ]
    }
   ],
   "source": [
    "first_num=input('Please enter the first number: ')\n",
    "second_num=input('Please enter the second number: ')\n",
    "print(first_num+second_num)"
   ]
  },
  {
   "cell_type": "code",
   "execution_count": 4,
   "metadata": {},
   "outputs": [
    {
     "name": "stdout",
     "output_type": "stream",
     "text": [
      "11\n",
      "11.0\n"
     ]
    }
   ],
   "source": [
    "print(int(first_num)+int(second_num))\n",
    "print(float(first_num)+float(second_num))"
   ]
  },
  {
   "cell_type": "markdown",
   "metadata": {},
   "source": [
    "**Date data types**"
   ]
  },
  {
   "cell_type": "code",
   "execution_count": 9,
   "metadata": {},
   "outputs": [],
   "source": [
    "# Comment when calling a function\n",
    "# To get current date and time\n",
    "# we need to use the datetime library\n",
    "from datetime import datetime, timedelta"
   ]
  },
  {
   "cell_type": "code",
   "execution_count": 23,
   "metadata": {},
   "outputs": [
    {
     "name": "stdout",
     "output_type": "stream",
     "text": [
      "Today is 5\n",
      "Time is 2019-11-05 07:08:55.151650\n"
     ]
    }
   ],
   "source": [
    "today = datetime.now()\n",
    "# The now function returns a datetime object\n",
    "print(f'Today is {today.day}')\n",
    "print('Time is ' + str(today))"
   ]
  },
  {
   "cell_type": "code",
   "execution_count": 16,
   "metadata": {},
   "outputs": [
    {
     "name": "stdout",
     "output_type": "stream",
     "text": [
      "Yesterday was 2019-11-04 05:50:10.711555\n",
      "Last week was 2019-10-29 05:50:10.711555\n"
     ]
    }
   ],
   "source": [
    "one_day = timedelta(days = 1)\n",
    "yesterday = today - one_day\n",
    "one_week = timedelta(weeks = 1)\n",
    "last_week = today - one_week\n",
    "print(f'Yesterday was {yesterday}')\n",
    "print(f'Last week was {last_week}')"
   ]
  },
  {
   "cell_type": "code",
   "execution_count": 22,
   "metadata": {},
   "outputs": [
    {
     "name": "stdin",
     "output_type": "stream",
     "text": [
      "When is your birthday (dd/mm/yyyy)?  31/1/1996\n"
     ]
    },
    {
     "name": "stdout",
     "output_type": "stream",
     "text": [
      "Birthday: 1996-01-31 00:00:00\n"
     ]
    }
   ],
   "source": [
    "# People have thousand ways to input a date, e.g. dd/mm/yy, dd-mm-yyyy, ......\n",
    "# that's why it's complicated to handle date types.\n",
    "# you're going to add some exception handling.\n",
    "birthday = input('When is your birthday (dd/mm/yyyy)? ')\n",
    "birthday_date = datetime.strptime(birthday, '%d/%m/%Y')\n",
    "print(f'Birthday: {birthday_date}')"
   ]
  },
  {
   "cell_type": "markdown",
   "metadata": {},
   "source": [
    "**Error handling:**"
   ]
  },
  {
   "cell_type": "code",
   "execution_count": 26,
   "metadata": {},
   "outputs": [],
   "source": [
    "try:\n",
    "    pass\n",
    "except:\n",
    "    pass\n",
    "finally:\n",
    "    pass"
   ]
  },
  {
   "cell_type": "markdown",
   "metadata": {},
   "source": [
    "Error types:\n",
    " - Syntax errors：codes cannot run!\n",
    " - Runtime errors: codes give you the error messages while running\n",
    " - Logic errors: no error message, everything runs but don't get the right response."
   ]
  },
  {
   "cell_type": "markdown",
   "metadata": {},
   "source": [
    "**Four spaces vs Tabs:**\n",
    " - python insists four spaces\n",
    " - spaces perform better when alignment is needed"
   ]
  },
  {
   "cell_type": "markdown",
   "metadata": {},
   "source": [
    "**Be careful when comparing strings:**"
   ]
  },
  {
   "cell_type": "code",
   "execution_count": 28,
   "metadata": {},
   "outputs": [
    {
     "name": "stdout",
     "output_type": "stream",
     "text": [
      "oh look a Canadian\n"
     ]
    }
   ],
   "source": [
    "country = 'CANADA'\n",
    "# Be aware of capitalization when comparing strings\n",
    "if country.lower() == 'canada':\n",
    "    print('oh look a Canadian')\n",
    "else:\n",
    "    print('You are not from Canada')"
   ]
  },
  {
   "cell_type": "markdown",
   "metadata": {},
   "source": [
    "**IN operator:**\n",
    "\n",
    "If you have a list of possible values to check, you can use the IN operator"
   ]
  },
  {
   "cell_type": "code",
   "execution_count": 37,
   "metadata": {},
   "outputs": [
    {
     "name": "stdout",
     "output_type": "stream",
     "text": [
      "0.05\n"
     ]
    }
   ],
   "source": [
    "province = 'YUKON'\n",
    "province = province.capitalize()\n",
    "if province in('Alberta', \\\n",
    "              'Nunavut', 'Yukon'):\n",
    "    tax = 0.05\n",
    "elif province == 'Ontario':\n",
    "    tax = 0.13\n",
    "else:\n",
    "    tax=0.15\n",
    "print(tax)"
   ]
  },
  {
   "cell_type": "markdown",
   "metadata": {},
   "source": [
    "**Unit testing:**"
   ]
  },
  {
   "cell_type": "markdown",
   "metadata": {},
   "source": [
    "- UNIT TESTING is a level of software testing where individual units/ components of a software are tested. The purpose is to validate that each unit of the software performs as designed. A unit is the smallest testable part of any software. It usually has one or a few inputs and usually a single output.\n",
    "- 在计算机编程中，单元测试又称为模块测试，是针对程序模块来进行正确性检验的测试工作。程序单元是应用的最小可测试部件。在过程化编程中，一个单元就是单个程序、函数、过程等；对于面向对象编程，最小单元就是方法，包  括基类、抽象类、或者派生类中的方法。\n",
    "- **Always test every possible condition when you deal with if statements.**"
   ]
  },
  {
   "cell_type": "markdown",
   "metadata": {},
   "source": [
    "**Use Boolean variables as flags**\n",
    " - When you need to remember the result of a condition check later in your code\n",
    " - When you have a very complicated IF statement, rather than copying and pasting it to different parts of your code,using a boolean variable makes your code easier to read"
   ]
  },
  {
   "cell_type": "code",
   "execution_count": 39,
   "metadata": {},
   "outputs": [],
   "source": [
    "gpa = .9\n",
    "loweast_grade = .8\n",
    "if gpa >= .8 and loweast_grade >= .7:\n",
    "    honour_roll = True\n",
    "else:\n",
    "    honour_roll = False\n",
    "# Somewhere later in your code if you need to check if students \n",
    "# are in honour roll, all you need to do is check the boolean variable\n",
    "if honour_roll:\n",
    "    pass"
   ]
  }
 ],
 "metadata": {
  "kernelspec": {
   "display_name": "Python 3",
   "language": "python",
   "name": "python3"
  },
  "language_info": {
   "codemirror_mode": {
    "name": "ipython",
    "version": 3
   },
   "file_extension": ".py",
   "mimetype": "text/x-python",
   "name": "python",
   "nbconvert_exporter": "python",
   "pygments_lexer": "ipython3",
   "version": "3.6.8"
  }
 },
 "nbformat": 4,
 "nbformat_minor": 4
}
