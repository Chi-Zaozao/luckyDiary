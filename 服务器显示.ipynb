{
 "cells": [
  {
   "cell_type": "markdown",
   "metadata": {},
   "source": [
    "## Bug 001：服务器连接显示器无信号"
   ]
  },
  {
   "cell_type": "markdown",
   "metadata": {},
   "source": [
    "将HDMI线连接到第一块显卡，重启服务器即可"
   ]
  },
  {
   "cell_type": "markdown",
   "metadata": {},
   "source": [
    "*(长按开关可强制关闭服务器)*"
   ]
  }
 ],
 "metadata": {
  "kernelspec": {
   "display_name": "Python 3",
   "language": "python",
   "name": "python3"
  },
  "language_info": {
   "codemirror_mode": {
    "name": "ipython",
    "version": 3
   },
   "file_extension": ".py",
   "mimetype": "text/x-python",
   "name": "python",
   "nbconvert_exporter": "python",
   "pygments_lexer": "ipython3",
   "version": "3.7.3"
  }
 },
 "nbformat": 4,
 "nbformat_minor": 4
}
