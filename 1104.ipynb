{
 "cells": [
  {
   "cell_type": "markdown",
   "metadata": {},
   "source": [
    "# 现在的ubuntu美翻了！"
   ]
  },
  {
   "cell_type": "markdown",
   "metadata": {},
   "source": [
    "今日摸鱼：\n",
    " - [x] 更换了ubuntu的主题\n",
    " - [x] 修复了firefox全屏看视频屏幕闪烁的问题"
   ]
  },
  {
   "cell_type": "markdown",
   "metadata": {},
   "source": [
    "## 更换ubuntu主题"
   ]
  },
  {
   "cell_type": "markdown",
   "metadata": {},
   "source": [
    "该部分参考了[李闪磊](https://blog.csdn.net/lishanleilixin/article/details/80453565)和[ZeroZone](https://blog.csdn.net/ksws0292756/article/details/79953155)的博客."
   ]
  },
  {
   "cell_type": "markdown",
   "metadata": {},
   "source": [
    "ubuntu18.04采用的是Gnome环境，安装对应的tewak tool"
   ]
  },
  {
   "cell_type": "raw",
   "metadata": {},
   "source": [
    "sudo apt install gnome-tweak-tool\n",
    "sudo apt install gnome-shell-extensions"
   ]
  },
  {
   "cell_type": "markdown",
   "metadata": {},
   "source": [
    "在[这里](https://www.gnome-look.org/)下载喜欢的主题或在图标，解压到/usr/share/themes/或/usr/share/icoins文件夹下，重启tweak(*中文：优化*)设置即可"
   ]
  },
  {
   "cell_type": "markdown",
   "metadata": {},
   "source": [
    "## 修复了firefox全屏看视频屏幕闪烁的问题"
   ]
  },
  {
   "cell_type": "markdown",
   "metadata": {},
   "source": [
    "该参考了[ChUbuntu](https://chubuntu.com/questions/51199/very-choppy-flash-during-fullscreen-mode.html)中*freebird*的回答"
   ]
  },
  {
   "cell_type": "markdown",
   "metadata": {},
   "source": [
    "用gnash代替flash:"
   ]
  },
  {
   "cell_type": "raw",
   "metadata": {},
   "source": [
    "sudo apt install gnash"
   ]
  },
  {
   "cell_type": "markdown",
   "metadata": {},
   "source": [
    "为卸载flash，查找包名:"
   ]
  },
  {
   "cell_type": "raw",
   "metadata": {},
   "source": [
    "dpkg -l | grep flash"
   ]
  },
  {
   "cell_type": "markdown",
   "metadata": {},
   "source": [
    "卸载:"
   ]
  },
  {
   "cell_type": "raw",
   "metadata": {},
   "source": [
    "sudo apt autoremove --purge flashplugin-installer"
   ]
  },
  {
   "cell_type": "markdown",
   "metadata": {},
   "source": [
    "闪烁的原因可能是Adobe的Linux Flash插件缺少gpu加速."
   ]
  },
  {
   "cell_type": "markdown",
   "metadata": {},
   "source": [
    "[GNU Gnash](https://zh.wikipedia.org/wiki/Gnash)致力于发展一个播放Flash的免费媒体播放器或外挂程序，来取代Adobe Flash Player."
   ]
  }
 ],
 "metadata": {
  "kernelspec": {
   "display_name": "Python 3",
   "language": "python",
   "name": "python3"
  },
  "language_info": {
   "codemirror_mode": {
    "name": "ipython",
    "version": 3
   },
   "file_extension": ".py",
   "mimetype": "text/x-python",
   "name": "python",
   "nbconvert_exporter": "python",
   "pygments_lexer": "ipython3",
   "version": "3.6.8"
  }
 },
 "nbformat": 4,
 "nbformat_minor": 4
}
