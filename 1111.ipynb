{
 "cells": [
  {
   "cell_type": "markdown",
   "metadata": {},
   "source": [
    "# 今天双十一，白天状态很差，晚上好多了"
   ]
  },
  {
   "cell_type": "markdown",
   "metadata": {},
   "source": [
    "**classmethod:**\n",
    "- classmethod convert a function to be a class method\n",
    "- it can be called either on the class (e.g. C.f()) or on an instance (e.g. C().f())\n",
    "- the instance is ignored except for its class"
   ]
  },
  {
   "cell_type": "code",
   "execution_count": 1,
   "metadata": {},
   "outputs": [
    {
     "data": {
      "text/plain": [
       "\u001b[0;31mInit signature:\u001b[0m \u001b[0mclassmethod\u001b[0m\u001b[0;34m(\u001b[0m\u001b[0mself\u001b[0m\u001b[0;34m,\u001b[0m \u001b[0;34m/\u001b[0m\u001b[0;34m,\u001b[0m \u001b[0;34m*\u001b[0m\u001b[0margs\u001b[0m\u001b[0;34m,\u001b[0m \u001b[0;34m**\u001b[0m\u001b[0mkwargs\u001b[0m\u001b[0;34m)\u001b[0m\u001b[0;34m\u001b[0m\u001b[0;34m\u001b[0m\u001b[0m\n",
       "\u001b[0;31mDocstring:\u001b[0m     \n",
       "classmethod(function) -> method\n",
       "\n",
       "Convert a function to be a class method.\n",
       "\n",
       "A class method receives the class as implicit first argument,\n",
       "just like an instance method receives the instance.\n",
       "To declare a class method, use this idiom:\n",
       "\n",
       "  class C:\n",
       "      @classmethod\n",
       "      def f(cls, arg1, arg2, ...):\n",
       "          ...\n",
       "\n",
       "It can be called either on the class (e.g. C.f()) or on an instance\n",
       "(e.g. C().f()).  The instance is ignored except for its class.\n",
       "If a class method is called for a derived class, the derived class\n",
       "object is passed as the implied first argument.\n",
       "\n",
       "Class methods are different than C++ or Java static methods.\n",
       "If you want those, see the staticmethod builtin.\n",
       "\u001b[0;31mType:\u001b[0m           type\n"
      ]
     },
     "metadata": {},
     "output_type": "display_data"
    }
   ],
   "source": [
    "?classmethod"
   ]
  },
  {
   "cell_type": "code",
   "execution_count": 62,
   "metadata": {},
   "outputs": [
    {
     "name": "stdout",
     "output_type": "stream",
     "text": [
      "Wei\n",
      "Wei\n",
      "Shu\n",
      "Wu\n",
      "Caocao\n",
      "Wei\n",
      "Shu\n",
      "Wu\n"
     ]
    }
   ],
   "source": [
    "class Kingdom:\n",
    "    # 类变量，在各个实例化对象中公用\n",
    "    kingdoms = []\n",
    "    def __init__(self, name, king):\n",
    "        self.name =  name\n",
    "        self.king = king\n",
    "        Kingdom.kingdoms.append(name)\n",
    "#         cls.kingdoms.append(name)\n",
    "    @classmethod\n",
    "    def kingdoms_of_the_mainland(cls):\n",
    "        for i in cls.kingdoms:\n",
    "            print(i)\n",
    "            \n",
    "wei = Kingdom('Wei', 'Caocao')\n",
    "Kingdom.kingdoms_of_the_mainland()\n",
    "shu = Kingdom('Shu', 'Liubei')\n",
    "wu = Kingdom('Wu', 'Sunquan')\n",
    "Kingdom.kingdoms_of_the_mainland()\n",
    "print(wei.king)\n",
    "wei.kingdoms_of_the_mainland()"
   ]
  }
 ],
 "metadata": {
  "kernelspec": {
   "display_name": "Python 3",
   "language": "python",
   "name": "python3"
  },
  "language_info": {
   "codemirror_mode": {
    "name": "ipython",
    "version": 3
   },
   "file_extension": ".py",
   "mimetype": "text/x-python",
   "name": "python",
   "nbconvert_exporter": "python",
   "pygments_lexer": "ipython3",
   "version": "3.6.8"
  }
 },
 "nbformat": 4,
 "nbformat_minor": 4
}
