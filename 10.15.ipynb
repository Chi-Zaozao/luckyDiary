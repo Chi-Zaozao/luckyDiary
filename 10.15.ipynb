{
 "cells": [
  {
   "cell_type": "markdown",
   "metadata": {},
   "source": [
    "# Some bugs"
   ]
  },
  {
   "cell_type": "markdown",
   "metadata": {},
   "source": [
    "在运行demo时，输出如下"
   ]
  },
  {
   "cell_type": "raw",
   "metadata": {},
   "source": [
    "# python3 demo/demo.py --config-file configs/COCO-InstanceSegmentation/mask_rcnn_R_50_FPN_3x.yaml --input input.jpg --opts MODEL.WEIGHTS detectron2://COCO-InstanceSegmentation/mask_rcnn_R_50_FPN_3x/137849600/model_final_f10217.pkl"
   ]
  },
  {
   "cell_type": "raw",
   "metadata": {},
   "source": [
    "Failed to load OpenCL runtime\n",
    "[10/15 03:05:49 detectron2]: Arguments: Namespace(confidence_threshold=0.5, config_file='configs/COCO-InstanceSegmentation/mask_rcnn_R_50_FPN_3x.yaml', input=['input.jpg'], opts=['MODEL.WEIGHTS', 'detectron2://COCO-InstanceSegmentation/mask_rcnn_R_50_FPN_3x/137849600/model_final_f10217.pkl'], output=None, video_input=None, webcam=False)\n",
    "WARNING [10/15 03:05:49 d2.config.compat]: Config 'configs/COCO-InstanceSegmentation/mask_rcnn_R_50_FPN_3x.yaml' has no VERSION. Assuming it to be compatible with latest v2.\n",
    "[10/15 03:05:53 detectron2]: input.jpg: detected 15 instances in 0.22s\n",
    "\n",
    "(COCO detections:890): dbind-WARNING **: 03:05:53.549: Couldn't connect to accessibility bus: Failed to connect to socket /tmp/dbus-his9wAFEck: Connection refused\n",
    "Gtk-Message: 03:05:53.567: Failed to load module \"canberra-gtk-module\"\n",
    "Gtk-Message: 03:05:53.568: Failed to load module \"canberra-gtk-module\""
   ]
  },
  {
   "cell_type": "markdown",
   "metadata": {},
   "source": [
    "![jupyter](pics/result.png)"
   ]
  },
  {
   "cell_type": "markdown",
   "metadata": {},
   "source": [
    "程序能输出正确结果但有两处**Fail**和一个**Warning**"
   ]
  },
  {
   "cell_type": "markdown",
   "metadata": {},
   "source": [
    "**Fail to load OpenCL Runtime**"
   ]
  },
  {
   "cell_type": "markdown",
   "metadata": {},
   "source": [
    "`Failed to load OpenCL runtime` is expected and is not a bug. The annoying message will disappear if you use opencv>=3.4 "
   ]
  },
  {
   "cell_type": "markdown",
   "metadata": {},
   "source": [
    "**Gtk-Message: 03:05:53.567: Failed to load module \"canberra-gtk-module\"**"
   ]
  },
  {
   "cell_type": "markdown",
   "metadata": {},
   "source": [
    "通过如下命令解决该bug"
   ]
  },
  {
   "cell_type": "raw",
   "metadata": {},
   "source": [
    "# apt install libcanberra-gtk-module libcanberra-gtk3-module"
   ]
  },
  {
   "cell_type": "markdown",
   "metadata": {},
   "source": [
    "**(COCO detections:890): dbind-WARNING **: 03:05:53.549: Couldn't connect to accessibility bus: Failed to connect to socket /tmp/dbus-his9wAFEck: Connection refused**"
   ]
  },
  {
   "cell_type": "markdown",
   "metadata": {},
   "source": [
    "这是网上搜到的解释：\n",
    "\n",
    "Well, this is to be expected. Remote X applications cannot access your local desktop's dbus services such as org.a11y.Bus (part of at-spi2-core).\n",
    "\n",
    "Have you tried disabling accessibility support on your machine (e.g. via the org.gnome.desktop.interface toolkit-accessibility gsettings key)? That would prevent you from using accessibility features of gtk+, but might stop the warnings from ssh applications."
   ]
  }
 ],
 "metadata": {
  "kernelspec": {
   "display_name": "Python 3",
   "language": "python",
   "name": "python3"
  },
  "language_info": {
   "codemirror_mode": {
    "name": "ipython",
    "version": 3
   },
   "file_extension": ".py",
   "mimetype": "text/x-python",
   "name": "python",
   "nbconvert_exporter": "python",
   "pygments_lexer": "ipython3",
   "version": "3.6.8"
  }
 },
 "nbformat": 4,
 "nbformat_minor": 4
}
