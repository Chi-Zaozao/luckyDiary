{
 "cells": [
  {
   "cell_type": "markdown",
   "metadata": {},
   "source": [
    "# Python for beginners 29-44 (*Microsoft 2019*)"
   ]
  },
  {
   "cell_type": "markdown",
   "metadata": {},
   "source": [
    "**Modules:**\n",
    "- What's a module?\n",
    "  - A Python file with functions, classes and other components\n",
    "- Why use modules?\n",
    "  - Break code down into reusable structures"
   ]
  },
  {
   "cell_type": "markdown",
   "metadata": {},
   "source": [
    "**creating a module:**"
   ]
  },
  {
   "cell_type": "code",
   "execution_count": 7,
   "metadata": {},
   "outputs": [],
   "source": [
    "# assuming saved as 'codes/helper.py'\n",
    "def display(message, is_warning = False):\n",
    "    if is_warning:\n",
    "        print('Warning!!')\n",
    "    print(message)"
   ]
  },
  {
   "cell_type": "markdown",
   "metadata": {},
   "source": [
    "3 way to import a module(**NO INFLUENCE TO THE PERFORMANCE**):\n",
    "- import module as namespace\n",
    "- import all into current namespace\n",
    "- import specific items into current namespace: easier to intellisense(自动填充功能)"
   ]
  },
  {
   "cell_type": "code",
   "execution_count": 11,
   "metadata": {},
   "outputs": [
    {
     "name": "stdout",
     "output_type": "stream",
     "text": [
      "Not a warning\n"
     ]
    }
   ],
   "source": [
    "# import module as namespace\n",
    "import codes.helpers\n",
    "codes.helpers.display('Not a warning')"
   ]
  },
  {
   "cell_type": "code",
   "execution_count": 12,
   "metadata": {},
   "outputs": [
    {
     "name": "stdout",
     "output_type": "stream",
     "text": [
      "Not a warning\n"
     ]
    }
   ],
   "source": [
    "# import all into current namespace\n",
    "from codes.helpers import *\n",
    "display('Not a warning')"
   ]
  },
  {
   "cell_type": "code",
   "execution_count": 13,
   "metadata": {},
   "outputs": [
    {
     "name": "stdout",
     "output_type": "stream",
     "text": [
      "Not a warning\n"
     ]
    }
   ],
   "source": [
    "# import specific items into current namespace\n",
    "from codes.helpers import display\n",
    "display('Not a warning')"
   ]
  },
  {
   "cell_type": "markdown",
   "metadata": {},
   "source": [
    "**Packages**\n",
    "- published collection of modules\n",
    "- *The best code in the world is the code that's already written*\n",
    "- pip: a command line installer\n",
    "    - install an individual package(e.g. numpy):\n",
    "        - `pip install numpy`\n",
    "    - install from a list of packages:\n",
    "        - `pip install -r requirements.txt`\n",
    "        - *requirements.txt* writes:\n",
    "            \n",
    "            numpy\n",
    "            \n",
    "            pandas\n",
    "    - install packages **globally**(全局的)\n",
    "        - version management becomes a challenge\n",
    "            - 版本控制（英語：Version control）是维护工程藍圖的标准作法，能追蹤工程藍图從诞生一直到定案的過程。此外，版本控制也是一種軟體工程技巧，藉此能在軟體開發的過程中，確保由不同人所編輯的同一程式檔案都得到同步。 (*Wikipedia*)\n",
    "            - 版本控制是指对软件开发过程中各种程序代码、配置文件及说明文档等文件变更的管理，是软件配置管理的核心思想之一。(*百度百科*)\n",
    "        - install packages **locally**  by utilizing a **virtual environment**\n",
    "        \n",
    "            insatll globally | install locally\n",
    "            -- | --\n",
    "            be available for every application you're going to create | be available for just the local application"
   ]
  },
  {
   "cell_type": "markdown",
   "metadata": {},
   "source": [
    "**Virtual environments**\n",
    "- simply is literally nothing but a folder that has all of the code you're going to need to run the application that you're creating\n",
    "- everything needed is going to be installed into that folder to use\n",
    "- **virtualenv**: a little utility to create a virtual environment\n",
    "    - install virtualenv globally:\n",
    "        - `pip install virtualenv`\n",
    "        - `sudo apt install virtualenv`"
   ]
  },
  {
   "cell_type": "markdown",
   "metadata": {},
   "source": [
    "**creating a virtual environment**(assuming that you have already installed virtualenv globally)**:**\n",
    "- Windows systems\n",
    "    - `python -m venv <folder_name>`\n",
    "- OSX/Linux (bash)\n",
    "    - `virtualenv <folder_name>`\n",
    "        - pip安装：\n",
    "           - Ubantu 18.04实测失败\n",
    "           - 参考[Dejv](https://stackoverflow.com/questions/31133050/virtualenv-command-not-found)的回答，通过`pip show virtualenv`查看pip安装的irtualenv位置，发现`Location: /home/chizao/.local/lib/python3.6/site-packages`，因而应使用`/home/chizao/.local/bin/virtualenv <folder_name>`\n",
    "        - apt安装一切正常"
   ]
  },
  {
   "cell_type": "markdown",
   "metadata": {},
   "source": [
    "**using virtual environments(Activate):**\n",
    "- Windows systems:\n",
    "    - cmd.exe\n",
    "        - `<folder_name>\\Scripts\\Activate.bat`\n",
    "    - Powershell\n",
    "        - `<folder_name>\\Scripts\\Activate.ps1`\n",
    "    - bash shell\n",
    "        - `. ./<folder_name>/Scripts/activate`\n",
    "- OSX/Linux (bash)\n",
    "    - `<folder_name>/bin/activate`\n",
    "        - Ubuntu 18.04 + Virtualenv 16.7.7 实测失败\n",
    "        - 应进入虚拟环境`cd <folder_name>`，然后运行`source bin/activate`"
   ]
  },
  {
   "cell_type": "markdown",
   "metadata": {},
   "source": [
    "**installing packages in a virtual environment:**\n",
    "- same as the real environment"
   ]
  },
  {
   "cell_type": "markdown",
   "metadata": {},
   "source": [
    "**Web Service:**\n",
    "- When a developer wants to share the functionality of a function but not the actual code in the program, they can place the function an a web server\n",
    "- A programmer with the address of that function on the web server and the required permissions can call the function\n",
    "- This is called a web service"
   ]
  },
  {
   "cell_type": "markdown",
   "metadata": {},
   "source": [
    "**API:**\n",
    "- You can't call a function unless you know the function name and the required parameters\n",
    "- When you create a web service you create an Application Programming Interface(**API**)\n",
    "- The API defines the function names and parameters so others know how to call your function\n",
    "- API parameters and keys requirenebts will vary\n",
    "- Refer to product and API documentation to learn how to call a specific API"
   ]
  },
  {
   "cell_type": "markdown",
   "metadata": {},
   "source": [
    "**keys allow me to track which users have permission to use my web service:**\n",
    "- A developer signs uo on my web site, or buys a license for my software and is provided a unique **key**\n",
    "- When the developer calls my web service they provide their unique key and I am able to verify the key has been approved for calls to my web service"
   ]
  },
  {
   "cell_type": "markdown",
   "metadata": {},
   "source": [
    "**a standard for sending messages across the web:**\n",
    "- Hypertext Transfer Protocol(**HTTP**) is a standard protocol for sending messages across the web\n",
    "    - GET\n",
    "        - pass values in **query string only**\n",
    "            - query string is a part of the web address\n",
    "            - special characters must be \"escaped(转义)\"\n",
    "            - limited amount of data\n",
    "    - POST \n",
    "        - pass values in query **string and body**\n",
    "            - no need to escape special characters if passed in **body**\n",
    "            - can pass large amounts of data, including images, in **body** "
   ]
  },
  {
   "cell_type": "markdown",
   "metadata": {},
   "source": [
    "**the request library simplifies HTTP calls from Python code:**\n",
    "- e.g.\n",
    "    - `request.post(address, http_headers, function_parameters, message_body)`\n",
    "    - `address`: server address and the function name\n",
    "    -  the parameters can be found in the API's document."
   ]
  },
  {
   "cell_type": "markdown",
   "metadata": {},
   "source": [
    "**JSON:**\n",
    "- Using a linting tool to format JSON makes it easier to read(*You can find it in a whole bunch of websites*)\n",
    "- 3 structure:\n",
    "    - key-value pairs\n",
    "    - key-SubKey pairs\n",
    "    - key-list of values pairs\n",
    "- create a json file:\n",
    "    - using `json` library `json.dumps(<dictionary_name>)`\n",
    "    - using `json` library `json.dumps(response.json())` (*response.json() is the returned value of a web service*)"
   ]
  },
  {
   "cell_type": "markdown",
   "metadata": {},
   "source": [
    "**Environmental variables:**\n",
    "- values from ouyside of your application\n",
    "    - connecting to a database(what if the database moves)\n",
    "    - determining the operating system\n",
    "    - settings which need to change\n",
    "    - sensitive data(e.g. password)\n",
    "- read those values form somewhere external to your application"
   ]
  },
  {
   "cell_type": "markdown",
   "metadata": {},
   "source": [
    "**reading an environmental variable:**\n",
    "- using `os` library `os.getenv(<environment_variable_name>)`\n",
    "- using `dotenv` library to set the environmental vatiables **locally**\n",
    "    - don't hard code\n",
    "    - don't check sensitive values into a **source contorl**(another name of version control)\n",
    "    - create a '.env' file which stores the environmental vatiables\n",
    "    - use `load_dotenv()` to get the environmental vatiables from the .env file if it is not set externally\n",
    "    - publish the code without any change and don't publich the .env file\n",
    "    - if you're using git, make sure that you add **.env** to **.gitignore** file"
   ]
  },
  {
   "cell_type": "code",
   "execution_count": 7,
   "metadata": {},
   "outputs": [
    {
     "name": "stdout",
     "output_type": "stream",
     "text": [
      "10.1.243\n"
     ]
    }
   ],
   "source": [
    "import os\n",
    "cuda_version = os.getenv('CUDA_VERSION')\n",
    "print(cuda_version)"
   ]
  },
  {
   "cell_type": "code",
   "execution_count": 10,
   "metadata": {},
   "outputs": [
    {
     "name": "stdout",
     "output_type": "stream",
     "text": [
      "CHIZAO!!!\n"
     ]
    }
   ],
   "source": [
    "from dotenv import load_dotenv\n",
    "load_dotenv()\n",
    "import os\n",
    "\n",
    "user=os.getenv('USER')\n",
    "\n",
    "print(user)"
   ]
  },
  {
   "cell_type": "markdown",
   "metadata": {},
   "source": [
    "**Programming components:**\n",
    "- Objects\n",
    "    - Nouns\n",
    "    - Data constructs\n",
    "- Functions/Methods\n",
    "    - Verbs\n",
    "    - Actions\n",
    "- Adjectives\n",
    "    - Decorators"
   ]
  },
  {
   "cell_type": "markdown",
   "metadata": {},
   "source": [
    "**Decorators:**\n",
    "- Adjectivces\n",
    "- Add additional fuctionality to code\n",
    "- **Common in frameworks**(e.g.: *Django, Flash*)"
   ]
  },
  {
   "cell_type": "markdown",
   "metadata": {},
   "source": [
    "**creating a decorator:**"
   ]
  },
  {
   "cell_type": "code",
   "execution_count": 11,
   "metadata": {},
   "outputs": [],
   "source": [
    "def logger(func):\n",
    "    def wrapper():\n",
    "        print('Logging execution')\n",
    "        func()\n",
    "        print('Done logging')\n",
    "    return wrapper"
   ]
  },
  {
   "cell_type": "markdown",
   "metadata": {},
   "source": [
    "**using a decorator:**"
   ]
  },
  {
   "cell_type": "code",
   "execution_count": 16,
   "metadata": {},
   "outputs": [],
   "source": [
    "# using the decorator logger\n",
    "# when someone call the function sample()\n",
    "# since the decorator logger is on top of sample()\n",
    "# the function wrapper() will execute as well\n",
    "@logger\n",
    "def sample():\n",
    "    print('this is a sample function')"
   ]
  },
  {
   "cell_type": "code",
   "execution_count": 14,
   "metadata": {},
   "outputs": [
    {
     "name": "stdout",
     "output_type": "stream",
     "text": [
      "Logging execution\n",
      "this is a sample function\n",
      "Done logging\n"
     ]
    }
   ],
   "source": [
    "sample()"
   ]
  },
  {
   "cell_type": "markdown",
   "metadata": {},
   "source": [
    "**Class：**"
   ]
  },
  {
   "cell_type": "markdown",
   "metadata": {},
   "source": [
    "class 类名:\n",
    "    \n",
    "    def __init__(self, 参数 , ...): # 构造函数\n",
    "    ...\n",
    "    \n",
    "    def 方法名 1(self, 参数 , ...): # 方法 1\n",
    "    ...\n",
    "    \n",
    "    def 方法名 2(self, 参数 , ...):  # 方法 2\n",
    "    ..."
   ]
  },
  {
   "cell_type": "markdown",
   "metadata": {},
   "source": [
    "这里有一个特殊的 __init__ 方法,这是进行初始化的方法,也称为构造\n",
    "函数 (constructor) , 只在生成类的实例时被调用一次。此外,在方法的第一\n",
    "个参数中明确地写入表示自身(自身的实例)的 self 是 Python 的一个特点"
   ]
  },
  {
   "cell_type": "code",
   "execution_count": 14,
   "metadata": {},
   "outputs": [],
   "source": [
    "class Man:\n",
    "    def __init__(self, name):\n",
    "        self.name = name\n",
    "        print('Initialized!')\n",
    "    def hello(self):\n",
    "        print(f'hello {self.name}!')\n",
    "    def goodbye(self, n):\n",
    "        for i in range(n):\n",
    "            print('Bye!')"
   ]
  },
  {
   "cell_type": "code",
   "execution_count": 15,
   "metadata": {},
   "outputs": [
    {
     "name": "stdout",
     "output_type": "stream",
     "text": [
      "Initialized!\n",
      "hello Chizao!\n",
      "Bye!\n",
      "Bye!\n",
      "Bye!\n"
     ]
    }
   ],
   "source": [
    "man = Man('Chizao')\n",
    "man.hello()\n",
    "man.goodbye(3)"
   ]
  }
 ],
 "metadata": {
  "kernelspec": {
   "display_name": "Python 3",
   "language": "python",
   "name": "python3"
  },
  "language_info": {
   "codemirror_mode": {
    "name": "ipython",
    "version": 3
   },
   "file_extension": ".py",
   "mimetype": "text/x-python",
   "name": "python",
   "nbconvert_exporter": "python",
   "pygments_lexer": "ipython3",
   "version": "3.6.8"
  }
 },
 "nbformat": 4,
 "nbformat_minor": 4
}
