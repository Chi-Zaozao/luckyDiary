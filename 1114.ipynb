{
 "cells": [
  {
   "cell_type": "markdown",
   "metadata": {},
   "source": [
    "# Try to understand how tridentNet was built with detectron2"
   ]
  },
  {
   "cell_type": "markdown",
   "metadata": {},
   "source": [
    "## TridentNet/train_net.py:"
   ]
  },
  {
   "cell_type": "markdown",
   "metadata": {},
   "source": [
    "**default_argument_parser:**\n",
    "- Create a parser with some common arguments used by detectron2 users.\n",
    "- Returns: argparse.ArgumentParser\n",
    "- `import argparse`: the recommended command-line parsing module in the Python standard library."
   ]
  },
  {
   "cell_type": "code",
   "execution_count": 1,
   "metadata": {},
   "outputs": [],
   "source": [
    "from detectron2.engine import default_argument_parser"
   ]
  },
  {
   "cell_type": "code",
   "execution_count": 2,
   "metadata": {},
   "outputs": [
    {
     "data": {
      "text/plain": [
       "\u001b[0;31mSignature:\u001b[0m \u001b[0mdefault_argument_parser\u001b[0m\u001b[0;34m(\u001b[0m\u001b[0;34m)\u001b[0m\u001b[0;34m\u001b[0m\u001b[0;34m\u001b[0m\u001b[0m\n",
       "\u001b[0;31mSource:\u001b[0m   \n",
       "\u001b[0;32mdef\u001b[0m \u001b[0mdefault_argument_parser\u001b[0m\u001b[0;34m(\u001b[0m\u001b[0;34m)\u001b[0m\u001b[0;34m:\u001b[0m\u001b[0;34m\u001b[0m\n",
       "\u001b[0;34m\u001b[0m    \u001b[0;34m\"\"\"\u001b[0m\n",
       "\u001b[0;34m    Create a parser with some common arguments used by detectron2 users.\u001b[0m\n",
       "\u001b[0;34m\u001b[0m\n",
       "\u001b[0;34m    Returns:\u001b[0m\n",
       "\u001b[0;34m        argparse.ArgumentParser:\u001b[0m\n",
       "\u001b[0;34m    \"\"\"\u001b[0m\u001b[0;34m\u001b[0m\n",
       "\u001b[0;34m\u001b[0m    \u001b[0mparser\u001b[0m \u001b[0;34m=\u001b[0m \u001b[0margparse\u001b[0m\u001b[0;34m.\u001b[0m\u001b[0mArgumentParser\u001b[0m\u001b[0;34m(\u001b[0m\u001b[0mdescription\u001b[0m\u001b[0;34m=\u001b[0m\u001b[0;34m\"Detectron2 Training\"\u001b[0m\u001b[0;34m)\u001b[0m\u001b[0;34m\u001b[0m\n",
       "\u001b[0;34m\u001b[0m    \u001b[0mparser\u001b[0m\u001b[0;34m.\u001b[0m\u001b[0madd_argument\u001b[0m\u001b[0;34m(\u001b[0m\u001b[0;34m\"--config-file\"\u001b[0m\u001b[0;34m,\u001b[0m \u001b[0mdefault\u001b[0m\u001b[0;34m=\u001b[0m\u001b[0;34m\"\"\u001b[0m\u001b[0;34m,\u001b[0m \u001b[0mmetavar\u001b[0m\u001b[0;34m=\u001b[0m\u001b[0;34m\"FILE\"\u001b[0m\u001b[0;34m,\u001b[0m \u001b[0mhelp\u001b[0m\u001b[0;34m=\u001b[0m\u001b[0;34m\"path to config file\"\u001b[0m\u001b[0;34m)\u001b[0m\u001b[0;34m\u001b[0m\n",
       "\u001b[0;34m\u001b[0m    \u001b[0mparser\u001b[0m\u001b[0;34m.\u001b[0m\u001b[0madd_argument\u001b[0m\u001b[0;34m(\u001b[0m\u001b[0;34m\u001b[0m\n",
       "\u001b[0;34m\u001b[0m        \u001b[0;34m\"--resume\"\u001b[0m\u001b[0;34m,\u001b[0m\u001b[0;34m\u001b[0m\n",
       "\u001b[0;34m\u001b[0m        \u001b[0maction\u001b[0m\u001b[0;34m=\u001b[0m\u001b[0;34m\"store_true\"\u001b[0m\u001b[0;34m,\u001b[0m\u001b[0;34m\u001b[0m\n",
       "\u001b[0;34m\u001b[0m        \u001b[0mhelp\u001b[0m\u001b[0;34m=\u001b[0m\u001b[0;34m\"whether to attempt to resume from the checkpoint directory\"\u001b[0m\u001b[0;34m,\u001b[0m\u001b[0;34m\u001b[0m\n",
       "\u001b[0;34m\u001b[0m    \u001b[0;34m)\u001b[0m\u001b[0;34m\u001b[0m\n",
       "\u001b[0;34m\u001b[0m    \u001b[0mparser\u001b[0m\u001b[0;34m.\u001b[0m\u001b[0madd_argument\u001b[0m\u001b[0;34m(\u001b[0m\u001b[0;34m\"--eval-only\"\u001b[0m\u001b[0;34m,\u001b[0m \u001b[0maction\u001b[0m\u001b[0;34m=\u001b[0m\u001b[0;34m\"store_true\"\u001b[0m\u001b[0;34m,\u001b[0m \u001b[0mhelp\u001b[0m\u001b[0;34m=\u001b[0m\u001b[0;34m\"perform evaluation only\"\u001b[0m\u001b[0;34m)\u001b[0m\u001b[0;34m\u001b[0m\n",
       "\u001b[0;34m\u001b[0m    \u001b[0mparser\u001b[0m\u001b[0;34m.\u001b[0m\u001b[0madd_argument\u001b[0m\u001b[0;34m(\u001b[0m\u001b[0;34m\"--num-gpus\"\u001b[0m\u001b[0;34m,\u001b[0m \u001b[0mtype\u001b[0m\u001b[0;34m=\u001b[0m\u001b[0mint\u001b[0m\u001b[0;34m,\u001b[0m \u001b[0mdefault\u001b[0m\u001b[0;34m=\u001b[0m\u001b[0;36m1\u001b[0m\u001b[0;34m,\u001b[0m \u001b[0mhelp\u001b[0m\u001b[0;34m=\u001b[0m\u001b[0;34m\"number of gpus *per machine*\"\u001b[0m\u001b[0;34m)\u001b[0m\u001b[0;34m\u001b[0m\n",
       "\u001b[0;34m\u001b[0m    \u001b[0mparser\u001b[0m\u001b[0;34m.\u001b[0m\u001b[0madd_argument\u001b[0m\u001b[0;34m(\u001b[0m\u001b[0;34m\"--num-machines\"\u001b[0m\u001b[0;34m,\u001b[0m \u001b[0mtype\u001b[0m\u001b[0;34m=\u001b[0m\u001b[0mint\u001b[0m\u001b[0;34m,\u001b[0m \u001b[0mdefault\u001b[0m\u001b[0;34m=\u001b[0m\u001b[0;36m1\u001b[0m\u001b[0;34m)\u001b[0m\u001b[0;34m\u001b[0m\n",
       "\u001b[0;34m\u001b[0m    \u001b[0mparser\u001b[0m\u001b[0;34m.\u001b[0m\u001b[0madd_argument\u001b[0m\u001b[0;34m(\u001b[0m\u001b[0;34m\u001b[0m\n",
       "\u001b[0;34m\u001b[0m        \u001b[0;34m\"--machine-rank\"\u001b[0m\u001b[0;34m,\u001b[0m \u001b[0mtype\u001b[0m\u001b[0;34m=\u001b[0m\u001b[0mint\u001b[0m\u001b[0;34m,\u001b[0m \u001b[0mdefault\u001b[0m\u001b[0;34m=\u001b[0m\u001b[0;36m0\u001b[0m\u001b[0;34m,\u001b[0m \u001b[0mhelp\u001b[0m\u001b[0;34m=\u001b[0m\u001b[0;34m\"the rank of this machine (unique per machine)\"\u001b[0m\u001b[0;34m\u001b[0m\n",
       "\u001b[0;34m\u001b[0m    \u001b[0;34m)\u001b[0m\u001b[0;34m\u001b[0m\n",
       "\u001b[0;34m\u001b[0m\u001b[0;34m\u001b[0m\n",
       "\u001b[0;34m\u001b[0m    \u001b[0;31m# PyTorch still may leave orphan processes in multi-gpu training.\u001b[0m\u001b[0;34m\u001b[0m\n",
       "\u001b[0;34m\u001b[0m    \u001b[0;31m# Therefore we use a deterministic way to obtain port,\u001b[0m\u001b[0;34m\u001b[0m\n",
       "\u001b[0;34m\u001b[0m    \u001b[0;31m# so that users are aware of orphan processes by seeing the port occupied.\u001b[0m\u001b[0;34m\u001b[0m\n",
       "\u001b[0;34m\u001b[0m    \u001b[0mport\u001b[0m \u001b[0;34m=\u001b[0m \u001b[0;36m2\u001b[0m \u001b[0;34m**\u001b[0m \u001b[0;36m15\u001b[0m \u001b[0;34m+\u001b[0m \u001b[0;36m2\u001b[0m \u001b[0;34m**\u001b[0m \u001b[0;36m14\u001b[0m \u001b[0;34m+\u001b[0m \u001b[0mhash\u001b[0m\u001b[0;34m(\u001b[0m\u001b[0mos\u001b[0m\u001b[0;34m.\u001b[0m\u001b[0mgetuid\u001b[0m\u001b[0;34m(\u001b[0m\u001b[0;34m)\u001b[0m\u001b[0;34m)\u001b[0m \u001b[0;34m%\u001b[0m \u001b[0;36m2\u001b[0m \u001b[0;34m**\u001b[0m \u001b[0;36m14\u001b[0m\u001b[0;34m\u001b[0m\n",
       "\u001b[0;34m\u001b[0m    \u001b[0mparser\u001b[0m\u001b[0;34m.\u001b[0m\u001b[0madd_argument\u001b[0m\u001b[0;34m(\u001b[0m\u001b[0;34m\"--dist-url\"\u001b[0m\u001b[0;34m,\u001b[0m \u001b[0mdefault\u001b[0m\u001b[0;34m=\u001b[0m\u001b[0;34m\"tcp://127.0.0.1:{}\"\u001b[0m\u001b[0;34m.\u001b[0m\u001b[0mformat\u001b[0m\u001b[0;34m(\u001b[0m\u001b[0mport\u001b[0m\u001b[0;34m)\u001b[0m\u001b[0;34m)\u001b[0m\u001b[0;34m\u001b[0m\n",
       "\u001b[0;34m\u001b[0m    \u001b[0mparser\u001b[0m\u001b[0;34m.\u001b[0m\u001b[0madd_argument\u001b[0m\u001b[0;34m(\u001b[0m\u001b[0;34m\u001b[0m\n",
       "\u001b[0;34m\u001b[0m        \u001b[0;34m\"opts\"\u001b[0m\u001b[0;34m,\u001b[0m\u001b[0;34m\u001b[0m\n",
       "\u001b[0;34m\u001b[0m        \u001b[0mhelp\u001b[0m\u001b[0;34m=\u001b[0m\u001b[0;34m\"Modify config options using the command-line\"\u001b[0m\u001b[0;34m,\u001b[0m\u001b[0;34m\u001b[0m\n",
       "\u001b[0;34m\u001b[0m        \u001b[0mdefault\u001b[0m\u001b[0;34m=\u001b[0m\u001b[0;32mNone\u001b[0m\u001b[0;34m,\u001b[0m\u001b[0;34m\u001b[0m\n",
       "\u001b[0;34m\u001b[0m        \u001b[0mnargs\u001b[0m\u001b[0;34m=\u001b[0m\u001b[0margparse\u001b[0m\u001b[0;34m.\u001b[0m\u001b[0mREMAINDER\u001b[0m\u001b[0;34m,\u001b[0m\u001b[0;34m\u001b[0m\n",
       "\u001b[0;34m\u001b[0m    \u001b[0;34m)\u001b[0m\u001b[0;34m\u001b[0m\n",
       "\u001b[0;34m\u001b[0m    \u001b[0;32mreturn\u001b[0m \u001b[0mparser\u001b[0m\u001b[0;34m\u001b[0m\u001b[0;34m\u001b[0m\u001b[0m\n",
       "\u001b[0;31mFile:\u001b[0m      /detectron2_repo/detectron2/engine/defaults.py\n",
       "\u001b[0;31mType:\u001b[0m      function\n"
      ]
     },
     "metadata": {},
     "output_type": "display_data"
    }
   ],
   "source": [
    "??default_argument_parser"
   ]
  },
  {
   "cell_type": "markdown",
   "metadata": {},
   "source": [
    "***magic commands to handle .py files:***\n",
    "- 参考[user2304916](https://stackoverflow.com/questions/21034373/how-to-load-edit-run-save-text-files-py-into-an-ipython-notebook-cell)在stackoverflow的回答。\n",
    "- `%load <filename.py>`: the content of `filename.py` will be loaded in the next cell. You can edit and execute it as usual.\n",
    "- `%run <filename.py>`: allows you to run any python script and load all of its data directly into the interactive namespace\n",
    "- `%%writefile <filename.py>`: saves the cell content back into a file. you should add the magic command at the **top** of the cell and run it. Beaware that if a file with the same name already exists it will **be silently overwritten**.\n",
    "- `%magic`:  general help on magic functions\n",
    "- `%lsmagic`: a list of the available magic functions\n",
    "- To see the help for any magic command add a `?`: like `%load?` or `%%writefile?`\n",
    "- See also: [Magic functions](http://ipython.org/ipython-doc/dev/interactive/tutorial.html#magic-functions) from the official IPython docs."
   ]
  },
  {
   "cell_type": "markdown",
   "metadata": {},
   "source": [
    "***Argparse Tutorial:***\n",
    "- 参考[argparse tutorial](https://docs.python.org/3/howto/argparse.html)和[argparse docs](https://docs.python.org/zh-cn/3/library/argparse.html)"
   ]
  },
  {
   "cell_type": "markdown",
   "metadata": {},
   "source": [
    "methods:\n",
    "- `add_argument()`: specify which command-line options the program is willing to accept\n",
    "    - `'<positional_argument_name>'`: positional argument\n",
    "    - `'--<optional_argument_name>'`: optional argument\n",
    "    - `'-<short_option_name>'`: the short type of an optional argument \n",
    "    - `type = <type>`: specify the data type of an argument, default to string\n",
    "    - `help = <contents>`: explain what the argument is when run '--help' or '-h'\n",
    "    - `action = 'store_true`: if the option is specified, assign the value True to the argument. Not specifying it implies False.\n",
    "    - `action = 'count'`:  to count the number of occurrences of a specific optional arguments. If you don’t specify the argument, that argument is considered to have None value. If you have a default value, it will add the number of occurrences to it.\n",
    "    - `choices = [choice1, choice2, ...]`: restrict the values the argument option can accept \n",
    "    - `default = <default_value>`: specify the default value\n",
    "- `parse_args()`: return data from options specified\n",
    "- `add_mutually_exclusive_group()`: specify options that **conflict with each other**\n",
    "- `metavar = <metavar_name>`: A name for the argument in usage messages(在使用方法消息中使用的参数值示例, e.g. `metavar='FILE'`, `metavar = 'N'`)"
   ]
  },
  {
   "cell_type": "code",
   "execution_count": 3,
   "metadata": {},
   "outputs": [
    {
     "name": "stdout",
     "output_type": "stream",
     "text": [
      "Overwriting ./codes/argParse.py\n"
     ]
    }
   ],
   "source": [
    "%%writefile ./codes/argParse.py\n",
    "# %load ./codes/argParse.py\n",
    "import argparse\n",
    "parser = argparse.ArgumentParser()\n",
    "group =  parser.add_mutually_exclusive_group()\n",
    "# calling this program now need to specify 2 argument 'echo' and 'square'\n",
    "# Positional arguments\n",
    "parser.add_argument('square', type = int, help = 'display a square of a given number')\n",
    "# Optional arguments\n",
    "group.add_argument('-n','--noise', action='store_true',\n",
    "                   help='make some noise!')\n",
    "group.add_argument('-q', '--quiet', action='store_true',\n",
    "                   help = 'be qiuet!')\n",
    "parser.add_argument('-v','--verbosity', help = 'increase output verbosity', choices = [1, 2, 3], type = int)\n",
    "parser.add_argument('-c','--count', default = 100, \n",
    "                    help = 'count  the number of occurrences of a specific optional arguments', action = 'count')\n",
    "args = parser.parse_args()\n",
    "answer = args.square**2\n",
    "if args.count:\n",
    "    print(f'It counts {args.count}')\n",
    "    print(type(args.count))\n",
    "if args.verbosity:\n",
    "    print(f'verbosity {args.verbosity} turned on')\n",
    "if args.noise:\n",
    "    print('the square of {} equals {}'.format(args.square, answer))\n",
    "elif args.quiet:\n",
    "    print(answer)\n",
    "else:\n",
    "    print(f'{answer} !!!')"
   ]
  },
  {
   "cell_type": "code",
   "execution_count": 4,
   "metadata": {},
   "outputs": [
    {
     "name": "stdout",
     "output_type": "stream",
     "text": [
      "It counts 100\n",
      "<class 'int'>\n",
      "verbosity 1 turned on\n",
      "16\n"
     ]
    }
   ],
   "source": [
    "%run ./codes/argParse.py  -v 1 -q 4 "
   ]
  },
  {
   "cell_type": "code",
   "execution_count": 5,
   "metadata": {},
   "outputs": [
    {
     "name": "stdout",
     "output_type": "stream",
     "text": [
      "It counts 103\n",
      "<class 'int'>\n",
      "verbosity 2 turned on\n",
      "16 !!!\n"
     ]
    }
   ],
   "source": [
    "%run ./codes/argParse.py --verbosity 2 4  --count --count --count"
   ]
  },
  {
   "cell_type": "code",
   "execution_count": 6,
   "metadata": {},
   "outputs": [
    {
     "name": "stdout",
     "output_type": "stream",
     "text": [
      "It counts 100\n",
      "<class 'int'>\n",
      "16 !!!\n"
     ]
    }
   ],
   "source": [
    "%run ./codes/argParse.py 4 "
   ]
  },
  {
   "cell_type": "code",
   "execution_count": 7,
   "metadata": {},
   "outputs": [
    {
     "name": "stdout",
     "output_type": "stream",
     "text": [
      "usage: argParse.py [-h] [-n | -q] [-v {1,2,3}] [-c] square\n",
      "\n",
      "positional arguments:\n",
      "  square                display a square of a given number\n",
      "\n",
      "optional arguments:\n",
      "  -h, --help            show this help message and exit\n",
      "  -n, --noise           make some noise!\n",
      "  -q, --quiet           be qiuet!\n",
      "  -v {1,2,3}, --verbosity {1,2,3}\n",
      "                        increase output verbosity\n",
      "  -c, --count           count the number of occurrences of a specific optional\n",
      "                        arguments\n"
     ]
    }
   ],
   "source": [
    "%run ./codes/argParse.py --help"
   ]
  },
  {
   "cell_type": "code",
   "execution_count": 19,
   "metadata": {},
   "outputs": [
    {
     "name": "stdout",
     "output_type": "stream",
     "text": [
      "Overwriting ./codes/default_argument_parser_detectron2.py\n"
     ]
    }
   ],
   "source": [
    "%%writefile ./codes/default_argument_parser_detectron2.py\n",
    "\n",
    "import argparse\n",
    "import os\n",
    "\n",
    "def default_argument_parser():\n",
    "    \"\"\"\n",
    "    Create a parser with some common arguments used by detectron2 users.\n",
    "\n",
    "    Returns:\n",
    "        argparse.ArgumentParser:\n",
    "    \"\"\"\n",
    "    parser = argparse.ArgumentParser(description='Learning Detectron2:train_net.py')\n",
    "    parser.add_argument('--config-file', default='', metavar='FILE', help='path to config file')\n",
    "    parser.add_argument(\n",
    "        '--resume',\n",
    "        action='store_true',\n",
    "        help='whether to attempt to resume from the checkpoint directory'\n",
    "    )\n",
    "    parser.add_argument('--eval-only', action='store_true', help='perform evaluation only')\n",
    "    parser.add_argument('--num-gpus', type=int, default=1, help='number of gpus *per machine*')\n",
    "    parser.add_argument('--num-machines', type=int, default=1)\n",
    "    parser.add_argument(\n",
    "        '--machine-rank', type=int, default=0, help='the rank of this machine (unique per machine)'\n",
    "        )\n",
    "    port = 2 ** 15 + 2 ** 14 + hash(os.getuid()) % 2 ** 14\n",
    "    parser.add_argument('--dist-url', default=f'tcp://127.0.0.1:{port}')\n",
    "    parser.add_argument(\n",
    "        'opts',\n",
    "        help='Modify config options using the command-line',\n",
    "        default=None,\n",
    "        nargs=argparse.REMAINDER,\n",
    "    )\n",
    "    return parser\n",
    "\n",
    "if __name__ == '__main__':\n",
    "    args = default_argument_parser().parse_args()"
   ]
  },
  {
   "cell_type": "code",
   "execution_count": 21,
   "metadata": {},
   "outputs": [],
   "source": [
    "%run ./codes/default_argument_parser_detectron2.py \\\n",
    "--config-file='projects/TridentNet/configs/tridentnet_fast_R_50_C4_1x.yaml' \\\n",
    "SOLVER.IMS_PER_BATCH 2 SOLVER.BASE_LR 0.0025"
   ]
  },
  {
   "cell_type": "code",
   "execution_count": 23,
   "metadata": {},
   "outputs": [
    {
     "name": "stdout",
     "output_type": "stream",
     "text": [
      "Command Line Args: Namespace(config_file='projects/TridentNet/configs/tridentnet_fast_R_50_C4_1x.yaml', dist_url='tcp://127.0.0.1:49152', eval_only=False, machine_rank=0, num_gpus=1, num_machines=1, opts=['SOLVER.IMS_PER_BATCH', '2', 'SOLVER.BASE_LR', '0.0025'], resume=False)\n"
     ]
    }
   ],
   "source": [
    "print(\"Command Line Args:\", args)"
   ]
  },
  {
   "cell_type": "code",
   "execution_count": 24,
   "metadata": {},
   "outputs": [],
   "source": [
    "from detectron2.engine import launch"
   ]
  },
  {
   "cell_type": "code",
   "execution_count": 26,
   "metadata": {},
   "outputs": [
    {
     "data": {
      "text/plain": [
       "\u001b[0;31mSignature:\u001b[0m \u001b[0mlaunch\u001b[0m\u001b[0;34m(\u001b[0m\u001b[0mmain_func\u001b[0m\u001b[0;34m,\u001b[0m \u001b[0mnum_gpus_per_machine\u001b[0m\u001b[0;34m,\u001b[0m \u001b[0mnum_machines\u001b[0m\u001b[0;34m=\u001b[0m\u001b[0;36m1\u001b[0m\u001b[0;34m,\u001b[0m \u001b[0mmachine_rank\u001b[0m\u001b[0;34m=\u001b[0m\u001b[0;36m0\u001b[0m\u001b[0;34m,\u001b[0m \u001b[0mdist_url\u001b[0m\u001b[0;34m=\u001b[0m\u001b[0;32mNone\u001b[0m\u001b[0;34m,\u001b[0m \u001b[0margs\u001b[0m\u001b[0;34m=\u001b[0m\u001b[0;34m(\u001b[0m\u001b[0;34m)\u001b[0m\u001b[0;34m)\u001b[0m\u001b[0;34m\u001b[0m\u001b[0;34m\u001b[0m\u001b[0m\n",
       "\u001b[0;31mSource:\u001b[0m   \n",
       "\u001b[0;32mdef\u001b[0m \u001b[0mlaunch\u001b[0m\u001b[0;34m(\u001b[0m\u001b[0mmain_func\u001b[0m\u001b[0;34m,\u001b[0m \u001b[0mnum_gpus_per_machine\u001b[0m\u001b[0;34m,\u001b[0m \u001b[0mnum_machines\u001b[0m\u001b[0;34m=\u001b[0m\u001b[0;36m1\u001b[0m\u001b[0;34m,\u001b[0m \u001b[0mmachine_rank\u001b[0m\u001b[0;34m=\u001b[0m\u001b[0;36m0\u001b[0m\u001b[0;34m,\u001b[0m \u001b[0mdist_url\u001b[0m\u001b[0;34m=\u001b[0m\u001b[0;32mNone\u001b[0m\u001b[0;34m,\u001b[0m \u001b[0margs\u001b[0m\u001b[0;34m=\u001b[0m\u001b[0;34m(\u001b[0m\u001b[0;34m)\u001b[0m\u001b[0;34m)\u001b[0m\u001b[0;34m:\u001b[0m\u001b[0;34m\u001b[0m\n",
       "\u001b[0;34m\u001b[0m    \u001b[0;34m\"\"\"\u001b[0m\n",
       "\u001b[0;34m    Args:\u001b[0m\n",
       "\u001b[0;34m        main_func: a function that will be called by `main_func(*args)`\u001b[0m\n",
       "\u001b[0;34m        num_machines (int): the total number of machines\u001b[0m\n",
       "\u001b[0;34m        machine_rank (int): the rank of this machine (one per machine)\u001b[0m\n",
       "\u001b[0;34m        dist_url (str): url to connect to for distributed training, including protocol\u001b[0m\n",
       "\u001b[0;34m                       e.g. \"tcp://127.0.0.1:8686\".\u001b[0m\n",
       "\u001b[0;34m                       Can be set to auto to automatically select a free port on localhost\u001b[0m\n",
       "\u001b[0;34m        args (tuple): arguments passed to main_func\u001b[0m\n",
       "\u001b[0;34m    \"\"\"\u001b[0m\u001b[0;34m\u001b[0m\n",
       "\u001b[0;34m\u001b[0m    \u001b[0mworld_size\u001b[0m \u001b[0;34m=\u001b[0m \u001b[0mnum_machines\u001b[0m \u001b[0;34m*\u001b[0m \u001b[0mnum_gpus_per_machine\u001b[0m\u001b[0;34m\u001b[0m\n",
       "\u001b[0;34m\u001b[0m    \u001b[0;32mif\u001b[0m \u001b[0mworld_size\u001b[0m \u001b[0;34m>\u001b[0m \u001b[0;36m1\u001b[0m\u001b[0;34m:\u001b[0m\u001b[0;34m\u001b[0m\n",
       "\u001b[0;34m\u001b[0m        \u001b[0;31m# https://github.com/pytorch/pytorch/pull/14391\u001b[0m\u001b[0;34m\u001b[0m\n",
       "\u001b[0;34m\u001b[0m        \u001b[0;31m# TODO prctl in spawned processes\u001b[0m\u001b[0;34m\u001b[0m\n",
       "\u001b[0;34m\u001b[0m\u001b[0;34m\u001b[0m\n",
       "\u001b[0;34m\u001b[0m        \u001b[0;32mif\u001b[0m \u001b[0mdist_url\u001b[0m \u001b[0;34m==\u001b[0m \u001b[0;34m\"auto\"\u001b[0m\u001b[0;34m:\u001b[0m\u001b[0;34m\u001b[0m\n",
       "\u001b[0;34m\u001b[0m            \u001b[0;32massert\u001b[0m \u001b[0mnum_machines\u001b[0m \u001b[0;34m==\u001b[0m \u001b[0;36m1\u001b[0m\u001b[0;34m,\u001b[0m \u001b[0;34m\"dist_url=auto cannot work with distributed training.\"\u001b[0m\u001b[0;34m\u001b[0m\n",
       "\u001b[0;34m\u001b[0m            \u001b[0mport\u001b[0m \u001b[0;34m=\u001b[0m \u001b[0m_find_free_port\u001b[0m\u001b[0;34m(\u001b[0m\u001b[0;34m)\u001b[0m\u001b[0;34m\u001b[0m\n",
       "\u001b[0;34m\u001b[0m            \u001b[0mdist_url\u001b[0m \u001b[0;34m=\u001b[0m \u001b[0;34mf\"tcp://127.0.0.1:{port}\"\u001b[0m\u001b[0;34m\u001b[0m\n",
       "\u001b[0;34m\u001b[0m\u001b[0;34m\u001b[0m\n",
       "\u001b[0;34m\u001b[0m        \u001b[0mmp\u001b[0m\u001b[0;34m.\u001b[0m\u001b[0mspawn\u001b[0m\u001b[0;34m(\u001b[0m\u001b[0;34m\u001b[0m\n",
       "\u001b[0;34m\u001b[0m            \u001b[0m_distributed_worker\u001b[0m\u001b[0;34m,\u001b[0m\u001b[0;34m\u001b[0m\n",
       "\u001b[0;34m\u001b[0m            \u001b[0mnprocs\u001b[0m\u001b[0;34m=\u001b[0m\u001b[0mnum_gpus_per_machine\u001b[0m\u001b[0;34m,\u001b[0m\u001b[0;34m\u001b[0m\n",
       "\u001b[0;34m\u001b[0m            \u001b[0margs\u001b[0m\u001b[0;34m=\u001b[0m\u001b[0;34m(\u001b[0m\u001b[0mmain_func\u001b[0m\u001b[0;34m,\u001b[0m \u001b[0mworld_size\u001b[0m\u001b[0;34m,\u001b[0m \u001b[0mnum_gpus_per_machine\u001b[0m\u001b[0;34m,\u001b[0m \u001b[0mmachine_rank\u001b[0m\u001b[0;34m,\u001b[0m \u001b[0mdist_url\u001b[0m\u001b[0;34m,\u001b[0m \u001b[0margs\u001b[0m\u001b[0;34m)\u001b[0m\u001b[0;34m,\u001b[0m\u001b[0;34m\u001b[0m\n",
       "\u001b[0;34m\u001b[0m            \u001b[0mdaemon\u001b[0m\u001b[0;34m=\u001b[0m\u001b[0;32mFalse\u001b[0m\u001b[0;34m,\u001b[0m\u001b[0;34m\u001b[0m\n",
       "\u001b[0;34m\u001b[0m        \u001b[0;34m)\u001b[0m\u001b[0;34m\u001b[0m\n",
       "\u001b[0;34m\u001b[0m    \u001b[0;32melse\u001b[0m\u001b[0;34m:\u001b[0m\u001b[0;34m\u001b[0m\n",
       "\u001b[0;34m\u001b[0m        \u001b[0mmain_func\u001b[0m\u001b[0;34m(\u001b[0m\u001b[0;34m*\u001b[0m\u001b[0margs\u001b[0m\u001b[0;34m)\u001b[0m\u001b[0;34m\u001b[0m\u001b[0;34m\u001b[0m\u001b[0m\n",
       "\u001b[0;31mFile:\u001b[0m      /detectron2_repo/detectron2/engine/launch.py\n",
       "\u001b[0;31mType:\u001b[0m      function\n"
      ]
     },
     "metadata": {},
     "output_type": "display_data"
    }
   ],
   "source": [
    "??launch"
   ]
  },
  {
   "cell_type": "markdown",
   "metadata": {},
   "source": [
    "It seems that it just run the main_func if I have just 1 gpu. \n",
    "I will study this in detail when I can train a model on the server."
   ]
  }
 ],
 "metadata": {
  "kernelspec": {
   "display_name": "Python 3",
   "language": "python",
   "name": "python3"
  },
  "language_info": {
   "codemirror_mode": {
    "name": "ipython",
    "version": 3
   },
   "file_extension": ".py",
   "mimetype": "text/x-python",
   "name": "python",
   "nbconvert_exporter": "python",
   "pygments_lexer": "ipython3",
   "version": "3.6.8"
  }
 },
 "nbformat": 4,
 "nbformat_minor": 4
}
