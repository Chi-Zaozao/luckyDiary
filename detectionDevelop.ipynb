{
 "cells": [
  {
   "cell_type": "markdown",
   "metadata": {},
   "source": [
    "## developed on Pytorch\n",
    "- [ ] fast.ai\n",
    "- [ ] mmDetection by *商汤*\n",
    "- [x] MaskRCNN-Benchmark by *facebook*\n",
    "- [x] Detectron2 by *facebook* \n",
    "### developed on Python and Caffe2\n",
    "    - [ ] Detectron by *facebook*\n",
    "### developed on MXNET\n",
    "    - [ ] Simpledet \n"
   ]
  },
  {
   "cell_type": "code",
   "execution_count": null,
   "metadata": {},
   "outputs": [],
   "source": []
  }
 ],
 "metadata": {
  "kernelspec": {
   "display_name": "Python 3",
   "language": "python",
   "name": "python3"
  },
  "language_info": {
   "codemirror_mode": {
    "name": "ipython",
    "version": 3
   },
   "file_extension": ".py",
   "mimetype": "text/x-python",
   "name": "python",
   "nbconvert_exporter": "python",
   "pygments_lexer": "ipython3",
   "version": "3.7.3"
  }
 },
 "nbformat": 4,
 "nbformat_minor": 4
}
