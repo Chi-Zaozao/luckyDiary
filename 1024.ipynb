{
 "cells": [
  {
   "cell_type": "markdown",
   "metadata": {},
   "source": [
    "# 今天学习Detectron2！"
   ]
  },
  {
   "cell_type": "code",
   "execution_count": 1,
   "metadata": {},
   "outputs": [],
   "source": [
    "%reload_ext autoreload\n",
    "%autoreload 2\n",
    "%matplotlib inline"
   ]
  },
  {
   "cell_type": "code",
   "execution_count": 2,
   "metadata": {},
   "outputs": [
    {
     "data": {
      "text/plain": [
       "<Logger detectron2 (DEBUG)>"
      ]
     },
     "execution_count": 2,
     "metadata": {},
     "output_type": "execute_result"
    }
   ],
   "source": [
    "from detectron2.utils.logger import setup_logger\n",
    "setup_logger()"
   ]
  },
  {
   "cell_type": "markdown",
   "metadata": {},
   "source": [
    "import some common libraries"
   ]
  },
  {
   "cell_type": "code",
   "execution_count": 3,
   "metadata": {},
   "outputs": [],
   "source": [
    "import numpy as np\n",
    "import cv2"
   ]
  },
  {
   "cell_type": "markdown",
   "metadata": {},
   "source": [
    "import some common detectron2 utilities"
   ]
  },
  {
   "cell_type": "code",
   "execution_count": 4,
   "metadata": {},
   "outputs": [],
   "source": [
    "from detectron2.engine import DefaultPredictor\n",
    "from detectron2.config import get_cfg\n",
    "from detectron2.utils.visualizer import Visualizer\n",
    "from detectron2.data import MetadataCatalog"
   ]
  },
  {
   "cell_type": "markdown",
   "metadata": {},
   "source": [
    "We first download a random image from the COCO dataset:"
   ]
  },
  {
   "cell_type": "code",
   "execution_count": 5,
   "metadata": {},
   "outputs": [
    {
     "name": "stdout",
     "output_type": "stream",
     "text": [
      "--2019-10-29 08:44:26--  http://images.cocodataset.org/val2017/000000439715.jpg\n",
      "Resolving images.cocodataset.org (images.cocodataset.org)... 52.216.232.203\n",
      "Connecting to images.cocodataset.org (images.cocodataset.org)|52.216.232.203|:80... connected.\n",
      "HTTP request sent, awaiting response... 200 OK\n",
      "Length: 209222 (204K) [image/jpeg]\n",
      "Saving to: './pics/input.jpg'\n",
      "\n",
      "./pics/input.jpg    100%[===================>] 204.32K   189KB/s    in 1.1s    \n",
      "\n",
      "2019-10-29 08:44:28 (189 KB/s) - './pics/input.jpg' saved [209222/209222]\n",
      "\n"
     ]
    }
   ],
   "source": [
    "!wget http://images.cocodataset.org/val2017/000000439715.jpg -O ./pics/input.jpg"
   ]
  },
  {
   "cell_type": "markdown",
   "metadata": {},
   "source": [
    "显示图片，此处调用opencv。\n",
    "- cv2.waitkey(delaytime)$\\rightarrow$returnvalue\n",
    "  - 在delaytime时间内,按键盘, 返回所按键的ASCII值;若未在delaytime时间内按任何键, 返回-1; 其中,dalaytime单位为ms;\n",
    "  - 当delaytime为0时,表示forever,永不退回."
   ]
  },
  {
   "cell_type": "code",
   "execution_count": 5,
   "metadata": {},
   "outputs": [],
   "source": [
    "im = cv2.imread(\"./pics/input.jpg\")\n",
    "WINDOW_NAME=\"COCO pic\"\n",
    "cv2.namedWindow(WINDOW_NAME, cv2.WINDOW_NORMAL)\n",
    "cv2.imshow(WINDOW_NAME,im)\n",
    "cv2.waitKey(0)\n",
    "cv2.destroyAllWindows()"
   ]
  },
  {
   "cell_type": "markdown",
   "metadata": {},
   "source": [
    "Then, we create a detectron2 config and a detectron2 `DefaultPredictor` to run inference on this image."
   ]
  },
  {
   "cell_type": "code",
   "execution_count": null,
   "metadata": {},
   "outputs": [],
   "source": [
    "cfg=get_cfg()\n",
    "cfg.merge_from_file(\"../configs/COCO-InstanceSegmentation/mask_rcnn_R_50_FPN_3x.yaml\")\n",
    "cfg.MODEL.ROI_HEADS.SCORE_THRESH_TEST=0.5 # set threshold for this model\n",
    "cfg.MODEL.WEIGHTS=\"detectron2://COCO-InstanceSegmentation/mask_rcnn_R_50_FPN_3x/137849600/model_final_f10217.pkl\"\n",
    "predictor = DefaultPredictor(cfg)\n",
    "outputs=predictor(im)"
   ]
  },
  {
   "cell_type": "code",
   "execution_count": null,
   "metadata": {},
   "outputs": [],
   "source": [
    "outputs[\"instances\"].pred_classes\n",
    "outputs[\"instances\"].pred_boxes"
   ]
  },
  {
   "cell_type": "markdown",
   "metadata": {},
   "source": [
    "We can use `Visualizer` to draw the predictions on the image"
   ]
  },
  {
   "cell_type": "code",
   "execution_count": null,
   "metadata": {},
   "outputs": [],
   "source": [
    "v=Visualizer(im[:,:,::-1],MetadataCatalog.get(cfg.DATASETS.TRAIN[0]),scale=1.2)\n",
    "v=v.draw_instance_predictions(outputs[\"instances\"].to(\"cpu\"))\n",
    "cv2.imshow(\"WINDOW_NAME\",v.get_image()[:,:,::-1])\n",
    "cv2.waitKey(0)\n",
    "cv2.destroyAllWindows()"
   ]
  },
  {
   "cell_type": "markdown",
   "metadata": {},
   "source": [
    "## 电脑卡住后重启，出现PCIe Bus error"
   ]
  },
  {
   "cell_type": "markdown",
   "metadata": {},
   "source": [
    "运行`cv2.imshow()`后没有跟`cv2.waitKey()`，结果电脑就卡住了，*其实我也不知道是不是`cv2.waitKey()`的原因，反正是重启了*"
   ]
  },
  {
   "cell_type": "markdown",
   "metadata": {},
   "source": [
    "重启后分辨率出现问题，运行`nvidia-smi`说我没安装nvidia驱动，莫名其妙！"
   ]
  },
  {
   "cell_type": "markdown",
   "metadata": {},
   "source": [
    "我`alt`+`ctrl`+`F6`进入命令行界面，不停的报错*PCIe Bus error*"
   ]
  },
  {
   "cell_type": "markdown",
   "metadata": {},
   "source": [
    "我重启发现并没有改观，就重装了nvidia驱动，然后重启，分辨率正常了，但*PCIe Bus error*还在"
   ]
  },
  {
   "cell_type": "markdown",
   "metadata": {},
   "source": [
    "网上搜到一般的解决方法都是[pci=nomsi](https://askubuntu.com/questions/911296/pcie-bus-error-ubuntu-16-04)方法,这种方法没交代error原因，也不根据错误代号来debug，我觉得不靠谱"
   ]
  },
  {
   "cell_type": "markdown",
   "metadata": {},
   "source": [
    "[caya](https://www.cnblogs.com/caya-yuan/p/10604519.html)的博客说明了寻找PCIe Bus error的方法。另外，[小默_Allent](https://blog.csdn.net/l461269717/article/details/85133751)的博客介绍了PCI及lspci命令。\n",
    "- PCI是Peripheral Component Interconnect（外围设备互联）的简称，是普遍使用在桌面及更大型的计算机上的外设总线。\n",
    "- lspci 是一个用来显示系统中所有PCI总线设备或连接到该总线上的所有设备的工具。\n",
    "- grep 指令用于查找内容包含指定的范本样式的文件，如果发现某文件的内容符合所指定的范本样式，预设 grep 指令会把含有范本样式的那一列显示出来。若不指定任何文件名称，或是所给予的文件名为 -，则 grep 指令会从标准输入设备读取数据。"
   ]
  },
  {
   "cell_type": "markdown",
   "metadata": {},
   "source": [
    "当前错误为："
   ]
  },
  {
   "cell_type": "raw",
   "metadata": {},
   "source": [
    "AER:Corrected error received: 0000:00:1b.0\n",
    "pcieport 0000:00:1b.0: PCIe Bus Error: severity=Corrected, type=Physical Layer, (Receiver ID) device [8086:a2ed] error status/mask=00000001/00002000"
   ]
  },
  {
   "cell_type": "markdown",
   "metadata": {},
   "source": [
    "查找device [8086：a2ed]"
   ]
  },
  {
   "cell_type": "raw",
   "metadata": {},
   "source": [
    "$ lspci -nn | grep 8086:a2ed"
   ]
  },
  {
   "cell_type": "markdown",
   "metadata": {},
   "source": [
    "输出:"
   ]
  },
  {
   "cell_type": "raw",
   "metadata": {},
   "source": [
    "00:1b.0 PCI bridge [0604]: Intel Corporation 200 Series PCH PCI Express Root Port #23 [8086:a2ed] (rev f0)"
   ]
  },
  {
   "cell_type": "markdown",
   "metadata": {},
   "source": [
    "- PCI bridge 是一种连接多个总线(Bus）的特殊PCI外设\n",
    "- 根据输出来看，[8086:a2ed]似乎连接到00:1b.0 PCI bridge，进而查找00:1b.0(*理解不太透彻，暂且这么认为*）"
   ]
  },
  {
   "cell_type": "raw",
   "metadata": {},
   "source": [
    "~$ lspci -t| 个grep 1b.0"
   ]
  },
  {
   "cell_type": "markdown",
   "metadata": {},
   "source": [
    "输出: "
   ]
  },
  {
   "cell_type": "raw",
   "metadata": {},
   "source": [
    "+-1b.0-[02]----00.0"
   ]
  },
  {
   "cell_type": "markdown",
   "metadata": {},
   "source": [
    "或者在PCI树状接口图中查找:"
   ]
  },
  {
   "cell_type": "raw",
   "metadata": {},
   "source": [
    "$ lspci -t"
   ]
  },
  {
   "cell_type": "markdown",
   "metadata": {},
   "source": [
    "输出:"
   ]
  },
  {
   "cell_type": "raw",
   "metadata": {},
   "source": [
    "-[0000:00]-+-00.0\n",
    "           +-01.0-[01]--+-00.0\n",
    "           |            \\-00.1\n",
    "           +-14.0\n",
    "           +-16.0\n",
    "           +-17.0\n",
    "           +-1b.0-[02]----00.0\n",
    "           +-1c.0-[03]--\n",
    "           +-1d.0-[04]--\n",
    "           +-1f.0\n",
    "           +-1f.2\n",
    "           +-1f.3\n",
    "           +-1f.4\n",
    "           \\-1f.6"
   ]
  },
  {
   "cell_type": "markdown",
   "metadata": {},
   "source": [
    "可以看到1b.0连接到02设备，继续查找:"
   ]
  },
  {
   "cell_type": "raw",
   "metadata": {},
   "source": [
    "$ lspci -nn|grep 02"
   ]
  },
  {
   "cell_type": "markdown",
   "metadata": {},
   "source": [
    "输出:"
   ]
  },
  {
   "cell_type": "raw",
   "metadata": {},
   "source": [
    "00:1f.6 Ethernet controller [0200]: Intel Corporation Ethernet Connection (2) I219-V [8086:15b8]\n",
    "02:00.0 Network controller [0280]: Intel Corporation Wireless 3165 [8086:3165] (rev 81)"
   ]
  },
  {
   "cell_type": "markdown",
   "metadata": {},
   "source": [
    "根据树状图，应该是02:00.0有问题，看起来和无限网有关，我把无线网关了，果然立刻停止报错。"
   ]
  },
  {
   "cell_type": "markdown",
   "metadata": {},
   "source": [
    "但这终究不是长久之计，似乎需要重装无线网卡驱动。"
   ]
  }
 ],
 "metadata": {
  "kernelspec": {
   "display_name": "Python 3",
   "language": "python",
   "name": "python3"
  },
  "language_info": {
   "codemirror_mode": {
    "name": "ipython",
    "version": 3
   },
   "file_extension": ".py",
   "mimetype": "text/x-python",
   "name": "python",
   "nbconvert_exporter": "python",
   "pygments_lexer": "ipython3",
   "version": "3.6.8"
  }
 },
 "nbformat": 4,
 "nbformat_minor": 4
}
