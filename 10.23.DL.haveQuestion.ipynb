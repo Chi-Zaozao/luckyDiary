{
 "cells": [
  {
   "cell_type": "markdown",
   "metadata": {},
   "source": [
    "# Ladder ladder, work harder!"
   ]
  },
  {
   "cell_type": "markdown",
   "metadata": {},
   "source": [
    "今天终于搭好了梯子，去facebook的[Colab Notrbook](https://colab.research.google.com/drive/16jcaJoc6bCFAQ96jDe2HwtXj7BMD_-m5)拿到了[Detectron2_Tutorial.ipynb](../tutorial/Detectron2_Tutorial.ipynb), 但是有点倦了不想写代码，就跑去看完了**deep learning**的第一章*引言*"
   ]
  },
  {
   "cell_type": "markdown",
   "metadata": {},
   "source": [
    "Btw，通过如下命令可以通过ssh连接到VPS"
   ]
  },
  {
   "cell_type": "raw",
   "metadata": {},
   "source": [
    "$ ssh root@11.22.33.4"
   ]
  },
  {
   "cell_type": "markdown",
   "metadata": {},
   "source": [
    "下面的内容是第一章的笔记"
   ]
  },
  {
   "cell_type": "markdown",
   "metadata": {},
   "source": [
    "## 机器学习（machine learning）"
   ]
  },
  {
   "cell_type": "markdown",
   "metadata": {},
   "source": [
    "**机器学习**：从原始数据中提取**模式（*如何定义？*）**的能力称为机器学习。\n",
    " - 模式，就姑且认为是特征吧，等从PRML招招定义\n",
    " - 模式识别，似乎是根据模式来进行判断（*输入是模式而非数据*）\n",
    " - 机器学习输入是数据"
   ]
  },
  {
   "cell_type": "markdown",
   "metadata": {},
   "source": [
    "机器学习的性能很大程度上依赖于给定数据的表示(***representation***)，例如："
   ]
  },
  {
   "cell_type": "markdown",
   "metadata": {},
   "source": [
    " 输入 | 输出 |难度| \n",
    " ---- |----|----\n",
    " 医生诊断报告 | 是否适合剖腹产 |易\n",
    " MRI(核磁共振)图像 | 是否适合剖腹产 | 难"
   ]
  },
  {
   "cell_type": "markdown",
   "metadata": {},
   "source": [
    "## 变差因素（factors of varitation）"
   ]
  },
  {
   "cell_type": "markdown",
   "metadata": {},
   "source": [
    "当设计特征或者设计用于学习特征的算法时，我们的目标通常是分离出能解释观察数据的**变差因素**"
   ]
  },
  {
   "cell_type": "markdown",
   "metadata": {},
   "source": [
    "变差因素可以被看作数据的概念或者抽象，帮助我们理解数据的多样性。例如："
   ]
  },
  {
   "cell_type": "markdown",
   "metadata": {},
   "source": [
    "数据 | 变差因素\n",
    "---- | -------\n",
    "语音记录|说话者的年龄、性别、口音...\n",
    "汽车图像|汽车的位置、颜色、太阳高度..."
   ]
  },
  {
   "cell_type": "markdown",
   "metadata": {},
   "source": [
    "### 个人理解"
   ]
  },
  {
   "cell_type": "markdown",
   "metadata": {},
   "source": [
    "变差因素是引起数据变化的原因，但并不一定是影响输出的特征。例如："
   ]
  },
  {
   "cell_type": "markdown",
   "metadata": {},
   "source": [
    "姓名|计算式|计算方式|输出\n",
    "--|---|--|---\n",
    "张三|1+1|计算器|2\n",
    "李四|1+1|心算|2\n",
    "王五|1+2|计算器|3\n"
   ]
  },
  {
   "cell_type": "markdown",
   "metadata": {},
   "source": [
    "上表中，姓名、计算式及计算方式都可认为是**变差因素**，其不同取值产生不同数据。而姓名与计算方式都不影响输出，计算式影响输出，可提取为**特征**。"
   ]
  },
  {
   "cell_type": "markdown",
   "metadata": {},
   "source": [
    "## 深度学习（deep learning）"
   ]
  },
  {
   "cell_type": "markdown",
   "metadata": {},
   "source": [
    "**深度学习**是一种**表示学习（representation learning）**，其通过其他较简单的表示来表达复杂表示："
   ]
  },
  {
   "cell_type": "markdown",
   "metadata": {},
   "source": [
    "流程图 | 输入 $\\Rightarrow$ 简单特征 $\\Rightarrow$ 更抽象特征的额外层 $\\Rightarrow$ 从特征映射 $\\Rightarrow$ 输出\n",
    " --|--\n",
    " 例如 | 汽车图像 $\\Rightarrow$ 线、弧 $\\Rightarrow$ 轮廓、车轮等 $\\Rightarrow$ 从特征映射 $\\Rightarrow$ 是否为汽车"
   ]
  },
  {
   "cell_type": "markdown",
   "metadata": {},
   "source": [
    "### 个人理解"
   ]
  },
  {
   "cell_type": "markdown",
   "metadata": {},
   "source": [
    " - 当输入图像时，若图像中含有某神经元表示的特征，则该神经元激活，否则，神经元不激活，层层递进，最终完成图像的识别。\n",
    " - 根据Hinton的Capsules的介绍，CNN似乎认为有车窗、轮胎等配件即判定为车，而忽略了各个配件间的空间关系。在这种情况下，修车店里胡乱堆放的一对配件也可能被判定为车，这是错误的。\n",
    "     - **CNN揭露了物体的组成关系，即某物由...组成，有足够的组件即可判定为真**\n",
    "     - **Capsules：组成关系+空间关系**\n",
    "     - 我认为有朝一日还可以加入**功能关系**，如刀用来切，纸用来写；以及**相互关系**，如插头插插座等。**知识图谱**似乎就是在做这个。"
   ]
  },
  {
   "cell_type": "markdown",
   "metadata": {},
   "source": [
    "## 分布式表示"
   ]
  },
  {
   "cell_type": "markdown",
   "metadata": {},
   "source": [
    "**分布式表示**的思想是：\n",
    " - 系统的每一个输入都应该由多个特征表示\n",
    " - 且每一个特征都应参与到多个可能输入的表示"
   ]
  },
  {
   "cell_type": "markdown",
   "metadata": {},
   "source": [
    "例如，一个识别红色、蓝色或绿色的汽车、卡车和鸟类的视觉系统，有两种表示输入（*输出是输入的表示*）的方法：\n",
    "1. 将9个可能的组合：红汽车、红卡车、蓝鸟等使用单独的神经元或隐藏单元激活\n",
    "    - 这需要9个不同的神经元，并且每个神经元必须独立地学习颜色和对象身份的概念，即表示红卡车的神经元只能从红卡车类同时学习红色和卡车信息。\n",
    "2. **分布式表示**：3个神经元描述颜色，三个神经元描述对象身份\n",
    "    - 仅需要6个神经元，且描述红色的神经元能从汽车、卡车和鸟类图像中学习红色，而不是仅从一个特定类别中学习。\n",
    "        - 每个输入图像均可由颜色特征和对象身份特征表示\n",
    "        - 每个特征均参与到多个可能输入的表示。如红色参与到红汽车、红卡车、红鸟的表示，鸟参与到红鸟、绿鸟和蓝鸟的表示"
   ]
  },
  {
   "cell_type": "markdown",
   "metadata": {},
   "source": [
    "### 个人理解，**有疑问待解答，读15章可能有答案**"
   ]
  },
  {
   "cell_type": "markdown",
   "metadata": {},
   "source": [
    "分布式表示的各个特征应尽可能相互独立。例如颜色和形状，每个输入由多个相互独立的特征表示，每个特征对应一个神经元，由多个输出神经元表示一个输入。\n",
    "- *颜色和形状也可能不是相互独立的，例如输入数据中，红色物体必定是圆形，绿色物体必定是方形，黄色物体可能是方形或者三角形等等，这种情况下如何表示呢？*\n",
    "    - 4个神经元，分别表示红圆形，绿方形，黄方形和黄三角\n",
    "    - 6个神经元，3个描述颜色，3个描述形状\n",
    "    - 5个神经元，前面3个描述颜色，描述黄色的神经元级联两个神经元分别描述方形和三角\n",
    "- *颜色和形状也可能不是相互独立的，例如输入数据中，红色物体必定是圆形，绿色物体可能是圆形或方形，黄色物体可能是方形或者三角形等等，这种情况下如何表示呢？*\n",
    "    - 5个神经元，分别表示红圆形，绿方形，绿圆形，黄方形和黄三角\n",
    "    - 6个神经元，3个描述颜色，3个描述形状\n",
    "    - 5个神经元，前面3个描述颜色，描述黄色和绿色的神经元级联两个神经元分别描述方形和三角\n",
    "    "
   ]
  }
 ],
 "metadata": {
  "kernelspec": {
   "display_name": "Python 3",
   "language": "python",
   "name": "python3"
  },
  "language_info": {
   "codemirror_mode": {
    "name": "ipython",
    "version": 3
   },
   "file_extension": ".py",
   "mimetype": "text/x-python",
   "name": "python",
   "nbconvert_exporter": "python",
   "pygments_lexer": "ipython3",
   "version": "3.6.8"
  }
 },
 "nbformat": 4,
 "nbformat_minor": 4
}
