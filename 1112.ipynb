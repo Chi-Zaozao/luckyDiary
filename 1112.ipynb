{
 "cells": [
  {
   "cell_type": "markdown",
   "metadata": {},
   "source": [
    "# Python面向对象编程"
   ]
  },
  {
   "cell_type": "markdown",
   "metadata": {},
   "source": [
    "*该部分参考[菜鸟教程](https://www.runoob.com/python/python-object.html)*"
   ]
  },
  {
   "cell_type": "markdown",
   "metadata": {},
   "source": [
    "类：\n",
    "   - 类(Class): 用来描述具有相同的属性和方法的对象的集合。它定义了该集合中每个对象所共有的属性和方法。对象是类的实例。\n",
    "    - 类变量：类变量在整个实例化的对象中是公用的。类变量定义在类中且在函数体之外。类变量通常不作为实例变量使用。\n",
    "    - 数据成员：类变量或者实例变量, 用于处理类及其实例对象的相关的数据。\n",
    "    - 方法重写：如果从父类继承的方法不能满足子类的需求，可以对其进行改写，这个过程叫方法的覆盖（override），也称为方法的重写。\n",
    "    - 局部变量：定义在方法中的变量，只作用于当前实例的类。\n",
    "    - 实例变量：在类的声明中，属性是用变量来表示的。这种变量就称为实例变量，是在类声明的内部但是在类的其他成员方法之外声明的。\n",
    "    - 继承：即一个派生类（derived class）继承基类（base class）的字段和方法。继承也允许把一个派生类的对象作为一个基类对象对待。\n",
    "        - 例如，有这样一个设计：一个Dog类型的对象派生自Animal类, 则可以将一个Dog对象作为一个Animal对象对待。\n",
    "    - 实例化：创建一个类的实例，类的具体对象。\n",
    "    - 方法：类中定义的函数。\n",
    "    - 对象：通过类定义的数据结构实例。对象包括两个数据成员（类变量和实例变量）和方法。\n"
   ]
  },
  {
   "cell_type": "code",
   "execution_count": 1,
   "metadata": {},
   "outputs": [],
   "source": [
    "class Land:\n",
    "    kingdoms = []\n",
    "    def __init__(self, name, king, capital, position):\n",
    "        self.name = name\n",
    "        self.king = king\n",
    "        self.capital = capital\n",
    "        self.position = position\n",
    "        if self.name not in Land.kingdoms:\n",
    "            Land.kingdoms.append(name)\n",
    "    def show(self):\n",
    "        print(f'Name: {self.name}')\n",
    "        print(f'King: {self.king}')\n",
    "        print(f'Capital: {self.capital}')\n",
    "    def ruin(self):\n",
    "        Land.kingdoms.remove(self.name)\n",
    "    @classmethod\n",
    "    def show_kingdoms(cls):\n",
    "        print('Kingdoms of the mainland:')\n",
    "        for i in cls.kingdoms:\n",
    "            print(i)"
   ]
  },
  {
   "cell_type": "code",
   "execution_count": 2,
   "metadata": {},
   "outputs": [
    {
     "name": "stdout",
     "output_type": "stream",
     "text": [
      "Name: Han\n",
      "King: LiuChe\n",
      "Capital: Luoyang\n",
      "Name: Han\n",
      "King: LiuChe\n",
      "Capital: Xu\n",
      "Kingdoms of the mainland:\n",
      "Han\n",
      "Kingdoms of the mainland:\n"
     ]
    }
   ],
   "source": [
    "donghan = Land('Han', 'LiuChe', 'Luoyang', 'China')\n",
    "donghan.show()\n",
    "donghan.capital = 'Xu'\n",
    "donghan.show()\n",
    "\n",
    "Land.show_kingdoms()\n",
    "donghan.ruin()\n",
    "Land.show_kingdoms()"
   ]
  },
  {
   "cell_type": "markdown",
   "metadata": {},
   "source": [
    "**访问属性：**\n",
    "- 除了使用`.`访问对象属性，也可以用以下函数来访问对象属性：\n",
    "  - getattr(obj, name[, default]) : 访问对象的属性。当给出默认参数时，当属性没有给出时，就返回默认参数存在;没有它，在这种情况下就会引发异常。\n",
    "  - hasattr(obj,name) : 检查是否存在一个属性。\n",
    "  - setattr(obj,name,value) : 设置一个属性。如果属性不存在，会创建一个新属性。\n",
    "  - delattr(obj, name) : 删除属性。"
   ]
  },
  {
   "cell_type": "code",
   "execution_count": 3,
   "metadata": {},
   "outputs": [
    {
     "data": {
      "text/plain": [
       "'Han'"
      ]
     },
     "execution_count": 3,
     "metadata": {},
     "output_type": "execute_result"
    }
   ],
   "source": [
    "getattr(donghan, 'name')"
   ]
  },
  {
   "cell_type": "code",
   "execution_count": 4,
   "metadata": {},
   "outputs": [
    {
     "data": {
      "text/plain": [
       "'Do not have this attr'"
      ]
     },
     "execution_count": 4,
     "metadata": {},
     "output_type": "execute_result"
    }
   ],
   "source": [
    "getattr(donghan, 'area', 'Do not have this attr')"
   ]
  },
  {
   "cell_type": "code",
   "execution_count": 5,
   "metadata": {},
   "outputs": [
    {
     "data": {
      "text/plain": [
       "False"
      ]
     },
     "execution_count": 5,
     "metadata": {},
     "output_type": "execute_result"
    }
   ],
   "source": [
    "hasattr(donghan,'area')"
   ]
  },
  {
   "cell_type": "code",
   "execution_count": 6,
   "metadata": {},
   "outputs": [
    {
     "data": {
      "text/plain": [
       "800"
      ]
     },
     "execution_count": 6,
     "metadata": {},
     "output_type": "execute_result"
    }
   ],
   "source": [
    "setattr(donghan, 'area', 800)\n",
    "donghan.area"
   ]
  },
  {
   "cell_type": "code",
   "execution_count": 7,
   "metadata": {},
   "outputs": [
    {
     "ename": "AttributeError",
     "evalue": "'Land' object has no attribute 'area'",
     "output_type": "error",
     "traceback": [
      "\u001b[0;31m---------------------------------------------------------------------------\u001b[0m",
      "\u001b[0;31mAttributeError\u001b[0m                            Traceback (most recent call last)",
      "\u001b[0;32m<ipython-input-7-f766718dd1d2>\u001b[0m in \u001b[0;36m<module>\u001b[0;34m()\u001b[0m\n\u001b[1;32m      1\u001b[0m \u001b[0mdelattr\u001b[0m\u001b[0;34m(\u001b[0m\u001b[0mdonghan\u001b[0m\u001b[0;34m,\u001b[0m \u001b[0;34m'area'\u001b[0m\u001b[0;34m)\u001b[0m\u001b[0;34m\u001b[0m\u001b[0;34m\u001b[0m\u001b[0m\n\u001b[0;32m----> 2\u001b[0;31m \u001b[0mdonghan\u001b[0m\u001b[0;34m.\u001b[0m\u001b[0marea\u001b[0m\u001b[0;34m\u001b[0m\u001b[0;34m\u001b[0m\u001b[0m\n\u001b[0m",
      "\u001b[0;31mAttributeError\u001b[0m: 'Land' object has no attribute 'area'"
     ]
    }
   ],
   "source": [
    "delattr(donghan, 'area')\n",
    "donghan.area"
   ]
  },
  {
   "cell_type": "markdown",
   "metadata": {},
   "source": [
    "**Python内置类属性：**\n",
    "- \\_\\_dict__: 类的属性（包含一个字典，由类的数据属性组成，*所以也包括`__dict__`*）\n",
    "- \\_\\_doc__: 类的文档字符串\n",
    "- \\_\\_name__: 类名\n",
    "- \\_\\_module__: 类定义所在的模块（类的全名是`__main__.className`, 如果类位于一个由`import`导入的模块(*module*)中，则`classname.__module__`为该module的名称）\n",
    "- \\_\\_bases__: 类的所有父类构成元素（包含了由所有父类构成的元祖, *这里的所有父类不是指递归，不会列出父类的父类*）"
   ]
  },
  {
   "cell_type": "code",
   "execution_count": 8,
   "metadata": {},
   "outputs": [
    {
     "name": "stdout",
     "output_type": "stream",
     "text": [
      "{'__module__': '__main__', 'kingdoms': [], '__init__': <function Land.__init__ at 0x7f2ce07a80d0>, 'show': <function Land.show at 0x7f2ce07a8158>, 'ruin': <function Land.ruin at 0x7f2ce07a81e0>, 'show_kingdoms': <classmethod object at 0x7f2ce07a6400>, '__dict__': <attribute '__dict__' of 'Land' objects>, '__weakref__': <attribute '__weakref__' of 'Land' objects>, '__doc__': None}\n",
      "Land\n",
      "None\n",
      "__main__\n",
      "<class 'object'>\n"
     ]
    }
   ],
   "source": [
    "print(Land.__dict__)\n",
    "print(Land.__name__)\n",
    "print(Land.__doc__)\n",
    "print(Land.__module__)\n",
    "print(Land.__base__)"
   ]
  },
  {
   "cell_type": "code",
   "execution_count": 9,
   "metadata": {},
   "outputs": [
    {
     "name": "stdout",
     "output_type": "stream",
     "text": [
      "detectron2.engine.defaults\n",
      "\n",
      "    A trainer with default training logic. Compared to `SimpleTrainer`, it\n",
      "    contains the following logic in addition:\n",
      "\n",
      "    1. Create model, optimizer, scheduler, dataloader from the given config.\n",
      "    2. Load a checkpoint or `cfg.MODEL.WEIGHTS`, if exists.\n",
      "    3. Register a few common hooks.\n",
      "\n",
      "    It is created to simplify the **standard model training workflow** and reduce code boilerplate\n",
      "    for users who only need the standard training workflow, with standard features.\n",
      "    It means this class makes *many assumptions* about your training logic that\n",
      "    may easily become invalid in a new research. In fact, any assumptions beyond those made in the\n",
      "    :class:`SimpleTrainer` are too much for research.\n",
      "\n",
      "    The code of this class has been annotated about restrictive assumptions it mades.\n",
      "    When they do not work for you, you're encouraged to write your own training logic.\n",
      "\n",
      "    Also note that the behavior of this class, like other functions/classes in\n",
      "    this file, is not stable, since it is meant to represent the \"common default behavior\".\n",
      "    It is only guaranteed to work well with the standard models and training workflow in detectron2.\n",
      "    To obtain more stable behavior, write your own training logic with other public APIs.\n",
      "\n",
      "    Attributes:\n",
      "        scheduler:\n",
      "        checkpointer (DetectionCheckpointer):\n",
      "        cfg (CfgNode):\n",
      "    \n",
      "<class 'detectron2.engine.train_loop.SimpleTrainer'>\n"
     ]
    }
   ],
   "source": [
    "from detectron2.engine import DefaultTrainer\n",
    "print(DefaultTrainer.__module__)\n",
    "print(DefaultTrainer.__doc__)\n",
    "print(DefaultTrainer.__base__)"
   ]
  },
  {
   "cell_type": "markdown",
   "metadata": {},
   "source": [
    "**类的继承：**\n",
    "- 通过继承机制，可实现代码的重用\n",
    "- 通过继承创建的新类称为**子类**或**派生类（derived class）**，被继承的类称为**基类**、**超类**或**父类**\n",
    "- 继承语法： `class SubClassName(ParentClass[, Parentclass2, ...]):`\n",
    "- 在Python中继承的一些特点：\n",
    "    - 如果在子类中需要基类的构造方法就需要显式的调用基类的构造方法，或者不重写子类的构造函数。参考[菜鸟教程](https://www.runoob.com/w3cnote/python-extends-init.html)\n",
    "    - 在调用基类方法时，需要加上基类的类名前缀，且要带上`self`参数变量。区别在于**类中**调用普通函数时并不需要带`self`参数\n",
    "    - Python总是首先查找对应类的方法，如果不能在派生类中找到对应的方法，才开始在基类中查找。\n",
    "    - 继承两个及以上的类，称为**多重继承**\n",
    "    - 判断继承关系：\n",
    "        - `issubclass(<subclass>, <superclass>)`: 判断一个类是否是另一个类的子类或子孙类\n",
    "        - `isinstance(<obj>, <class>)`: 判断obj是否是class的实例对象或class子类的实例对象\n",
    "    - **方法重写（override）**：若父类方法无法满足需求，则在子类重写基类方法"
   ]
  },
  {
   "cell_type": "code",
   "execution_count": 35,
   "metadata": {},
   "outputs": [],
   "source": [
    "class Kingdom(Land):\n",
    "    def battle(self, enemy):\n",
    "        if self.name > enemy.name:\n",
    "            print(f'{self.name} win!')\n",
    "        else:\n",
    "            print(f'{self.name} lose')\n",
    "    def ruin(self):\n",
    "        Kingdom.kingdoms.remove(self.name)\n",
    "#         Land.kingdoms.remove(self.name)\n",
    "        print(f\"{self.name} was ruined in {self.king}'s hands!\")"
   ]
  },
  {
   "cell_type": "code",
   "execution_count": 40,
   "metadata": {},
   "outputs": [
    {
     "name": "stdout",
     "output_type": "stream",
     "text": [
      "Wu win!\n",
      "Shu lose\n",
      "Kingdoms of the mainland:\n",
      "Wei\n",
      "Wu\n",
      "Jin\n",
      "Shu\n",
      "Name: Shu\n",
      "King: LiuBei\n",
      "Capital: Chengdu\n",
      "Shu was ruined in LiuBei's hands!\n",
      "<class '__main__.Land'>\n",
      "Kingdoms of the mainland:\n",
      "Wei\n",
      "Wu\n",
      "Jin\n",
      "True\n",
      "True\n",
      "True\n",
      "True\n"
     ]
    }
   ],
   "source": [
    "wei = Kingdom('Wei', 'CaoCao', 'Xu', 'North China')\n",
    "shu = Kingdom('Shu', 'LiuBei', 'Chengdu', 'Southwest China')\n",
    "wu = Kingdom('Wu', 'SunQuan', 'Jianye', 'Southeast China')\n",
    "wu.battle(wei)\n",
    "shu.battle(wei)\n",
    "wei.show_kingdoms()\n",
    "shu.show()\n",
    "shu.ruin()\n",
    "print(Kingdom.__base__)\n",
    "jin = Land('Jin', 'SimaYan', 'Luoyang', 'china')\n",
    "Kingdom.show_kingdoms()\n",
    "# 继承公共属性\n",
    "print(Land.kingdoms is Kingdom.kingdoms)\n",
    "print(issubclass(Kingdom, Land))\n",
    "print(isinstance(wu, Land))\n",
    "print(isinstance(jin, Land))"
   ]
  },
  {
   "cell_type": "markdown",
   "metadata": {},
   "source": [
    "**self:**\n",
    "- self代表类的实例，不代表类\n",
    "- self不是python关键字，替换成别的也可以"
   ]
  },
  {
   "cell_type": "markdown",
   "metadata": {},
   "source": [
    "**析构函数:**\n",
    "- `__del__(self)`: 析构函数在销毁对象时调用\n",
    "- `del <instance_name>`： 调用方法"
   ]
  },
  {
   "cell_type": "code",
   "execution_count": 43,
   "metadata": {},
   "outputs": [],
   "source": [
    "class General:\n",
    "    def __init__(man, name, king):\n",
    "        man.name = name\n",
    "        man.king = king\n",
    "    def show(self):\n",
    "        print(f'{self.king} has a general {self.name}')\n",
    "    def __del__(self):\n",
    "        print(f'{self.name} died!')"
   ]
  },
  {
   "cell_type": "code",
   "execution_count": 44,
   "metadata": {},
   "outputs": [
    {
     "name": "stdout",
     "output_type": "stream",
     "text": [
      "LiuBei has a general ZhaoYun\n",
      "ZhaoYun died!\n"
     ]
    }
   ],
   "source": [
    "zhaoyun = General('ZhaoYun', 'LiuBei')\n",
    "zhaoyun.show()\n",
    "del zhaoyun"
   ]
  },
  {
   "cell_type": "markdown",
   "metadata": {},
   "source": [
    "**类的私有属性:**\n",
    "- `__private_attrs`：两个下划线开头，声明该属性为私有，不能在类的外部被使用或直接访问。在类内部的方法中使用时 `self.__private_attrs`"
   ]
  },
  {
   "cell_type": "markdown",
   "metadata": {},
   "source": [
    "**类的私有方法:**\n",
    "-  `__private_method`：两个下划线开头，声明该方法为私有方法，不能在类的外部调用。在类的内部调用 `self.__private_methods `"
   ]
  },
  {
   "cell_type": "code",
   "execution_count": 53,
   "metadata": {},
   "outputs": [],
   "source": [
    "class King:\n",
    "    __wifes = []\n",
    "    def __init__(self, name, kingdom):\n",
    "        self.name = name\n",
    "        self.kingdom = kingdom\n",
    "    def __marry(self, girl):\n",
    "        if girl not in self.__wifes:\n",
    "            self.__wifes.append(girl)\n",
    "            print(f'King {self.name} just married {girl}！')\n",
    "    def add_wife(self, girl):\n",
    "        self.__marry(girl)\n",
    "        print(f'Now King {self.name} has {len(self.__wifes)} wifes：')\n",
    "        for i in self.__wifes:\n",
    "            print(i)"
   ]
  },
  {
   "cell_type": "code",
   "execution_count": 54,
   "metadata": {},
   "outputs": [
    {
     "name": "stdout",
     "output_type": "stream",
     "text": [
      "King CaoCao just married Ding！\n",
      "Now King CaoCao has 1 wifes：\n",
      "Ding\n",
      "King CaoCao just married Bian！\n",
      "Now King CaoCao has 2 wifes：\n",
      "Ding\n",
      "Bian\n"
     ]
    }
   ],
   "source": [
    "caocao = King('CaoCao', 'Wei')\n",
    "caocao.add_wife('Ding')\n",
    "caocao.add_wife('Bian')"
   ]
  },
  {
   "cell_type": "markdown",
   "metadata": {},
   "source": [
    "**单下划线、双下划线、头尾双下划线说明：**\n",
    "- `__foo__`: 定义的是特殊方法，一般是系统定义名字 ，类似 __init__() 之类的\n",
    "- `_foo`: 以单下划线开头的表示的是 protected 类型的变量，即保护类型只能允许其本身与子类进行访问，不能用于 `from module import *`\n",
    "- `__foo`: 双下划线的表示的是私有类型(private)的变量, 只能是允许这个类本身进行访问了"
   ]
  }
 ],
 "metadata": {
  "kernelspec": {
   "display_name": "Python 3",
   "language": "python",
   "name": "python3"
  },
  "language_info": {
   "codemirror_mode": {
    "name": "ipython",
    "version": 3
   },
   "file_extension": ".py",
   "mimetype": "text/x-python",
   "name": "python",
   "nbconvert_exporter": "python",
   "pygments_lexer": "ipython3",
   "version": "3.6.8"
  }
 },
 "nbformat": 4,
 "nbformat_minor": 4
}
