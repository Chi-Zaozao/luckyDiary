{
 "cells": [
  {
   "cell_type": "markdown",
   "metadata": {},
   "source": [
    "## 今天要搞定txt2xml"
   ]
  },
  {
   "cell_type": "markdown",
   "metadata": {},
   "source": [
    "*思路：*\n",
    "- *读取txt数据*\n",
    "- *生成xml文件*"
   ]
  },
  {
   "cell_type": "code",
   "execution_count": 1,
   "metadata": {},
   "outputs": [],
   "source": [
    "%reload_ext autoreload\n",
    "%autoreload 2\n",
    "%matplotlib inline"
   ]
  },
  {
   "cell_type": "markdown",
   "metadata": {},
   "source": [
    "### 调研"
   ]
  },
  {
   "cell_type": "markdown",
   "metadata": {},
   "source": [
    "Python有三种方法解析XML：**SAX, DOM, ElementTree**\n",
    "\n",
    "- SAX(*simple API for XML*)\n",
    "    - Python标准库包含SAX解析器。SAX用事件驱动模型，通过在解析XML过程中触发一个个事件并调用用户定义的回调函数来处理XML文件，流式读取，**速度快，占用内存少，但需要用户实现回调函数（*handler*）**\n",
    "- DOM(*Document Object Model*)\n",
    "    - 将XML数据在内存中解析成一棵树，通过对树的操作来操作XML。**速度慢，占用内存高**\n",
    "- ElementTree\n",
    "    - 类似一个轻量级的DOM，具有方便友好的API。代码可用性好，**速度快，消耗内存少，也许能算前两个的折衷？**"
   ]
  },
  {
   "cell_type": "markdown",
   "metadata": {},
   "source": [
    "**[lxml XML toolkit](https://lxml.de/)**\n",
    "- lxml.etree大部分兼容但**优于**ElementTree"
   ]
  },
  {
   "cell_type": "markdown",
   "metadata": {},
   "source": [
    "ElementTree生成xml文件代码如下（*生成的xml文件无缩进*）:"
   ]
  },
  {
   "cell_type": "code",
   "execution_count": 11,
   "metadata": {},
   "outputs": [],
   "source": [
    "from xml.etree.ElementTree import Element, SubElement, ElementTree\n",
    "\n",
    "root=Element('annotation')\n",
    "folder=SubElement(root,'folder')\n",
    "filename=SubElement(root,'filename')\n",
    "source=SubElement(root,'source')\n",
    "owner=SubElement(root,'owner')\n",
    "size=SubElement(root,'size')\n",
    "seg=SubElement(root,'segmented')\n",
    "obj=SubElement(root,'object')\n",
    "\n",
    "folder.text='simi-data-201710'\n",
    "\n",
    "# for filename\n",
    "\n",
    "db=SubElement(source,'database')\n",
    "anno_s=SubElement(source,'annotation')\n",
    "img=SubElement(source,'image')\n",
    "flid_s=SubElement(source,'flickrid')\n",
    "db.text='simi-data-201710'\n",
    "anno_s.text='simi-data-201710'\n",
    "img.text='flickr'\n",
    "flid_s.text='201701018'\n",
    "\n",
    "flid_o=SubElement(owner,'flickrid')\n",
    "name_o=SubElement(owner,'name')\n",
    "flid_o.text='Random'\n",
    "name_o.text='SimImage'\n",
    "\n",
    "width=SubElement(size,'width')\n",
    "height=SubElement(size,'height')\n",
    "depth=SubElement(size,'depth')\n",
    "depth.text='1'\n",
    "#for width and height\n",
    "\n",
    "seg.text='0'\n",
    "\n",
    "name_ob=SubElement(obj,'name')\n",
    "pose=SubElement(obj,'pose')\n",
    "trun=SubElement(obj,'truncated')\n",
    "hard=SubElement(obj,'difficult')\n",
    "name_ob.text='object'\n",
    "pose.text='Unspecified'\n",
    "trun.text='0'\n",
    "hard.text='0'\n",
    "# for multi bbox\n",
    "\n",
    "file=ElementTree(root)\n",
    "file.write('lucky.xml',encoding='utf-8',xml_declaration=True,method='xml',short_empty_elements=False)"
   ]
  },
  {
   "cell_type": "markdown",
   "metadata": {},
   "source": [
    "以下代码用lxml实现："
   ]
  },
  {
   "cell_type": "code",
   "execution_count": 11,
   "metadata": {},
   "outputs": [],
   "source": [
    "from lxml import etree\n",
    "\n",
    "root=etree.Element('annotation')\n",
    "folder=etree.SubElement(root,'folder')\n",
    "# root.append(etree.Element('filename')) 另一种写法\n",
    "filename=etree.SubElement(root,'filename')\n",
    "source=etree.SubElement(root,'source')\n",
    "owner=etree.SubElement(root,'owner')\n",
    "size=etree.SubElement(root,'size')\n",
    "seg=etree.SubElement(root,'segmented')\n",
    "obj=etree.SubElement(root,'object')\n",
    "\n",
    "folder.text='simi-data-201710'\n",
    "\n",
    "# for filename\n",
    "\n",
    "db=etree.SubElement(source,'database')\n",
    "anno_s=etree.SubElement(source,'annotation')\n",
    "img=etree.SubElement(source,'image')\n",
    "flid_s=etree.SubElement(source,'flickrid')\n",
    "db.text='simi-data-201710'\n",
    "anno_s.text='simi-data-201710'\n",
    "img.text='flickr'\n",
    "flid_s.text='201701018'\n",
    "\n",
    "flid_o=etree.SubElement(owner,'flickrid')\n",
    "name_o=etree.SubElement(owner,'name')\n",
    "flid_o.text='Random'\n",
    "name_o.text='SimImage'\n",
    "\n",
    "width=etree.SubElement(size,'width')\n",
    "height=etree.SubElement(size,'height')\n",
    "depth=etree.SubElement(size,'depth')\n",
    "depth.text='1'\n",
    "width.text='190'\n",
    "height.text='380'\n",
    "#width and height may change\n",
    "\n",
    "seg.text='0'\n",
    "\n",
    "name_ob=etree.SubElement(obj,'name')\n",
    "pose=etree.SubElement(obj,'pose')\n",
    "trun=etree.SubElement(obj,'truncated')\n",
    "hard=etree.SubElement(obj,'difficult')\n",
    "name_ob.text='object'\n",
    "pose.text='Unspecified'\n",
    "trun.text='0'\n",
    "hard.text='0'\n",
    "# multi bbox\n",
    "\n",
    "file=etree.ElementTree(root)\n",
    "file.write('Annotations/pretty.xml',encoding='utf-8',xml_declaration=True,pretty_print=True)"
   ]
  },
  {
   "cell_type": "markdown",
   "metadata": {},
   "source": [
    "生成xml文件已经搞定了，可是怎么批量读取txt文件呢？怎么获取文件名呢？\n",
    "- import os"
   ]
  },
  {
   "cell_type": "code",
   "execution_count": 23,
   "metadata": {},
   "outputs": [
    {
     "name": "stdout",
     "output_type": "stream",
     "text": [
      "error: file 002_gun_20190726130937941-1.txt has no object! \n",
      "{'bboxes': ['63', '6', '115', '368'], 'filename': '002_gun_20190726130937941-1.'}\n",
      "4\n",
      "{'bboxes': ['105', '156', '117', '174', '111', '237', '133', '263'], 'filename': '002_gun_20190726131004381-1.'}\n",
      "8\n",
      "{'bboxes': ['63', '6', '115', '368'], 'filename': '002_gun_20190731135645593-1.'}\n",
      "4\n"
     ]
    }
   ],
   "source": [
    "import os\n",
    "\n",
    "anno='Annotations'\n",
    "if not os.path.exists(anno):\n",
    "        os.mkdir(anno)\n",
    "files=os.listdir(os.getcwd()+'/Desktop/papers/all/name')\n",
    "for file in files[1:4]:\n",
    "    with open(os.getcwd()+'/Desktop/papers/all/name/'+file,'r') as f:\n",
    "        lines=f.readlines()\n",
    "        try:\n",
    "            s=''\n",
    "            for line in lines[:-1]:\n",
    "                s+=line\n",
    "                s+=','\n",
    "            s+=lines[-1]\n",
    "            bboxes=s.split(',')\n",
    "        except:\n",
    "            print('error: file '+ file + ' has no object! ')\n",
    "        try:\n",
    "            if len(bboxes)%4:\n",
    "                100/0\n",
    "        except ZeroDivisionError:\n",
    "            print('error: file '+ file + ' has wrong data number! ')\n",
    "#         print(bboxes)\n",
    "#     print(\"out\",bboxes)\n",
    "    info={}\n",
    "    info['bboxes']=bboxes\n",
    "    info['filename']=file[:-3]\n",
    "    print(info)\n",
    "    print(len(info['bboxes']))"
   ]
  },
  {
   "cell_type": "markdown",
   "metadata": {},
   "source": [
    "根据以上内容，可完成create_xml_new.py。存储在[codes](codes/txt2xml.py)"
   ]
  }
 ],
 "metadata": {
  "kernelspec": {
   "display_name": "Python 3",
   "language": "python",
   "name": "python3"
  },
  "language_info": {
   "codemirror_mode": {
    "name": "ipython",
    "version": 3
   },
   "file_extension": ".py",
   "mimetype": "text/x-python",
   "name": "python",
   "nbconvert_exporter": "python",
   "pygments_lexer": "ipython3",
   "version": "3.6.8"
  }
 },
 "nbformat": 4,
 "nbformat_minor": 4
}
