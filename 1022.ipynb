{
 "cells": [
  {
   "cell_type": "markdown",
   "metadata": {},
   "source": [
    "# 搭梯子"
   ]
  },
  {
   "cell_type": "markdown",
   "metadata": {},
   "source": [
    "参考[国外主机测评](https://www.zhujiceping.com/vps),最终从[digital-vm](https://digital-vm.com/)买了最便宜的VPS:*4$/m，CentOS 6.5*"
   ]
  },
  {
   "cell_type": "markdown",
   "metadata": {},
   "source": [
    "digital-vm的优惠码如下：\n",
    "   - [x] 首月6折：VMNEW\n",
    "   - [ ] 永久7折：exclusive30off\n",
    "   - [ ] 永久8折：web20off"
   ]
  },
  {
   "cell_type": "markdown",
   "metadata": {},
   "source": [
    "买完服务器后，没能成功连上VNC，也不知道为啥，客服说用ssh连接，就用了putty，用户名root，密码在这儿不说。"
   ]
  },
  {
   "cell_type": "markdown",
   "metadata": {},
   "source": [
    "## Server"
   ]
  },
  {
   "cell_type": "markdown",
   "metadata": {},
   "source": [
    "putty连好，参考了[黄兵的文章](https://pdf-lib.org/Home/Details/1154)进行shadowsocks的配置，但没有设置开机自启，因为我也不关机。"
   ]
  },
  {
   "cell_type": "raw",
   "metadata": {},
   "source": [
    "# yum install -y python-pip\n",
    "# yum install -y python-setuptools m2crypto "
   ]
  },
  {
   "cell_type": "markdown",
   "metadata": {},
   "source": [
    "通过pip安装并更新"
   ]
  },
  {
   "cell_type": "raw",
   "metadata": {},
   "source": [
    "# pip install shadowsocks\n",
    "# pip install https://github.com/shadowsocks/shadowsocks/archive/master.zip -U"
   ]
  },
  {
   "cell_type": "markdown",
   "metadata": {},
   "source": [
    "配置shadowsocks文件"
   ]
  },
  {
   "cell_type": "raw",
   "metadata": {},
   "source": [
    "# vi /etc/shadowsocks.json"
   ]
  },
  {
   "cell_type": "markdown",
   "metadata": {},
   "source": [
    "按照如下规则写入:\n",
    " - [x] server：服务器 IP (IPv4/IPv6)，注意这也将是服务端监听的 IP 地址\n",
    " - [x] server_port：服务器端口\n",
    " - [x] local_port：本地端端口\n",
    " - [x] password：用来加密的密码\n",
    " - [x] timeout：超时时间（ms）\n",
    " - [x] method：加密方法，可选择 “bf-cfb”, “aes-256-cfb”, “des-cfb”, “rc4″, 等等"
   ]
  },
  {
   "cell_type": "markdown",
   "metadata": {},
   "source": [
    "单用户可写作"
   ]
  },
  {
   "cell_type": "raw",
   "metadata": {},
   "source": [
    "{\n",
    "    \"server\":\"11.22.33.44\",\n",
    "    \"server_port\":8999,\n",
    "    \"local_port\":1080,\n",
    "    \"password\":\"123456\",\n",
    "    \"timeout\":600,\n",
    "    \"method\":\"aes-256-cfb\"\n",
    "}"
   ]
  },
  {
   "cell_type": "markdown",
   "metadata": {},
   "source": [
    "多用户可写作:"
   ]
  },
  {
   "cell_type": "raw",
   "metadata": {},
   "source": [
    "{\n",
    "    \"server\":\"111.111.111.111\",\n",
    "    \"port_password\": {\n",
    "        \"50000\": \"1111111\",\n",
    "        \"50001\": \"1115555\",\n",
    "        \"50003\": \"1111111\"\n",
    "        },\n",
    "    \"local_port\":1080,\n",
    "    \"timeout\":600,\n",
    "    \"method\":\"chacha20-ietf-poly1305\",\n",
    "    \"fast_open\":false,\n",
    "    \"workers\":1\n",
    "}"
   ]
  },
  {
   "cell_type": "raw",
   "metadata": {},
   "source": [
    "# sslocal -c /etc/shadowsocks.json"
   ]
  },
  {
   "cell_type": "markdown",
   "metadata": {},
   "source": [
    "若上述命令成功则shadowsocks start(*这条命令说不定可以省略*）"
   ]
  },
  {
   "cell_type": "markdown",
   "metadata": {},
   "source": [
    "按Ctrl+C 切换到命令模式，赋予文件权限(*这条命令说不定也可以省略*）"
   ]
  },
  {
   "cell_type": "raw",
   "metadata": {},
   "source": [
    "# chmod 755 /home/shadowscoks.json"
   ]
  },
  {
   "cell_type": "markdown",
   "metadata": {},
   "source": [
    "后台运行:"
   ]
  },
  {
   "cell_type": "raw",
   "metadata": {},
   "source": [
    "ssserver -c /etc/shadowsocks.json -d start"
   ]
  },
  {
   "cell_type": "markdown",
   "metadata": {},
   "source": [
    "至此，shadowsocks server算配置完成(*未设置开机自启*）"
   ]
  },
  {
   "cell_type": "markdown",
   "metadata": {},
   "source": [
    "## BUG"
   ]
  },
  {
   "cell_type": "markdown",
   "metadata": {},
   "source": [
    "配置好server后，在手机端和windows端都无法打开外网，linux端未尝试。报错如下:"
   ]
  },
  {
   "cell_type": "raw",
   "metadata": {},
   "source": [
    "500 internal Privoxy error\n",
    "......"
   ]
  },
  {
   "cell_type": "markdown",
   "metadata": {},
   "source": [
    "经查，是服务器端防火墙的问题，参考[Yomut](https://my.oschina.net/yomut/blog/776170)和[猴子年华](https://blog.csdn.net/lg632/article/details/72731435/)的blog继续配置Server"
   ]
  },
  {
   "cell_type": "markdown",
   "metadata": {},
   "source": [
    "打开iptables"
   ]
  },
  {
   "cell_type": "raw",
   "metadata": {},
   "source": [
    "# /etc/sysconfig/iptables"
   ]
  },
  {
   "cell_type": "markdown",
   "metadata": {},
   "source": [
    "22号端口是为ssh预留，依葫芦画瓢添加8999端口"
   ]
  },
  {
   "cell_type": "raw",
   "metadata": {},
   "source": [
    "-A INPUT -m state --state NEW -m tcp -p tcp --dport 22 -j ACCEPT\n",
    "-A INPUT -m state --state NEW -m tcp -p tcp --dport 8999 -j ACCEPT"
   ]
  },
  {
   "cell_type": "markdown",
   "metadata": {},
   "source": [
    "保存文件，然后重启防火墙"
   ]
  },
  {
   "cell_type": "raw",
   "metadata": {},
   "source": [
    "# service iptables restart"
   ]
  },
  {
   "cell_type": "markdown",
   "metadata": {},
   "source": [
    "**error 500 解决**"
   ]
  },
  {
   "cell_type": "markdown",
   "metadata": {},
   "source": [
    "## Client"
   ]
  },
  {
   "cell_type": "markdown",
   "metadata": {},
   "source": [
    "参考[刘海涛](http://blog.sina.com.cn/s/blog_b5c141240102wzd7.html)的blog在ubuntu 18.04中配置shadowsocks"
   ]
  },
  {
   "cell_type": "markdown",
   "metadata": {},
   "source": [
    "安装"
   ]
  },
  {
   "cell_type": "raw",
   "metadata": {},
   "source": [
    "# sudo apt install shadowsocks"
   ]
  },
  {
   "cell_type": "markdown",
   "metadata": {},
   "source": [
    "安装好后，在本地我们要用到sslocal ，终端输入sslocal --help 可以查看帮助，通过帮助提示我们知道各个参数怎么配置，比如 sslocal -c 后面加上我们的json配置文件，或者像下面这样直接命令参数写上运行。"
   ]
  },
  {
   "cell_type": "raw",
   "metadata": {},
   "source": [
    "sslocal -s 11.22.33.44 -p 50003 -k \"123456\" -l 1080 -t 600 -m aes-256-cfb"
   ]
  },
  {
   "cell_type": "markdown",
   "metadata": {},
   "source": [
    "-s表示服务IP, -p指的是服务端的端口，-l是本地端口默认是1080, -k 是密码（要加\"\"）, -t超时默认300,-m是加密方法默认aes-256-cfb"
   ]
  },
  {
   "cell_type": "markdown",
   "metadata": {},
   "source": [
    "刘海涛推荐直接用sslcoal -c 配置文件路径 这样的方式，简单好用。"
   ]
  },
  {
   "cell_type": "raw",
   "metadata": {},
   "source": [
    "$ sudo vi /etc/shadowsocks.json"
   ]
  },
  {
   "cell_type": "markdown",
   "metadata": {},
   "source": [
    "在文件中写入："
   ]
  },
  {
   "cell_type": "raw",
   "metadata": {},
   "source": [
    "{\n",
    "\"server\":\"11.22.33.44\",\n",
    "\"server_port\":12345,\n",
    "\"local_port\":1080,\n",
    "\"password\":\"xxxxxxxxxxxxx\",\n",
    "\"timeout\":600,\n",
    "\"method\":\"aes-256-cfb\"\n",
    "}\n"
   ]
  },
  {
   "cell_type": "raw",
   "metadata": {},
   "source": [
    "$ sslocal -c /etc/shadowsocks.json"
   ]
  },
  {
   "cell_type": "markdown",
   "metadata": {},
   "source": [
    "客户端启动后不要关闭该终端，进入firefox利用SwithyOmega插件设置代理即可使用。"
   ]
  },
  {
   "cell_type": "markdown",
   "metadata": {},
   "source": [
    "### 客户端开机自启动"
   ]
  },
  {
   "cell_type": "markdown",
   "metadata": {},
   "source": [
    "每次开机都要运行一边好麻烦，所以决定将上条命令写入开机启动"
   ]
  },
  {
   "cell_type": "markdown",
   "metadata": {},
   "source": [
    "ubuntu开机启动参考了[intro](https://askubuntu.com/questions/886620/how-can-i-execute-command-on-startup-rc-local-alternative-on-ubuntu-16-10)的回答。"
   ]
  },
  {
   "cell_type": "markdown",
   "metadata": {},
   "source": [
    "创建rc.local文件，需要root权限"
   ]
  },
  {
   "cell_type": "raw",
   "metadata": {},
   "source": [
    "$ sudo vi /etc/rc.local"
   ]
  },
  {
   "cell_type": "markdown",
   "metadata": {},
   "source": [
    "在其中写入"
   ]
  },
  {
   "cell_type": "raw",
   "metadata": {},
   "source": [
    "#!/bin/bash\n",
    "sslocal -c /etc/shadowsocks.json -d start\n",
    "exit 0"
   ]
  },
  {
   "cell_type": "markdown",
   "metadata": {},
   "source": [
    "赋予权限"
   ]
  },
  {
   "cell_type": "raw",
   "metadata": {},
   "source": [
    "$ sudo chmod +x /etc/rc.local"
   ]
  },
  {
   "cell_type": "markdown",
   "metadata": {},
   "source": [
    "重启即可"
   ]
  }
 ],
 "metadata": {
  "kernelspec": {
   "display_name": "Python 3",
   "language": "python",
   "name": "python3"
  },
  "language_info": {
   "codemirror_mode": {
    "name": "ipython",
    "version": 3
   },
   "file_extension": ".py",
   "mimetype": "text/x-python",
   "name": "python",
   "nbconvert_exporter": "python",
   "pygments_lexer": "ipython3",
   "version": "3.6.8"
  }
 },
 "nbformat": 4,
 "nbformat_minor": 4
}
