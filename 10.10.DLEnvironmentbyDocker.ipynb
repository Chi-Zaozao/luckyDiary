{
 "cells": [
  {
   "cell_type": "markdown",
   "metadata": {},
   "source": [
    "# 昨晚终于调通了docker+mmdetection+nvidia+jupyterlab的环境，今上午先记录一下以备查阅"
   ]
  },
  {
   "cell_type": "markdown",
   "metadata": {},
   "source": [
    "## 环境安装按照如下步骤进行：\n",
    "\n",
    "   - [ ] 安装nvidia驱动\n",
    "   -[ ] 安装docker\n",
    "   -[ ] 配置nvidia docker\n",
    "   -[ ] 创建mmdetection镜像\n",
    "   -[ ] 在mmdetection容器中配置jupyterlab\n",
    "   -[ ] 创建mmjupyter镜像"
   ]
  },
  {
   "cell_type": "markdown",
   "metadata": {},
   "source": [
    "### 安装nvidia driver"
   ]
  },
  {
   "cell_type": "markdown",
   "metadata": {},
   "source": [
    "*该部分参考[YouPeng的博客](https://www.cnblogs.com/youpeng/p/10887346.html)和[nvidia的官方教程](https://us.download.nvidia.cn/XFree86/Linux-x86_64/430.50/README/index.html)*"
   ]
  },
  {
   "cell_type": "markdown",
   "metadata": {},
   "source": [
    "1. 首先删除nvidia原有驱动"
   ]
  },
  {
   "cell_type": "raw",
   "metadata": {},
   "source": [
    "sudo apt-get remove --purge nvidia*"
   ]
  },
  {
   "cell_type": "markdown",
   "metadata": {},
   "source": [
    "2. 在BIOS的security选项中禁用secure boot(该步骤本人未进行)"
   ]
  },
  {
   "cell_type": "markdown",
   "metadata": {},
   "source": [
    "3. 禁用nouveau"
   ]
  },
  {
   "cell_type": "raw",
   "metadata": {},
   "source": [
    "$ sudo gedit /etc/modprobe.d/blacklist.conf"
   ]
  },
  {
   "cell_type": "markdown",
   "metadata": {},
   "source": [
    "在文本最后一行添加"
   ]
  },
  {
   "cell_type": "raw",
   "metadata": {},
   "source": [
    "blacklist nouveau"
   ]
  },
  {
   "cell_type": "raw",
   "metadata": {},
   "source": [
    "$ sudo update-initramfs -u"
   ]
  },
  {
   "cell_type": "markdown",
   "metadata": {},
   "source": [
    "重启（*重启后通常屏幕分辨率会降低*）"
   ]
  },
  {
   "cell_type": "raw",
   "metadata": {},
   "source": [
    "$ lsmod | grep nouveau "
   ]
  },
  {
   "cell_type": "markdown",
   "metadata": {},
   "source": [
    "若lsmod | grep nouveau 命令无输出代表禁用成功"
   ]
  },
  {
   "cell_type": "markdown",
   "metadata": {},
   "source": [
    "4. 查询自己的显卡型号"
   ]
  },
  {
   "cell_type": "raw",
   "metadata": {},
   "source": [
    "$ lshw -numeric -C display"
   ]
  },
  {
   "cell_type": "markdown",
   "metadata": {},
   "source": [
    "5. 去[NVIDIA官网](https://www.nvidia.cn/Download/index.aspx?lang=cn)下载相应的驱动"
   ]
  },
  {
   "cell_type": "markdown",
   "metadata": {},
   "source": [
    "6. 根据[nvidia的官方教程](https://us.download.nvidia.cn/XFree86/Linux-x86_64/430.50/README/index.html)查看是否满足安装该驱动的要求"
   ]
  },
  {
   "cell_type": "markdown",
   "metadata": {},
   "source": [
    "7. 前往驱动所在目录root执行驱动安装程序（*本文驱动为GTX 1060-linux-64-chinese驱动*）"
   ]
  },
  {
   "cell_type": "raw",
   "metadata": {},
   "source": [
    "$ sudo chmod a+x NVIDIA-Linux-x86_64-430.50.run\n",
    "$ sudo ./NVIDIA-Linux-x86_64-430.50.run"
   ]
  },
  {
   "cell_type": "markdown",
   "metadata": {},
   "source": [
    "8. 检验是否安装成功"
   ]
  },
  {
   "cell_type": "raw",
   "metadata": {},
   "source": [
    "nvidia-smi"
   ]
  },
  {
   "cell_type": "markdown",
   "metadata": {},
   "source": [
    "### 安装docker"
   ]
  },
  {
   "cell_type": "markdown",
   "metadata": {},
   "source": [
    "*该部分参考[菜鸟教程](https://www.runoob.com/docker/ubuntu-docker-install.html)*"
   ]
  },
  {
   "cell_type": "markdown",
   "metadata": {},
   "source": [
    "利用脚本安装最新版docker"
   ]
  },
  {
   "cell_type": "raw",
   "metadata": {},
   "source": [
    "$ wget -qO- https://get.docker.com/ | sh"
   ]
  },
  {
   "cell_type": "markdown",
   "metadata": {},
   "source": [
    "也可不利用脚本而是按照[官网Docs](https://docs.docker.com/install/linux/docker-ce/ubuntu/)安装（*本人未尝试*）"
   ]
  },
  {
   "cell_type": "markdown",
   "metadata": {},
   "source": [
    "为非root用户配置直接运行docker的权限"
   ]
  },
  {
   "cell_type": "raw",
   "metadata": {},
   "source": [
    "$ sudo usermod -aG docker chizao"
   ]
  },
  {
   "cell_type": "markdown",
   "metadata": {},
   "source": [
    "### 配置nvidia docker"
   ]
  },
  {
   "cell_type": "markdown",
   "metadata": {},
   "source": [
    "*该部分参考[nvidia docker的github](https://github.com/NVIDIA/nvidia-docker)*"
   ]
  },
  {
   "cell_type": "markdown",
   "metadata": {},
   "source": [
    "查看docker版本，大于19.03则可按照github配置"
   ]
  },
  {
   "cell_type": "raw",
   "metadata": {},
   "source": [
    "$ docker version"
   ]
  },
  {
   "cell_type": "markdown",
   "metadata": {},
   "source": [
    "配置nvidia docker"
   ]
  },
  {
   "cell_type": "raw",
   "metadata": {},
   "source": [
    "# Add the package repositories\n",
    "$ distribution=$(. /etc/os-release;echo $ID$VERSION_ID)\n",
    "$ curl -s -L https://nvidia.github.io/nvidia-docker/gpgkey | sudo apt-key add -\n",
    "$ curl -s -L https://nvidia.github.io/nvidia-docker/$distribution/nvidia-docker.list | sudo tee /etc/apt/sources.list.d/nvidia-docker.list\n",
    "\n",
    "$ sudo apt-get update && sudo apt-get install -y nvidia-container-toolkit\n",
    "$ sudo systemctl restart docker"
   ]
  },
  {
   "cell_type": "markdown",
   "metadata": {},
   "source": [
    "docker中nvidia的使用如下(*其中nvidia/cuda:9.0-base为镜像名称，nvidia-smi为命令*)："
   ]
  },
  {
   "cell_type": "raw",
   "metadata": {},
   "source": [
    "#### Test nvidia-smi with the latest official CUDA image\n",
    "$ docker run --gpus all nvidia/cuda:9.0-base nvidia-smi\n",
    "\n",
    "# Start a GPU enabled container on two GPUs\n",
    "$ docker run --gpus 2 nvidia/cuda:9.0-base nvidia-smi\n",
    "\n",
    "# Starting a GPU enabled container on specific GPUs\n",
    "$ docker run --gpus '\"device=1,2\"' nvidia/cuda:9.0-base nvidia-smi\n",
    "$ docker run --gpus '\"device=UUID-ABCDEF,1\"' nvidia/cuda:9.0-base nvidia-smi\n",
    "\n",
    "# Specifying a capability (graphics, compute, ...) for my container\n",
    "# Note this is rarely if ever used this way\n",
    "$ docker run --gpus all,capabilities=utility nvidia/cuda:9.0-base nvidia-smi\n"
   ]
  },
  {
   "cell_type": "markdown",
   "metadata": {},
   "source": [
    "### 创建mmdetection镜像(image)"
   ]
  },
  {
   "cell_type": "markdown",
   "metadata": {},
   "source": [
    "*该部分利用Dockerfile创建镜像，Dockerfile参考[mmdetection官方github](https://github.com/open-mmlab/mmdetection/blob/master/docker/Dockerfile)*"
   ]
  },
  {
   "cell_type": "markdown",
   "metadata": {},
   "source": [
    "1. 创建目录和Dockerfile"
   ]
  },
  {
   "cell_type": "raw",
   "metadata": {},
   "source": [
    "$ mkdir docker\n",
    "$ cd docker\n",
    "$ vi Dockerfile"
   ]
  },
  {
   "cell_type": "markdown",
   "metadata": {},
   "source": [
    "2. 创建镜像"
   ]
  },
  {
   "cell_type": "raw",
   "metadata": {},
   "source": [
    "# build an image with PyTorch 1.1, CUDA 10.0 and CUDNN 7.5\n",
    "$ docker build -t mmdetection docker/"
   ]
  },
  {
   "cell_type": "markdown",
   "metadata": {},
   "source": [
    "### 在mmdetection容器中配置jupyterlab"
   ]
  },
  {
   "cell_type": "markdown",
   "metadata": {},
   "source": [
    "*该部分参考[mengxia45的博客](https://blog.csdn.net/mengxia45/article/details/94724865)*"
   ]
  },
  {
   "cell_type": "markdown",
   "metadata": {},
   "source": [
    "1. 创建mmdetection容器，并配置gpu和端口信息(-p 主机端口：docker端口)"
   ]
  },
  {
   "cell_type": "raw",
   "metadata": {},
   "source": [
    "$ docker run --gpus all -i -t -p 8888:8888 mmdetection /bin/bash"
   ]
  },
  {
   "cell_type": "markdown",
   "metadata": {},
   "source": [
    "2. 更新"
   ]
  },
  {
   "cell_type": "raw",
   "metadata": {},
   "source": [
    "# apt-get update"
   ]
  },
  {
   "cell_type": "markdown",
   "metadata": {},
   "source": [
    "3. 安装jupyterlab"
   ]
  },
  {
   "cell_type": "raw",
   "metadata": {},
   "source": [
    "# pip install jupyterlab"
   ]
  },
  {
   "cell_type": "markdown",
   "metadata": {},
   "source": [
    "4. 安装vim"
   ]
  },
  {
   "cell_type": "raw",
   "metadata": {},
   "source": [
    "# apt-get install vim"
   ]
  },
  {
   "cell_type": "markdown",
   "metadata": {},
   "source": [
    "5. 键入python，进入python命令行"
   ]
  },
  {
   "cell_type": "raw",
   "metadata": {},
   "source": [
    "# python"
   ]
  },
  {
   "cell_type": "raw",
   "metadata": {},
   "source": [
    ">>> from notebook.auth import passwd\n",
    ">>> passwd()"
   ]
  },
  {
   "cell_type": "markdown",
   "metadata": {},
   "source": [
    "根据提示设定密码，并保存sha1密钥，如下图\n",
    "\n",
    "![jupyter](sha1.png)"
   ]
  },
  {
   "cell_type": "markdown",
   "metadata": {},
   "source": [
    "6. ctrl+D退出python命令行,查找jupyterlab配置文件"
   ]
  },
  {
   "cell_type": "raw",
   "metadata": {},
   "source": [
    "# jupyter lab --generate-config"
   ]
  },
  {
   "cell_type": "markdown",
   "metadata": {},
   "source": [
    "7. vi打开该文件"
   ]
  },
  {
   "cell_type": "raw",
   "metadata": {},
   "source": [
    "# vim /root/.jupyter/jupyter_notebook_config.py"
   ]
  },
  {
   "cell_type": "markdown",
   "metadata": {},
   "source": [
    "8. 修改文件，添加如下内容，其中password为之前保存的sha1"
   ]
  },
  {
   "cell_type": "raw",
   "metadata": {},
   "source": [
    "c.NotebookApp.ip='*'\n",
    "c.NotebookApp.password = u'sha1:41e4da01dde4:e820dc9c0398eda2dc9323c9e4a51ea1228166a2'\n",
    "c.NotebookApp.open_browser = False\n",
    "c.NotebookApp.port =8888\n",
    "c.NotebookApp.allow_remote_access = True"
   ]
  },
  {
   "cell_type": "markdown",
   "metadata": {},
   "source": [
    "9. 启动jupyterlab"
   ]
  },
  {
   "cell_type": "raw",
   "metadata": {},
   "source": [
    "# jupyter lab --allow-root"
   ]
  },
  {
   "cell_type": "markdown",
   "metadata": {},
   "source": [
    "10. 可在127.0.0.1:8888中打开jupyterlab，输入之前设置的密码登陆(8888为之前设置的主机端口)"
   ]
  },
  {
   "cell_type": "markdown",
   "metadata": {},
   "source": [
    "### 创建mmjupyter镜像"
   ]
  },
  {
   "cell_type": "markdown",
   "metadata": {},
   "source": [
    "1. 查看上一步的容器名称或id"
   ]
  },
  {
   "cell_type": "raw",
   "metadata": {},
   "source": [
    "$ docker ps -a"
   ]
  },
  {
   "cell_type": "markdown",
   "metadata": {},
   "source": [
    "2. 根据该容器创建新镜像，其中e218edb10161为容器id，mmjupyter为新镜像名称"
   ]
  },
  {
   "cell_type": "raw",
   "metadata": {},
   "source": [
    "$ docker commit -m=\"mmdetectiom with jupyter and nvidia\" -a=\"lihq\" e218edb10161 mmjupyter "
   ]
  }
 ],
 "metadata": {
  "kernelspec": {
   "display_name": "Python 3",
   "language": "python",
   "name": "python3"
  },
  "language_info": {
   "codemirror_mode": {
    "name": "ipython",
    "version": 3
   },
   "file_extension": ".py",
   "mimetype": "text/x-python",
   "name": "python",
   "nbconvert_exporter": "python",
   "pygments_lexer": "ipython3",
   "version": "3.7.3"
  }
 },
 "nbformat": 4,
 "nbformat_minor": 4
}
