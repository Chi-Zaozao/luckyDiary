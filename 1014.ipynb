{
 "cells": [
  {
   "cell_type": "markdown",
   "metadata": {},
   "source": [
    "# 听说Facebook发布了Detectron2！"
   ]
  },
  {
   "cell_type": "markdown",
   "metadata": {},
   "source": [
    "今天主要干了四件事：\n",
    " - [x] 拯救No Space Left on the Device!的电脑\n",
    " - [x] 装好mmdetection的docker镜像\n",
    " - [x] 装好detectron2的docker镜像\n",
    " - [x] 学会通过git上传和下载代码"
   ]
  },
  {
   "cell_type": "markdown",
   "metadata": {},
   "source": [
    "## 拯救No Space Left on the Device!的电脑"
   ]
  },
  {
   "cell_type": "markdown",
   "metadata": {},
   "source": [
    "说来也头疼！Linux重启后报错:"
   ]
  },
  {
   "cell_type": "raw",
   "metadata": {},
   "source": [
    "No Space Left on the Device!"
   ]
  },
  {
   "cell_type": "markdown",
   "metadata": {},
   "source": [
    "因而无法进入图形界面。按`Alt`+`F6`键进入命令行界面后，查看磁盘各分区使用情况，运行"
   ]
  },
  {
   "cell_type": "raw",
   "metadata": {},
   "source": [
    "$ df -h "
   ]
  },
  {
   "cell_type": "markdown",
   "metadata": {},
   "source": [
    "查看当前目录总大小"
   ]
  },
  {
   "cell_type": "raw",
   "metadata": {},
   "source": [
    "$ sudo du -sh"
   ]
  },
  {
   "cell_type": "markdown",
   "metadata": {},
   "source": [
    "查看各路径大小(*-h表示易读格式，--max-depth=4表示路径深度最大为4*)"
   ]
  },
  {
   "cell_type": "raw",
   "metadata": {},
   "source": [
    "$ du -h --max-depth=4"
   ]
  },
  {
   "cell_type": "markdown",
   "metadata": {},
   "source": [
    "然而由于命令行界面不显示中文，因而根本看不了具体什么路径占空间大。于是我干脆递归删除了整个/home/chizao文件夹"
   ]
  },
  {
   "cell_type": "raw",
   "metadata": {},
   "source": [
    "$ rm -r /home/chizao"
   ]
  },
  {
   "cell_type": "markdown",
   "metadata": {},
   "source": [
    "然后从mmdetection容器里取出了coco数据集我又重装了系统23333"
   ]
  },
  {
   "cell_type": "markdown",
   "metadata": {},
   "source": [
    "## 装好mmdetection的docker镜像"
   ]
  },
  {
   "cell_type": "markdown",
   "metadata": {},
   "source": [
    "参考10.10"
   ]
  },
  {
   "cell_type": "markdown",
   "metadata": {},
   "source": [
    "##  装好detectron2的docker镜像"
   ]
  },
  {
   "cell_type": "markdown",
   "metadata": {},
   "source": [
    "detectron2官方的[Dockerfile](https://github.com/facebookresearch/detectron2/blob/master/Dockerfile)是基于nvidia docker2(*maybe*)，但最新版的docker已弃用nvidia docker2，因而修改Dockerfile，将第26行注释掉："
   ]
  },
  {
   "cell_type": "raw",
   "metadata": {},
   "source": [
    "# RUN pip install -e /detectron2_repo"
   ]
  },
  {
   "cell_type": "markdown",
   "metadata": {},
   "source": [
    "然后建立镜像"
   ]
  },
  {
   "cell_type": "raw",
   "metadata": {},
   "source": [
    "$ docker build -t detectron2:v0 ."
   ]
  },
  {
   "cell_type": "markdown",
   "metadata": {},
   "source": [
    "建立镜像后，新建容器"
   ]
  },
  {
   "cell_type": "raw",
   "metadata": {},
   "source": [
    "$ docker run -i -t -d --gpus all --name lucky detectron:v0"
   ]
  },
  {
   "cell_type": "markdown",
   "metadata": {},
   "source": [
    "进入容器"
   ]
  },
  {
   "cell_type": "raw",
   "metadata": {},
   "source": [
    "$ docker attach lucky"
   ]
  },
  {
   "cell_type": "markdown",
   "metadata": {},
   "source": [
    "容器内安装detectron"
   ]
  },
  {
   "cell_type": "raw",
   "metadata": {},
   "source": [
    "# pip install -e /detectron2_repo"
   ]
  },
  {
   "cell_type": "markdown",
   "metadata": {},
   "source": [
    "安装结束后，测试安装是否完成"
   ]
  },
  {
   "cell_type": "raw",
   "metadata": {},
   "source": [
    "# wget http://images.cocodataset.org/val2017/000000439715.jpg -O input.jpg\n",
    "# python3 demo/demo.py  \\\n",
    "\t#--config-file configs/COCO-InstanceSegmentation/mask_rcnn_R_50_FPN_3x.yaml \\\n",
    "\t#--input input.jpg \\\n",
    "\t#--opts MODEL.WEIGHTS detectron2://COCO-InstanceSegmentation/mask_rcnn_R_50_FPN_3x/137849600/model_final_f10217.pkl"
   ]
  },
  {
   "cell_type": "markdown",
   "metadata": {},
   "source": [
    "程序运行，但报错无法显示，这是因为当前程序是在docker容器中运行，与宿主机器环境隔离，后面参考[Frank_Abagnale](https://blog.csdn.net/Frank_Abagnale/article/details/80243939)和[Codename-NC](https://blog.csdn.net/ericcchen/article/details/79253416)的blog着手解决这个问题"
   ]
  },
  {
   "cell_type": "markdown",
   "metadata": {},
   "source": [
    "将该容器提交为新镜像"
   ]
  },
  {
   "cell_type": "raw",
   "metadata": {},
   "source": [
    "$ docker commit -m=\"detectron2 image with docker version 19.03\" -n=\"lihq\" lucky detectron2:v0.0"
   ]
  },
  {
   "cell_type": "markdown",
   "metadata": {},
   "source": [
    "在宿主机查看当前显示的环境变量(*假设结果为1`:0`)"
   ]
  },
  {
   "cell_type": "raw",
   "metadata": {},
   "source": [
    "$ echo $DISPLAY"
   ]
  },
  {
   "cell_type": "markdown",
   "metadata": {},
   "source": [
    "安装xserver"
   ]
  },
  {
   "cell_type": "raw",
   "metadata": {},
   "source": [
    "$ sudo apt install x11-xserver-utils"
   ]
  },
  {
   "cell_type": "markdown",
   "metadata": {},
   "source": [
    "许可所有用户都可访问xserver(*每次重启都需要重新输入该命令*)"
   ]
  },
  {
   "cell_type": "raw",
   "metadata": {},
   "source": [
    "$ xhost +"
   ]
  },
  {
   "cell_type": "markdown",
   "metadata": {},
   "source": [
    "利用新镜像建立容器(*-i交互-t终端-d后台--gpus使用gpu-p端口-v共享本地unix端口-e修改环境变量--shm-size修改shared memory大小*)"
   ]
  },
  {
   "cell_type": "raw",
   "metadata": {},
   "source": [
    "docker run -i -t -d --gpus all -p 8888:8888 -p 8889:22 --shm-size 8g --name lucky_lihq -v /tmp/.X11-unix:/tmp/.X11-unix -e DISPLAY=:0 detectron2:v0.0 /bin/bash"
   ]
  },
  {
   "cell_type": "markdown",
   "metadata": {},
   "source": [
    "测试能否正常运行"
   ]
  },
  {
   "cell_type": "raw",
   "metadata": {},
   "source": [
    "# python3 demo/demo.py  \\\n",
    "\t#--config-file configs/COCO-InstanceSegmentation/mask_rcnn_R_50_FPN_3x.yaml \\\n",
    "\t#--input input.jpg \\\n",
    "\t#--opts MODEL.WEIGHTS detectron2://COCO-InstanceSegmentation/mask_rcnn_R_50_FPN_3x/137849600/model_final_f10217.pkl"
   ]
  },
  {
   "cell_type": "markdown",
   "metadata": {},
   "source": [
    "输出结果及显示"
   ]
  },
  {
   "cell_type": "raw",
   "metadata": {},
   "source": [
    "Failed to load OpenCL runtime\n",
    "[10/15 03:05:49 detectron2]: Arguments: Namespace(confidence_threshold=0.5, config_file='configs/COCO-InstanceSegmentation/mask_rcnn_R_50_FPN_3x.yaml', input=['input.jpg'], opts=['MODEL.WEIGHTS', 'detectron2://COCO-InstanceSegmentation/mask_rcnn_R_50_FPN_3x/137849600/model_final_f10217.pkl'], output=None, video_input=None, webcam=False)\n",
    "WARNING [10/15 03:05:49 d2.config.compat]: Config 'configs/COCO-InstanceSegmentation/mask_rcnn_R_50_FPN_3x.yaml' has no VERSION. Assuming it to be compatible with latest v2.\n",
    "[10/15 03:05:53 detectron2]: input.jpg: detected 15 instances in 0.22s\n",
    "\n",
    "(COCO detections:890): dbind-WARNING **: 03:05:53.549: Couldn't connect to accessibility bus: Failed to connect to socket /tmp/dbus-his9wAFEck: Connection refused\n",
    "Gtk-Message: 03:05:53.567: Failed to load module \"canberra-gtk-module\"\n",
    "Gtk-Message: 03:05:53.568: Failed to load module \"canberra-gtk-module\""
   ]
  },
  {
   "cell_type": "markdown",
   "metadata": {},
   "source": [
    "![jupyter](pics/result.png)"
   ]
  },
  {
   "cell_type": "markdown",
   "metadata": {},
   "source": [
    "**问题是我也不知道这样正常不正常啊！！！！！暂且这样**"
   ]
  },
  {
   "cell_type": "markdown",
   "metadata": {},
   "source": [
    "## 学会通过git上传和下载代码"
   ]
  },
  {
   "cell_type": "markdown",
   "metadata": {},
   "source": [
    "此部分参考[朝阳的向日葵](https://www.cnblogs.com/zknublx/p/9310157.html)的blog和[linux公社](https://www.linuxidc.com/Linux/2018-05/152611.htm)的文章"
   ]
  },
  {
   "cell_type": "markdown",
   "metadata": {},
   "source": [
    "安装git"
   ]
  },
  {
   "cell_type": "raw",
   "metadata": {},
   "source": [
    "$ sudo apt install git"
   ]
  },
  {
   "cell_type": "markdown",
   "metadata": {},
   "source": [
    "配置用户名和密码"
   ]
  },
  {
   "cell_type": "raw",
   "metadata": {},
   "source": [
    "$ git config --global user.name \"Chi-Zaozao\"\n",
    "$ git config --global user.email \"net_owl@outlook.com\""
   ]
  },
  {
   "cell_type": "markdown",
   "metadata": {},
   "source": [
    "为github账号添加SSH Keys"
   ]
  },
  {
   "cell_type": "raw",
   "metadata": {},
   "source": [
    "$ ssh-keygen -t rsa -C \"net_owl@outlook.com\""
   ]
  },
  {
   "cell_type": "markdown",
   "metadata": {},
   "source": [
    "查看key，以复制到github(上一步会显示key的保存路径，一般为~/.ssh)"
   ]
  },
  {
   "cell_type": "raw",
   "metadata": {},
   "source": [
    "$ cat ~/.ssh/id_rsa.pub"
   ]
  },
  {
   "cell_type": "markdown",
   "metadata": {},
   "source": [
    "测试连接是否成功"
   ]
  },
  {
   "cell_type": "raw",
   "metadata": {},
   "source": [
    "$ ssh -T git@github.com"
   ]
  },
  {
   "cell_type": "markdown",
   "metadata": {},
   "source": [
    "在github创建新仓库luckDiary，再创建本地仓库并上传代码"
   ]
  },
  {
   "cell_type": "raw",
   "metadata": {},
   "source": [
    "$ mkdir luckyDiary\n",
    "$ cd luckyDiary\n",
    "$ echo \"# luckyDiary\" >> README.md\n",
    "$ git init\n",
    "$ git add README.md\n",
    "$ git status # 查看状态，可省略\n",
    "$ git commit -m \"first commit\"\n",
    "$ git remote add origin git@github.com:Chi-Zaozao/luckyDiary.git # 或git remote add origin https://github.com/Chi-Zaozao/luckyDiary.git\n",
    "$ git push -u origin master"
   ]
  },
  {
   "cell_type": "markdown",
   "metadata": {},
   "source": [
    "对于已经存在的本地仓库，上传代码方法为:"
   ]
  },
  {
   "cell_type": "raw",
   "metadata": {},
   "source": [
    "$ git remote add origin git@github.com:Chi-Zaozao/luckyDiary.git #或git remote add origin https://github.com/Chi-Zaozao/luckyDiary.git\n",
    "$ git push -u origin master"
   ]
  }
 ],
 "metadata": {
  "kernelspec": {
   "display_name": "Python 3",
   "language": "python",
   "name": "python3"
  },
  "language_info": {
   "codemirror_mode": {
    "name": "ipython",
    "version": 3
   },
   "file_extension": ".py",
   "mimetype": "text/x-python",
   "name": "python",
   "nbconvert_exporter": "python",
   "pygments_lexer": "ipython3",
   "version": "3.6.8"
  }
 },
 "nbformat": 4,
 "nbformat_minor": 4
}
