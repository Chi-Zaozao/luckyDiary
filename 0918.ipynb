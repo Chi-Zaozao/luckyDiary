{
 "cells": [
  {
   "cell_type": "markdown",
   "metadata": {},
   "source": [
    "## **今天根据PyTorch教程中的60min Blitz走一遭**"
   ]
  },
  {
   "cell_type": "markdown",
   "metadata": {},
   "source": [
    "### What is PyTorch?\n",
    "#### Tensors"
   ]
  },
  {
   "cell_type": "code",
   "execution_count": 2,
   "metadata": {},
   "outputs": [],
   "source": [
    "%reload_ext autoreload\n",
    "%autoreload 2\n",
    "%matplotlib inline"
   ]
  },
  {
   "cell_type": "code",
   "execution_count": 3,
   "metadata": {},
   "outputs": [],
   "source": [
    "from __future__ import print_function\n",
    "import torch"
   ]
  },
  {
   "cell_type": "markdown",
   "metadata": {},
   "source": [
    "创建一个空矩阵（未初始化，数值保持被分配地址的数值）"
   ]
  },
  {
   "cell_type": "code",
   "execution_count": 4,
   "metadata": {},
   "outputs": [
    {
     "name": "stdout",
     "output_type": "stream",
     "text": [
      "tensor([[1.0469e-38, 1.0653e-38, 1.0469e-38],\n",
      "        [4.2246e-39, 1.0286e-38, 1.0653e-38],\n",
      "        [1.0194e-38, 8.4490e-39, 1.0469e-38],\n",
      "        [9.3674e-39, 9.9184e-39, 8.7245e-39],\n",
      "        [9.2755e-39, 8.9082e-39, 9.9184e-39]])\n"
     ]
    }
   ],
   "source": [
    "x=torch.empty(5,3)\n",
    "print(x)"
   ]
  },
  {
   "cell_type": "markdown",
   "metadata": {},
   "source": [
    "创建随机初始化的矩阵"
   ]
  },
  {
   "cell_type": "code",
   "execution_count": 5,
   "metadata": {},
   "outputs": [
    {
     "name": "stdout",
     "output_type": "stream",
     "text": [
      "tensor([[0.1519, 0.9682, 0.8162],\n",
      "        [0.3169, 0.7028, 0.7007],\n",
      "        [0.3944, 0.4533, 0.7516],\n",
      "        [0.1279, 0.0949, 0.5553],\n",
      "        [0.2158, 0.7944, 0.6705]])\n"
     ]
    }
   ],
   "source": [
    "x=torch.rand(5,3)\n",
    "print(x)"
   ]
  },
  {
   "cell_type": "markdown",
   "metadata": {},
   "source": [
    "创建全零矩阵，dtype为long"
   ]
  },
  {
   "cell_type": "code",
   "execution_count": 6,
   "metadata": {},
   "outputs": [
    {
     "name": "stdout",
     "output_type": "stream",
     "text": [
      "tensor([[0, 0, 0],\n",
      "        [0, 0, 0],\n",
      "        [0, 0, 0],\n",
      "        [0, 0, 0],\n",
      "        [0, 0, 0]])\n"
     ]
    }
   ],
   "source": [
    "x=torch.zeros(5,3,dtype=torch.long)\n",
    "print(x)"
   ]
  },
  {
   "cell_type": "markdown",
   "metadata": {},
   "source": [
    "根据数据直接创建张量（***Tensor***）"
   ]
  },
  {
   "cell_type": "code",
   "execution_count": 7,
   "metadata": {},
   "outputs": [
    {
     "name": "stdout",
     "output_type": "stream",
     "text": [
      "tensor([[ 5.0000,  9.0000],\n",
      "        [66.0000, 77.8000]])\n"
     ]
    }
   ],
   "source": [
    "x=torch.tensor([[5,9.0],[66,77.8]])\n",
    "print(x)"
   ]
  },
  {
   "cell_type": "markdown",
   "metadata": {},
   "source": [
    "仿照现有tensor创建tensor（*两tensor属性相同,除非设置新的值进行覆盖*）"
   ]
  },
  {
   "cell_type": "code",
   "execution_count": 8,
   "metadata": {},
   "outputs": [
    {
     "name": "stdout",
     "output_type": "stream",
     "text": [
      "tensor([[ 5.0000,  9.0000],\n",
      "        [66.0000, 77.8000]])\n",
      "tensor([[[1., 1.],\n",
      "         [1., 1.],\n",
      "         [1., 1.]],\n",
      "\n",
      "        [[1., 1.],\n",
      "         [1., 1.],\n",
      "         [1., 1.]],\n",
      "\n",
      "        [[1., 1.],\n",
      "         [1., 1.],\n",
      "         [1., 1.]],\n",
      "\n",
      "        [[1., 1.],\n",
      "         [1., 1.],\n",
      "         [1., 1.]],\n",
      "\n",
      "        [[1., 1.],\n",
      "         [1., 1.],\n",
      "         [1., 1.]]], dtype=torch.float64)\n",
      "tensor([[0, 0, 0, 0],\n",
      "        [0, 0, 0, 0]])\n",
      "tensor([[[-0.3747, -1.4815],\n",
      "         [ 0.4486,  0.9287],\n",
      "         [-0.8822,  0.4818]],\n",
      "\n",
      "        [[-0.5050,  1.4398],\n",
      "         [ 1.2312, -1.3355],\n",
      "         [-2.4318,  0.8880]],\n",
      "\n",
      "        [[ 2.1469, -1.5794],\n",
      "         [-2.0000, -0.4654],\n",
      "         [ 1.2671,  1.1716]],\n",
      "\n",
      "        [[-1.7897,  0.8424],\n",
      "         [ 0.2663,  1.6071],\n",
      "         [ 1.4577,  1.3513]],\n",
      "\n",
      "        [[-0.5458,  2.4517],\n",
      "         [ 0.0111,  0.6618],\n",
      "         [ 0.9433, -0.6245]]])\n"
     ]
    }
   ],
   "source": [
    "print(x)\n",
    "x=x.new_ones(5,3,2,dtype=torch.double)\n",
    "y=torch.tensor(14)#缺少该行则报错，new_*方法需要提前声明tensor类型的变量\n",
    "y=y.new_zeros(2,4)\n",
    "print(x)\n",
    "print(y)\n",
    "x=torch.randn_like(x,dtype=torch.float)\n",
    "print(x)"
   ]
  },
  {
   "cell_type": "markdown",
   "metadata": {},
   "source": [
    "**上例中采用new_*方法创建对象（参数包括size），当前尚不清楚该方法具体内容,但预计该方法为tensor变量的方法，须先声明tensor对象**"
   ]
  },
  {
   "cell_type": "markdown",
   "metadata": {},
   "source": [
    "获取Size，*输出的torch.size实际上是**元组（tuple）**，支持所有元组操作，元组是一种不可变序列*"
   ]
  },
  {
   "cell_type": "code",
   "execution_count": 9,
   "metadata": {},
   "outputs": [
    {
     "name": "stdout",
     "output_type": "stream",
     "text": [
      "torch.Size([5, 3, 2])\n",
      "10\n",
      "[5, 3, 2]\n"
     ]
    }
   ],
   "source": [
    "print(x.size())\n",
    "print(sum(x.size()))\n",
    "print(list(x.size()))"
   ]
  },
  {
   "cell_type": "markdown",
   "metadata": {},
   "source": [
    "#### Operations\n",
    "#### 三种加法运算"
   ]
  },
  {
   "cell_type": "markdown",
   "metadata": {},
   "source": [
    "##### 两个运算对象"
   ]
  },
  {
   "cell_type": "code",
   "execution_count": 10,
   "metadata": {},
   "outputs": [
    {
     "name": "stdout",
     "output_type": "stream",
     "text": [
      "tensor([[1., 1., 1.],\n",
      "        [1., 1., 1.],\n",
      "        [1., 1., 1.],\n",
      "        [1., 1., 1.],\n",
      "        [1., 1., 1.]])\n",
      "tensor([[0.8134, 0.6335, 0.5455],\n",
      "        [0.9205, 0.1435, 0.8571],\n",
      "        [0.9714, 0.1670, 0.6440],\n",
      "        [0.4752, 0.9067, 0.4434],\n",
      "        [0.3311, 0.3418, 0.5698]])\n"
     ]
    }
   ],
   "source": [
    "x=torch.ones(5,3)\n",
    "print(x)\n",
    "y=torch.rand(5,3)\n",
    "print(y)"
   ]
  },
  {
   "cell_type": "markdown",
   "metadata": {},
   "source": [
    "##### 语法1"
   ]
  },
  {
   "cell_type": "code",
   "execution_count": 11,
   "metadata": {},
   "outputs": [
    {
     "name": "stdout",
     "output_type": "stream",
     "text": [
      "tensor([[1.8134, 1.6335, 1.5455],\n",
      "        [1.9205, 1.1435, 1.8571],\n",
      "        [1.9714, 1.1670, 1.6440],\n",
      "        [1.4752, 1.9067, 1.4434],\n",
      "        [1.3311, 1.3418, 1.5698]])\n"
     ]
    }
   ],
   "source": [
    "print(x+y)"
   ]
  },
  {
   "cell_type": "markdown",
   "metadata": {},
   "source": [
    "##### 语法2"
   ]
  },
  {
   "cell_type": "code",
   "execution_count": 12,
   "metadata": {},
   "outputs": [
    {
     "name": "stdout",
     "output_type": "stream",
     "text": [
      "tensor([[1.8134, 1.6335, 1.5455],\n",
      "        [1.9205, 1.1435, 1.8571],\n",
      "        [1.9714, 1.1670, 1.6440],\n",
      "        [1.4752, 1.9067, 1.4434],\n",
      "        [1.3311, 1.3418, 1.5698]])\n"
     ]
    }
   ],
   "source": [
    "print(torch.add(x,y))"
   ]
  },
  {
   "cell_type": "markdown",
   "metadata": {},
   "source": [
    "语法2可指定add函数输出到特定对象"
   ]
  },
  {
   "cell_type": "code",
   "execution_count": 13,
   "metadata": {},
   "outputs": [
    {
     "name": "stdout",
     "output_type": "stream",
     "text": [
      "tensor([[1.8134, 1.6335, 1.5455],\n",
      "        [1.9205, 1.1435, 1.8571],\n",
      "        [1.9714, 1.1670, 1.6440],\n",
      "        [1.4752, 1.9067, 1.4434],\n",
      "        [1.3311, 1.3418, 1.5698]])\n"
     ]
    }
   ],
   "source": [
    "result=torch.empty(5,3)\n",
    "torch.add(x,y,out=result)\n",
    "print(result)"
   ]
  },
  {
   "cell_type": "markdown",
   "metadata": {},
   "source": [
    "##### 语法3：in-place（*将一个tensor加到另一个tensor上，改变运算对象*）"
   ]
  },
  {
   "cell_type": "code",
   "execution_count": 14,
   "metadata": {},
   "outputs": [
    {
     "name": "stdout",
     "output_type": "stream",
     "text": [
      "tensor([[1.8134, 1.6335, 1.5455],\n",
      "        [1.9205, 1.1435, 1.8571],\n",
      "        [1.9714, 1.1670, 1.6440],\n",
      "        [1.4752, 1.9067, 1.4434],\n",
      "        [1.3311, 1.3418, 1.5698]])\n"
     ]
    }
   ],
   "source": [
    "y.add_(x)\n",
    "print(y)"
   ]
  },
  {
   "cell_type": "markdown",
   "metadata": {},
   "source": [
    "任何以**\"_\"结尾**的操作都会替换原变量，如：*x.copy_(y),x.t_()*都会改变x"
   ]
  },
  {
   "cell_type": "markdown",
   "metadata": {},
   "source": [
    "tensor可采用类似numpy的slice, 索引方式相同(*各维度用“，”分隔，对每一维度，start:end:step包含start不包含end*)"
   ]
  },
  {
   "cell_type": "code",
   "execution_count": 17,
   "metadata": {},
   "outputs": [
    {
     "name": "stdout",
     "output_type": "stream",
     "text": [
      "tensor([[1.8134, 1.6335, 1.5455],\n",
      "        [1.9205, 1.1435, 1.8571],\n",
      "        [1.9714, 1.1670, 1.6440],\n",
      "        [1.4752, 1.9067, 1.4434],\n",
      "        [1.3311, 1.3418, 1.5698]])\n",
      "tensor([1.6335, 1.1435, 1.1670, 1.9067, 1.3418])\n",
      "tensor([1.9205, 1.1435, 1.8571])\n",
      "tensor([1.5455, 1.8571, 1.6440, 1.4434, 1.5698])\n",
      "tensor([1.6440, 1.4434])\n",
      "tensor([[1.6335, 1.5455],\n",
      "        [1.1670, 1.6440]])\n"
     ]
    }
   ],
   "source": [
    "print(y)\n",
    "print(y[:,1])\n",
    "print(y[1,:])\n",
    "print(y[:,-1])\n",
    "print(y[2:4,-1])\n",
    "print(y[0:4:2,1:3])"
   ]
  }
 ],
 "metadata": {
  "kernelspec": {
   "display_name": "Python 3",
   "language": "python",
   "name": "python3"
  },
  "language_info": {
   "codemirror_mode": {
    "name": "ipython",
    "version": 3
   },
   "file_extension": ".py",
   "mimetype": "text/x-python",
   "name": "python",
   "nbconvert_exporter": "python",
   "pygments_lexer": "ipython3",
   "version": "3.7.3"
  }
 },
 "nbformat": 4,
 "nbformat_minor": 4
}
