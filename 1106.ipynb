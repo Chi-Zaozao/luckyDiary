{
 "cells": [
  {
   "cell_type": "markdown",
   "metadata": {},
   "source": [
    "# Python for beginners 25-28 (*Microsoft 2019*)"
   ]
  },
  {
   "cell_type": "markdown",
   "metadata": {},
   "source": [
    "**Arrays vs Lists:**"
   ]
  },
  {
   "cell_type": "markdown",
   "metadata": {},
   "source": [
    "**Arrays** | **Lists**\n",
    "-- | --\n",
    "Simple types such as numbers | Store anything\n",
    "Must All be the same type | Store any type"
   ]
  },
  {
   "cell_type": "code",
   "execution_count": 16,
   "metadata": {},
   "outputs": [
    {
     "name": "stdout",
     "output_type": "stream",
     "text": [
      "4\n",
      "['Pretty Rabbit', 'Chizao', 'Big Dog', 98]\n",
      "['Pretty Rabbit', 'Chizao', 'Big Dog']\n",
      "['Big Dog', 'Chizao', 'Pretty Rabbit']\n",
      "['Pretty Rabbit', 'Chizao', 'Big Dog']\n",
      "['Big Dog', 'Chizao', 'Pretty Rabbit']\n",
      "['Big Dog', 'Chizao']\n",
      "['Pretty Rabbit']\n",
      "['Big Dog']\n",
      "Pretty Rabbit\n",
      "['Pretty Rabbit']\n"
     ]
    }
   ],
   "source": [
    "names = ['Pretty Rabbit', 'Big Dog']\n",
    "names.append(98)\n",
    "# Insert before index\n",
    "names.insert(1, 'Chizao')\n",
    "print(len(names))\n",
    "print(names)\n",
    "# sort() is not supported between instances of 'int' and 'str'\n",
    "# names.sort()\n",
    "# remove first occurance of value\n",
    "names.remove(98) \n",
    "print(names)\n",
    "# sort but don't change the list\n",
    "print(sorted(names))\n",
    "print(names)\n",
    "# sort and change the indexs of the list\n",
    "names.sort()\n",
    "print(names)\n",
    "# start:step:end(not included)\n",
    "print(names[0:2])\n",
    "print(names[2:3])\n",
    "print(names[0:2:4])\n",
    "# not list\n",
    "print(names[2])\n",
    "# list with one element\n",
    "print(names[2:3])"
   ]
  },
  {
   "cell_type": "code",
   "execution_count": 23,
   "metadata": {},
   "outputs": [
    {
     "name": "stdout",
     "output_type": "stream",
     "text": [
      "array('d', [99.0, 96.0, 77.0])\n",
      "96.0\n",
      "array('d', [99.0, 96.0])\n",
      "array('d', [99.0, 96.0, 77.0, 99.0])\n",
      "array('d', [96.0, 77.0, 99.0])\n"
     ]
    }
   ],
   "source": [
    "from array import array\n",
    "# 'd' present digits(float)\n",
    "scores = array('d')\n",
    "scores.append(99)\n",
    "scores.append(96)\n",
    "scores.append(77)\n",
    "print(scores)\n",
    "print(scores[1])\n",
    "print(scores[0:2])\n",
    "scores.insert(3,99)\n",
    "# 'array.array' object has no attribute 'sort'\n",
    "# scores.sort()\n",
    "print(scores)\n",
    "scores.remove(99)\n",
    "print(scores)"
   ]
  },
  {
   "cell_type": "markdown",
   "metadata": {},
   "source": [
    "**Dictionaries vs Lists**"
   ]
  },
  {
   "cell_type": "markdown",
   "metadata": {},
   "source": [
    "**Dictionaries** | **Lists**\n",
    "-- | --\n",
    "*Key-value* pairs guaruantee you can name the items   |  number indexed\n",
    "don't need to remember the order to find a item | find items by indexes\n",
    "no order | guaruantee the order of the items to be fixed"
   ]
  },
  {
   "cell_type": "code",
   "execution_count": 28,
   "metadata": {},
   "outputs": [
    {
     "name": "stdout",
     "output_type": "stream",
     "text": [
      "{'first': 'Chi', 'last': 'Zao'}\n",
      "Chi\n"
     ]
    }
   ],
   "source": [
    "person = {'first': 'Chi'}\n",
    "person['last']='Zao'\n",
    "print(person)\n",
    "print(person['first'])"
   ]
  },
  {
   "cell_type": "markdown",
   "metadata": {},
   "source": [
    "***之后团建爬山去辣!***"
   ]
  }
 ],
 "metadata": {
  "kernelspec": {
   "display_name": "Python 3",
   "language": "python",
   "name": "python3"
  },
  "language_info": {
   "codemirror_mode": {
    "name": "ipython",
    "version": 3
   },
   "file_extension": ".py",
   "mimetype": "text/x-python",
   "name": "python",
   "nbconvert_exporter": "python",
   "pygments_lexer": "ipython3",
   "version": "3.6.8"
  }
 },
 "nbformat": 4,
 "nbformat_minor": 4
}
