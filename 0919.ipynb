{
 "cells": [
  {
   "cell_type": "markdown",
   "metadata": {},
   "source": [
    "## **昨天没走完**，今天继续根据PyTorch教程中的60min Blitz走一遭\n",
    "#### *结果今天摸了一整天的🐟*"
   ]
  },
  {
   "cell_type": "code",
   "execution_count": 2,
   "metadata": {},
   "outputs": [],
   "source": [
    "%reload_ext autoreload\n",
    "%autoreload 2\n",
    "%matplotlib inline"
   ]
  },
  {
   "cell_type": "markdown",
   "metadata": {},
   "source": [
    "### What is PyTorch?\n",
    "#### Operations"
   ]
  },
  {
   "cell_type": "markdown",
   "metadata": {},
   "source": [
    "from \\_\\_future__ import print_function 使得在Python 2中print函数也得加（）"
   ]
  },
  {
   "cell_type": "code",
   "execution_count": 5,
   "metadata": {},
   "outputs": [],
   "source": [
    "from __future__ import print_function\n",
    "import torch"
   ]
  },
  {
   "cell_type": "markdown",
   "metadata": {},
   "source": [
    "torch.view: *resize/reshape tensor*, 参数-1表示该参数由维度推断得来"
   ]
  },
  {
   "cell_type": "code",
   "execution_count": 8,
   "metadata": {
    "collapsed": true,
    "jupyter": {
     "outputs_hidden": true
    }
   },
   "outputs": [
    {
     "name": "stdout",
     "output_type": "stream",
     "text": [
      "tensor([[ 0.1815, -0.6658, -0.1449,  0.9833],\n",
      "        [ 0.3941, -0.3346,  0.9866, -0.3663],\n",
      "        [ 0.5880,  0.0405,  0.0253,  1.5809],\n",
      "        [-0.3907,  0.3668,  0.8283,  0.3876]])\n",
      "tensor([ 0.1815, -0.6658, -0.1449,  0.9833,  0.3941, -0.3346,  0.9866, -0.3663,\n",
      "         0.5880,  0.0405,  0.0253,  1.5809, -0.3907,  0.3668,  0.8283,  0.3876])\n",
      "tensor([[ 0.1815, -0.6658, -0.1449,  0.9833,  0.3941, -0.3346,  0.9866, -0.3663],\n",
      "        [ 0.5880,  0.0405,  0.0253,  1.5809, -0.3907,  0.3668,  0.8283,  0.3876]])\n",
      "tensor([[ 0.1815, -0.6658, -0.1449,  0.9833,  0.3941, -0.3346,  0.9866, -0.3663,\n",
      "          0.5880,  0.0405,  0.0253,  1.5809, -0.3907,  0.3668,  0.8283,  0.3876]])\n"
     ]
    }
   ],
   "source": [
    "x=torch.randn(4,4)\n",
    "y=x.view(16)\n",
    "z=x.view(-1,8)\n",
    "t=x.view(1,-1)\n",
    "print(x)\n",
    "print(y)\n",
    "print(z)\n",
    "print(t)"
   ]
  },
  {
   "cell_type": "code",
   "execution_count": 11,
   "metadata": {},
   "outputs": [
    {
     "name": "stdout",
     "output_type": "stream",
     "text": [
      "torch.Size([2, 3, 4]) torch.Size([3, 2, 4])\n"
     ]
    }
   ],
   "source": [
    "m=torch.randn(2,3,4)\n",
    "n=m.view(-1,2,4)\n",
    "print(m.size(), n.size())"
   ]
  },
  {
   "cell_type": "markdown",
   "metadata": {},
   "source": [
    "对于只有一个元素的tensor，使用.item()可以获取该元素的值"
   ]
  },
  {
   "cell_type": "code",
   "execution_count": 16,
   "metadata": {},
   "outputs": [
    {
     "name": "stdout",
     "output_type": "stream",
     "text": [
      "tensor([1.2182])\n",
      "1.218241572380066\n"
     ]
    }
   ],
   "source": [
    "x=torch.randn(1)\n",
    "print(x)\n",
    "print(x.item())"
   ]
  },
  {
   "cell_type": "code",
   "execution_count": 17,
   "metadata": {},
   "outputs": [
    {
     "name": "stdout",
     "output_type": "stream",
     "text": [
      "tensor(-0.4541)\n",
      "-0.45413321256637573\n"
     ]
    }
   ],
   "source": [
    "y=torch.randn(2,4)\n",
    "print(y[1,3])\n",
    "print(y[1,3].item())"
   ]
  },
  {
   "cell_type": "markdown",
   "metadata": {},
   "source": [
    "#### Numpy Bridge"
   ]
  },
  {
   "cell_type": "markdown",
   "metadata": {},
   "source": [
    "Torch tensor与numpy array共享底层内存地址（*如果torch tensor位于CPU*），修改一个将会导致另一个变化"
   ]
  },
  {
   "cell_type": "markdown",
   "metadata": {},
   "source": [
    "将torch tensor转换为numpy array"
   ]
  },
  {
   "cell_type": "code",
   "execution_count": 21,
   "metadata": {},
   "outputs": [
    {
     "name": "stdout",
     "output_type": "stream",
     "text": [
      "tensor([1., 1., 1., 1., 1.])\n",
      "[1. 1. 1. 1. 1.]\n"
     ]
    }
   ],
   "source": [
    "a=torch.ones(5)\n",
    "print(a)\n",
    "b=a.numpy()\n",
    "print(b)"
   ]
  },
  {
   "cell_type": "markdown",
   "metadata": {},
   "source": [
    "修改其中一个会导致另一个变化"
   ]
  },
  {
   "cell_type": "code",
   "execution_count": 22,
   "metadata": {},
   "outputs": [
    {
     "name": "stdout",
     "output_type": "stream",
     "text": [
      "tensor([3., 3., 3., 3., 3.])\n",
      "[3. 3. 3. 3. 3.]\n"
     ]
    }
   ],
   "source": [
    "a.add_(2)\n",
    "print(a)\n",
    "print(b)"
   ]
  },
  {
   "cell_type": "markdown",
   "metadata": {},
   "source": [
    "将numpy array转换为torch tensor"
   ]
  },
  {
   "cell_type": "code",
   "execution_count": 24,
   "metadata": {},
   "outputs": [
    {
     "name": "stdout",
     "output_type": "stream",
     "text": [
      "[3. 3. 3. 3.]\n",
      "tensor([3., 3., 3., 3.], dtype=torch.float64)\n"
     ]
    }
   ],
   "source": [
    "import numpy as np\n",
    "a=np.zeros(4)\n",
    "b=torch.from_numpy(a)\n",
    "np.add(a,3,out=a)\n",
    "print(a)\n",
    "print(b)\n"
   ]
  },
  {
   "cell_type": "markdown",
   "metadata": {},
   "source": [
    "#### CUDA Tensors\n",
    "可以利用.to方法将tensors移动到如何device"
   ]
  },
  {
   "cell_type": "code",
   "execution_count": 48,
   "metadata": {},
   "outputs": [
    {
     "name": "stdout",
     "output_type": "stream",
     "text": [
      "tensor([[2, 2, 2],\n",
      "        [2, 2, 2]], device='cuda:0')\n",
      "tensor([[2., 2., 2.],\n",
      "        [2., 2., 2.]], dtype=torch.float64)\n"
     ]
    }
   ],
   "source": [
    "# 使用torch.device对象将tensor移入或移出GPU\n",
    "if torch.cuda.is_available():\n",
    "    device = torch.device(\"cuda\") #device是一个torch.device对象\n",
    "    y = torch.ones_like(x,device=device) # 直接在GPU创建tensor\n",
    "    x = x.to(device) # 或者直接用to(\"cuda\")\n",
    "    z = x + y\n",
    "#     a = torch.randn(1)\n",
    "#     s = a + y\n",
    "#     直接将cpu中的tensor与gpu中的tensor会报错\n",
    "#     报错内容:expected device cpu and dtype Float but got device cuda:0 and dtype Long\n",
    "#     因为_th_normal_ not supported on CPUType for Long\n",
    "    print(z)\n",
    "    print(z.to(\"cpu\", torch.double)) # .to方法也能同时改变dtype\n",
    "#     print(s)\n",
    "#     print(s.to(\"cuda\"))\n",
    "#     print(s.to(\"cpu\"))"
   ]
  }
 ],
 "metadata": {
  "kernelspec": {
   "display_name": "Python 3",
   "language": "python",
   "name": "python3"
  },
  "language_info": {
   "codemirror_mode": {
    "name": "ipython",
    "version": 3
   },
   "file_extension": ".py",
   "mimetype": "text/x-python",
   "name": "python",
   "nbconvert_exporter": "python",
   "pygments_lexer": "ipython3",
   "version": "3.7.3"
  }
 },
 "nbformat": 4,
 "nbformat_minor": 4
}
